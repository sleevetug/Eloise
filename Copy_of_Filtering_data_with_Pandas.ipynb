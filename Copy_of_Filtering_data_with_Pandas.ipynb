{
  "nbformat": 4,
  "nbformat_minor": 0,
  "metadata": {
    "colab": {
      "name": "Copy of Filtering_data_with_Pandas.ipynb",
      "provenance": [],
      "collapsed_sections": [],
      "include_colab_link": true
    },
    "kernelspec": {
      "name": "python3",
      "display_name": "Python 3"
    },
    "language_info": {
      "name": "python"
    }
  },
  "cells": [
    {
      "cell_type": "markdown",
      "metadata": {
        "id": "view-in-github",
        "colab_type": "text"
      },
      "source": [
        "<a href=\"https://colab.research.google.com/github/sleevetug/Eloise/blob/main/Copy_of_Filtering_data_with_Pandas.ipynb\" target=\"_parent\"><img src=\"https://colab.research.google.com/assets/colab-badge.svg\" alt=\"Open In Colab\"/></a>"
      ]
    },
    {
      "cell_type": "markdown",
      "source": [
        "# Filtering dataframe data\n",
        "\n",
        "Interrogating dataframes\n",
        "---\n",
        "\n",
        "*   single column: `dataframe['column']`\n",
        "*   multiple columns: `dataframe[['column1', 'column2']]`\n",
        "*   filter rows by condition \t`df[df[column] = condition]`  \n",
        "*   filter by multiple conditions where both are true (AND)\t`df[(df[column] = condition1) & (df[column] = condition2)]`  \n",
        "*   filter by multiple conditions where one or other are true (OR)\t`df[(df[column] = condition1)  | (df[column] = condition2)]`  \n",
        "\n",
        "### Useful Functions\n",
        "\n",
        "---\n",
        "\n",
        "`head()`: will show the first 5 rows of the dataframe.  \n",
        "`tail()`: same as head() but for the last 5 rows.  \n",
        "`len()`: will show the length.  \n",
        "`mode()`: will show the most common value in column.  \n",
        "`mean()`: will show the average of the column.  \n",
        "`sort_values()`: will sort the dataframe.\n",
        "\n",
        "\n",
        "\n"
      ],
      "metadata": {
        "id": "3HT6psayWFCc"
      }
    },
    {
      "cell_type": "markdown",
      "source": [
        "## Table Imports & Table Content \n",
        "\n",
        "---\n",
        "\n",
        "Running the code below will display table content of all 3 tables. Use this to easily find colum names from specific tables."
      ],
      "metadata": {
        "id": "szKiU-timLdN"
      }
    },
    {
      "cell_type": "code",
      "source": [
        "import pandas as pd\n",
        "\n",
        "skill_migration = pd.read_excel('https://github.com/futureCodersSE/working-with-data/blob/main/Data%20sets/public_use-talent-migration.xlsx?raw=true', \"Skill Migration\")\n",
        "industry_migration = pd.read_excel('https://github.com/futureCodersSE/working-with-data/blob/main/Data%20sets/public_use-talent-migration.xlsx?raw=true', \"Industry Migration\")\n",
        "country_migration = pd.read_excel('https://github.com/futureCodersSE/working-with-data/blob/main/Data%20sets/public_use-talent-migration.xlsx?raw=true', \"Country Migration\")\n",
        "\n",
        "def get_summary(df):\n",
        "  display(df.info())\n",
        "\n",
        "get_summary(skill_migration)\n",
        "get_summary(industry_migration)\n",
        "get_summary(country_migration)"
      ],
      "metadata": {
        "id": "ZG_96PAAhaVY",
        "colab": {
          "base_uri": "https://localhost:8080/",
          "height": 1000
        },
        "outputId": "a4123c11-eed2-4ed0-c7cc-5f8d0c420418"
      },
      "execution_count": 1,
      "outputs": [
        {
          "output_type": "stream",
          "name": "stdout",
          "text": [
            "<class 'pandas.core.frame.DataFrame'>\n",
            "RangeIndex: 17617 entries, 0 to 17616\n",
            "Data columns (total 12 columns):\n",
            " #   Column                Non-Null Count  Dtype  \n",
            "---  ------                --------------  -----  \n",
            " 0   country_code          17617 non-null  object \n",
            " 1   country_name          17617 non-null  object \n",
            " 2   wb_income             17617 non-null  object \n",
            " 3   wb_region             17617 non-null  object \n",
            " 4   skill_group_id        17617 non-null  int64  \n",
            " 5   skill_group_category  17617 non-null  object \n",
            " 6   skill_group_name      17617 non-null  object \n",
            " 7   net_per_10K_2015      17617 non-null  float64\n",
            " 8   net_per_10K_2016      17617 non-null  float64\n",
            " 9   net_per_10K_2017      17617 non-null  float64\n",
            " 10  net_per_10K_2018      17617 non-null  float64\n",
            " 11  net_per_10K_2019      17617 non-null  float64\n",
            "dtypes: float64(5), int64(1), object(6)\n",
            "memory usage: 1.6+ MB\n"
          ]
        },
        {
          "output_type": "display_data",
          "data": {
            "text/plain": [
              "None"
            ]
          },
          "metadata": {}
        },
        {
          "output_type": "stream",
          "name": "stdout",
          "text": [
            "<class 'pandas.core.frame.DataFrame'>\n",
            "RangeIndex: 5295 entries, 0 to 5294\n",
            "Data columns (total 13 columns):\n",
            " #   Column              Non-Null Count  Dtype  \n",
            "---  ------              --------------  -----  \n",
            " 0   country_code        5295 non-null   object \n",
            " 1   country_name        5295 non-null   object \n",
            " 2   wb_income           5295 non-null   object \n",
            " 3   wb_region           5295 non-null   object \n",
            " 4   isic_section_index  5295 non-null   object \n",
            " 5   isic_section_name   5295 non-null   object \n",
            " 6   industry_id         5295 non-null   int64  \n",
            " 7   industry_name       5295 non-null   object \n",
            " 8   net_per_10K_2015    5295 non-null   float64\n",
            " 9   net_per_10K_2016    5295 non-null   float64\n",
            " 10  net_per_10K_2017    5295 non-null   float64\n",
            " 11  net_per_10K_2018    5295 non-null   float64\n",
            " 12  net_per_10K_2019    5295 non-null   float64\n",
            "dtypes: float64(5), int64(1), object(7)\n",
            "memory usage: 537.9+ KB\n"
          ]
        },
        {
          "output_type": "display_data",
          "data": {
            "text/plain": [
              "None"
            ]
          },
          "metadata": {}
        },
        {
          "output_type": "stream",
          "name": "stdout",
          "text": [
            "<class 'pandas.core.frame.DataFrame'>\n",
            "RangeIndex: 4148 entries, 0 to 4147\n",
            "Data columns (total 17 columns):\n",
            " #   Column                    Non-Null Count  Dtype  \n",
            "---  ------                    --------------  -----  \n",
            " 0   base_country_code         4148 non-null   object \n",
            " 1   base_country_name         4148 non-null   object \n",
            " 2   base_lat                  4148 non-null   float64\n",
            " 3   base_long                 4148 non-null   float64\n",
            " 4   base_country_wb_income    4148 non-null   object \n",
            " 5   base_country_wb_region    4148 non-null   object \n",
            " 6   target_country_code       4148 non-null   object \n",
            " 7   target_country_name       4148 non-null   object \n",
            " 8   target_lat                4148 non-null   float64\n",
            " 9   target_long               4148 non-null   float64\n",
            " 10  target_country_wb_income  4148 non-null   object \n",
            " 11  target_country_wb_region  4148 non-null   object \n",
            " 12  net_per_10K_2015          4148 non-null   float64\n",
            " 13  net_per_10K_2016          4148 non-null   float64\n",
            " 14  net_per_10K_2017          4148 non-null   float64\n",
            " 15  net_per_10K_2018          4148 non-null   float64\n",
            " 16  net_per_10K_2019          4148 non-null   float64\n",
            "dtypes: float64(9), object(8)\n",
            "memory usage: 551.0+ KB\n"
          ]
        },
        {
          "output_type": "display_data",
          "data": {
            "text/plain": [
              "None"
            ]
          },
          "metadata": {}
        }
      ]
    },
    {
      "cell_type": "markdown",
      "source": [
        "# Exercise 1\n",
        "\n",
        "---\n",
        "\\\n",
        "Write your code inside the function below to:\n",
        "- Find all `High income` countries using the `wb_income` column.\n",
        "- Return the length of rows."
      ],
      "metadata": {
        "id": "fL-D9LkmNr9g"
      }
    },
    {
      "cell_type": "code",
      "source": [
        "import pandas as pd\n",
        "\n",
        "skill_migration = pd.read_excel('https://github.com/futureCodersSE/working-with-data/blob/main/Data%20sets/public_use-talent-migration.xlsx?raw=true', \"Skill Migration\")\n",
        "\n",
        "def filter_income(df):\n",
        "  # add code below to find the high income countries using the wb_income column\n",
        "\n",
        "     return len(df[df['wb_income'] == 'High income'])\n",
        "\n",
        "#run test to see if you are getting the correct row length\n",
        "actual = filter_income(skill_migration)\n",
        "expected = 8904\n",
        "\n",
        "if actual == expected:\n",
        "  print(\"Test passed!\\nExpected: {}\\nActual: {}\".format(expected, actual))\n",
        "else:\n",
        "  print(\"Test failed!\\nExpected: {}\\nActual: {}\".format(expected, actual))"
      ],
      "metadata": {
        "id": "IHHR1T1kOZmq",
        "colab": {
          "base_uri": "https://localhost:8080/"
        },
        "outputId": "8052bcb8-1e56-490a-e529-ca803142ed10"
      },
      "execution_count": 2,
      "outputs": [
        {
          "output_type": "stream",
          "name": "stdout",
          "text": [
            "Test passed!\n",
            "Expected: 8904\n",
            "Actual: 8904\n"
          ]
        }
      ]
    },
    {
      "cell_type": "markdown",
      "source": [
        "# Exercise 2\n",
        "\n",
        "---\n",
        "\\\n",
        "Write your code inside the function below to:\n",
        "- Find all rows that have a `skill_group_category` equal to `skill`.\n",
        "- Return the country that shows up the most in `country_name`."
      ],
      "metadata": {
        "id": "rO3uDHEEPhIp"
      }
    },
    {
      "cell_type": "code",
      "source": [
        "import pandas as pd\n",
        "\n",
        "skill_migration = pd.read_excel('https://github.com/futureCodersSE/working-with-data/blob/main/Data%20sets/public_use-talent-migration.xlsx?raw=true', \"Skill Migration\")\n",
        "\n",
        "def filter_skills(df, skill):\n",
        "  # add code below to find all rows that have the skill 'skill'\n",
        "\n",
        "    df = df[(df['skill_group_category'] == skill)]\n",
        "    return df['country_name'].mode()\n",
        "\n",
        "#run test to see if you are getting the most frequent country name\n",
        "tests = [\n",
        "    { \"id\": 1, \"actual\": filter_skills(skill_migration, \"Tech Skills\")[0], \"expected\": \"Australia\" },\n",
        "    { \"id\": 2, \"actual\": filter_skills(skill_migration, \"Business Skills\")[0], \"expected\": \"Australia\" },\n",
        "    { \"id\": 3, \"actual\": filter_skills(skill_migration, \"Specialized Industry Skills\")[0], \"expected\": \"United Kingdom\" }\n",
        "]\n",
        "\n",
        "for test in tests: \n",
        "  if test[\"actual\"] == test[\"expected\"]:\n",
        "    print(\"Test {} passed!\\nExpected: {}\\nActual: {}\\n\".format(test[\"id\"], test[\"expected\"], test[\"actual\"]))\n",
        "  else:\n",
        "    print(\"Test {} failed!\\nExpected: {}\\nActual: {}\\n\".format(test[\"id\"], test[\"expected\"], test[\"actual\"]))"
      ],
      "metadata": {
        "id": "aYfnMp0RQ4Dr",
        "colab": {
          "base_uri": "https://localhost:8080/"
        },
        "outputId": "1cbcbc11-7f27-40dc-f15b-3a57fe40efd8"
      },
      "execution_count": 3,
      "outputs": [
        {
          "output_type": "stream",
          "name": "stdout",
          "text": [
            "Test 1 passed!\n",
            "Expected: Australia\n",
            "Actual: Australia\n",
            "\n",
            "Test 2 passed!\n",
            "Expected: Australia\n",
            "Actual: Australia\n",
            "\n",
            "Test 3 passed!\n",
            "Expected: United Kingdom\n",
            "Actual: United Kingdom\n",
            "\n"
          ]
        }
      ]
    },
    {
      "cell_type": "markdown",
      "source": [
        "# Exercise 3\n",
        "\n",
        "---\n",
        "\\\n",
        "Write your code inside the function below to:\n",
        "- Find all `skill_group_id` with the id `2265` that have a `net_per_10K_2019` greater than `-500`.\n",
        "- Sort the rows in ascending order based on `net_per_10K_2019` and return the first 5 rows."
      ],
      "metadata": {
        "id": "hs4N75oOQ5vy"
      }
    },
    {
      "cell_type": "code",
      "source": [
        "import pandas as pd\n",
        "\n",
        "skill_migration = pd.read_excel('https://github.com/futureCodersSE/working-with-data/blob/main/Data%20sets/public_use-talent-migration.xlsx?raw=true', \"Skill Migration\")\n",
        "\n",
        "def filter_skill_id(df):\n",
        "  # add code below to find skill id 2265 with greater than -500 migration\n",
        "\n",
        "\n",
        "    df = df[(df['skill_group_id'] == 2265) & (df['net_per_10K_2019'] > -500)]\n",
        "    return df.sort_values(by = [\"net_per_10K_2019\"], ascending = True).head()\n",
        "\n",
        "#run test to see if you are getting the correct first row and only returning 5 items\n",
        "filtered_df = filter_skill_id(skill_migration)\n",
        "actual1 = filtered_df.index[0]\n",
        "expected1 = 14550\n",
        "actual2 = len(filtered_df)\n",
        "expected2 = 5\n",
        "\n",
        "if actual1 == expected1 and actual2 == expected2:\n",
        "  print(\"Test passed!\\nExpected: {} & {}\\nActual: {} & {}\".format(expected1, expected2, actual1, actual2))\n",
        "else:\n",
        "  print(\"Test failed!\\nExpected: {} & {}\\nActual: {} & {}\".format(expected1, expected2, actual1, actual2))"
      ],
      "metadata": {
        "id": "eYuGy4UXQ4um",
        "colab": {
          "base_uri": "https://localhost:8080/"
        },
        "outputId": "b8610634-7381-408a-e679-8c94959ae2ce"
      },
      "execution_count": 4,
      "outputs": [
        {
          "output_type": "stream",
          "name": "stdout",
          "text": [
            "Test passed!\n",
            "Expected: 14550 & 5\n",
            "Actual: 14550 & 5\n"
          ]
        }
      ]
    },
    {
      "cell_type": "markdown",
      "source": [
        "# Exercise 4\n",
        "\n",
        "---\n",
        "\\\n",
        "Write your code inside the function below to:\n",
        "- Find all rows with a `net_per_10K_2019` less than the parsed `amount` parameter.\n",
        "- Return the length of rows.\n",
        "\n",
        "*(hint: amount is a parameter representing a parsed number when the function is called, use it within the function like a variable)*"
      ],
      "metadata": {
        "id": "br8aWPZvRnhA"
      }
    },
    {
      "cell_type": "code",
      "source": [
        "import pandas as pd\n",
        "\n",
        "country_migration = pd.read_excel('https://github.com/futureCodersSE/working-with-data/blob/main/Data%20sets/public_use-talent-migration.xlsx?raw=true', \"Country Migration\")\n",
        "\n",
        "def filter_net_per_10k(df, amount):\n",
        "  # add code below to find all the rows which are less than the `amount` parameter\n",
        "\n",
        "    df = df[(df['net_per_10K_2019'] < amount)]\n",
        "    return len(df)\n",
        "  \n",
        "#run test to see if you are getting the correct first row and only returning 5 items\n",
        "tests = [\n",
        "    { \"id\": 1, \"actual\": filter_net_per_10k(country_migration, 100), \"expected\": 4148 },\n",
        "    { \"id\": 2, \"actual\": filter_net_per_10k(country_migration, 0), \"expected\": 1980 },\n",
        "    { \"id\": 3, \"actual\": filter_net_per_10k(country_migration, -100), \"expected\": 0 }\n",
        "]\n",
        "\n",
        "for test in tests: \n",
        "  if test[\"actual\"] == test[\"expected\"]:\n",
        "    print(\"Test {} passed!\\nExpected: {}\\nActual: {}\\n\".format(test[\"id\"], test[\"expected\"], test[\"actual\"]))\n",
        "  else:\n",
        "    print(\"Test {} failed!\\nExpected: {}\\nActual: {}\\n\".format(test[\"id\"], test[\"expected\"], test[\"actual\"]))"
      ],
      "metadata": {
        "id": "6qL6UNVBRo80",
        "colab": {
          "base_uri": "https://localhost:8080/"
        },
        "outputId": "76c0e8ed-35ea-47bb-d675-8ef81c1d5746"
      },
      "execution_count": 5,
      "outputs": [
        {
          "output_type": "stream",
          "name": "stdout",
          "text": [
            "Test 1 passed!\n",
            "Expected: 4148\n",
            "Actual: 4148\n",
            "\n",
            "Test 2 passed!\n",
            "Expected: 1980\n",
            "Actual: 1980\n",
            "\n",
            "Test 3 passed!\n",
            "Expected: 0\n",
            "Actual: 0\n",
            "\n"
          ]
        }
      ]
    },
    {
      "cell_type": "markdown",
      "source": [
        "# Exercise 5\n",
        "\n",
        "---\n",
        "\\\n",
        "Write your code inside the function below to:\n",
        "- Find all rows that have a `net_per_10K_2015` & `net_per_10K_2016` greater than `50`.\n",
        "- Return the length of rows"
      ],
      "metadata": {
        "id": "lFXbG6c2SUik"
      }
    },
    {
      "cell_type": "code",
      "source": [
        "import pandas as pd\n",
        "\n",
        "country_migration = pd.read_excel('https://github.com/futureCodersSE/working-with-data/blob/main/Data%20sets/public_use-talent-migration.xlsx?raw=true', \"Country Migration\")\n",
        "\n",
        "def filter_two_net(df):\n",
        "  # add code below to find rows which have migration in 2015 & 2016 greater than 50\n",
        "\n",
        "    df = df[(df['net_per_10K_2015'] > 50) & (df['net_per_10K_2016'] > 50)]\n",
        "    return len(df)\n",
        "\n",
        "#run test to see if you are getting the correct length of rows\n",
        "actual = filter_two_net(country_migration)\n",
        "expected = 3\n",
        "\n",
        "if actual == expected:\n",
        "  print(\"Test passed!\\nExpected: {}\\nActual: {}\".format(expected, actual))\n",
        "else:\n",
        "  print(\"Test failed!\\nExpected: {}\\nActual: {}\".format(expected, actual))"
      ],
      "metadata": {
        "id": "CxfijlHGSW60",
        "colab": {
          "base_uri": "https://localhost:8080/"
        },
        "outputId": "0370058e-53fe-48b9-9df2-32e8666a10c5"
      },
      "execution_count": 6,
      "outputs": [
        {
          "output_type": "stream",
          "name": "stdout",
          "text": [
            "Test passed!\n",
            "Expected: 3\n",
            "Actual: 3\n"
          ]
        }
      ]
    },
    {
      "cell_type": "markdown",
      "source": [
        "# Exercise 6\n",
        "\n",
        "---\n",
        "\\\n",
        "Write your code inside the function below to:\n",
        "- Find all migrations from countries with `Low Income` to countries with `Upper Middle Income`.\n",
        "- Find all rows which move to the same region via `base_country_wb_region` & `target_country_wb_region` then display the number of rows."
      ],
      "metadata": {
        "id": "OJuBYhzaS3r1"
      }
    },
    {
      "cell_type": "code",
      "source": [
        "import pandas as pd\n",
        "\n",
        "country_migration = pd.read_excel('https://github.com/futureCodersSE/working-with-data/blob/main/Data%20sets/public_use-talent-migration.xlsx?raw=true', \"Country Migration\")\n",
        "\n",
        "def filter_two_income(df):\n",
        "  # add code below to find all rows of migration from low income to upper middle income \n",
        "  #and the number of rows where migration was to the same regiion\n",
        "\n",
        "    df1 = df[(df['base_country_wb_income'] == 'Low Income') & (df['target_country_wb_income'] == 'Upper Middle Income')]\n",
        "    df = df1[(df1['base_country_wb_region']) == (df1['target_country_wb_region'])]\n",
        "    return len(df)\n",
        "\n",
        "#run test to see if you are getting the correct first length of rows\n",
        "actual = filter_two_income(country_migration)\n",
        "expected = 15\n",
        "\n",
        "if actual == expected:\n",
        "  print(\"Test passed!\\nExpected: {}\\nActual: {}\".format(expected, actual))\n",
        "else:\n",
        "  print(\"Test failed!\\nExpected: {}\\nActual: {}\".format(expected, actual))\n",
        "\n",
        "#df.sort_values(by = [\"Make\", \"Model\"], ascending = False])[[\"Make\", \"Model\"]].head()\n",
        "#filter by multiple conditions where one or other are true (OR) df[(df[column] = condition1) | (df[column] = condition2)]"
      ],
      "metadata": {
        "id": "Wq0i2dCYTPxE",
        "colab": {
          "base_uri": "https://localhost:8080/"
        },
        "outputId": "23e18d59-48c3-407a-ad52-29272da9179e"
      },
      "execution_count": 27,
      "outputs": [
        {
          "output_type": "stream",
          "name": "stdout",
          "text": [
            "Test passed!\n",
            "Expected: 15\n",
            "Actual: 15\n"
          ]
        }
      ]
    },
    {
      "cell_type": "markdown",
      "source": [
        "# Exercise 7\n",
        "\n",
        "---\n",
        "\\\n",
        "Write your code inside the function below to:\n",
        "- Find all `isic_section_index` with `M` that are in `industry_name` of `Biotechnology`.\n",
        "- Return the number of rows."
      ],
      "metadata": {
        "id": "aDvp-O4LTXbp"
      }
    },
    {
      "cell_type": "code",
      "source": [
        "import pandas as pd\n",
        "\n",
        "industry_migration = pd.read_excel('https://github.com/futureCodersSE/working-with-data/blob/main/Data%20sets/public_use-talent-migration.xlsx?raw=true', \"Industry Migration\")\n",
        "\n",
        "def filter_industry(df):\n",
        "  # add code below to find all the rows from biotechnology industry and isic of M \n",
        "\n",
        "    df = df[(df['isic_section_index'] == 'M') & (df['industry_name'] == 'Biotechnology')]\n",
        "    return len(df)\n",
        "\n",
        "#run test to see if you are getting the correct length of rows\n",
        "actual = filter_industry(industry_migration)\n",
        "expected = 32\n",
        "\n",
        "if actual == expected:\n",
        "  print(\"Test passed!\\nExpected: {}\\nActual: {}\".format(expected, actual))\n",
        "else:\n",
        "  print(\"Test failed!\\nExpected: {}\\nActual: {}\".format(expected, actual))"
      ],
      "metadata": {
        "id": "n_V5moucTRnP",
        "colab": {
          "base_uri": "https://localhost:8080/"
        },
        "outputId": "4813a309-3779-46b7-e56c-23ea0203bda0"
      },
      "execution_count": 8,
      "outputs": [
        {
          "output_type": "stream",
          "name": "stdout",
          "text": [
            "Test passed!\n",
            "Expected: 32\n",
            "Actual: 32\n"
          ]
        }
      ]
    },
    {
      "cell_type": "markdown",
      "source": [
        "# Exercise 8\n",
        "\n",
        "---\n",
        "\\\n",
        "Write your code inside the function below to:\n",
        "- Find all `industry_name` with `Computer Software` that have a `wb_income` of `Low income`.\n",
        "- Sort the rows in descending order based on `net_per_10K_2015` and return the first 5 rows."
      ],
      "metadata": {
        "id": "Pu-V4x7oTXg3"
      }
    },
    {
      "cell_type": "code",
      "source": [
        "import pandas as pd\n",
        "\n",
        "industry_migration = pd.read_excel('https://github.com/futureCodersSE/working-with-data/blob/main/Data%20sets/public_use-talent-migration.xlsx?raw=true', \"Industry Migration\")\n",
        "\n",
        "def filter_industry_income(df):\n",
        "  # add code below to find Low Income Computer Software rows and sort in descending order returning first 5 \n",
        "\n",
        "    df = df[(df['industry_name'] == 'Computer Software') & (df['wb_income'] == 'Low income')]\n",
        "    return df.sort_values(by = [\"net_per_10K_2015\"], ascending = False).head()\n",
        "\n",
        "#run test to see if you are getting the correct first row and only returning 5 items\n",
        "filtered_df = filter_industry_income(industry_migration)\n",
        "actual1 = filtered_df.index[0]\n",
        "expected1 = 3699\n",
        "actual2 = len(filtered_df)\n",
        "expected2 = 1\n",
        "\n",
        "if actual1 == expected1 and actual2 == expected2:\n",
        "  print(\"Test passed!\\nExpected: {} & {}\\nActual: {} & {}\".format(expected1, expected2, actual1, actual2))\n",
        "else:\n",
        "  print(\"Test failed!\\nExpected: {} & {}\\nActual: {} & {}\".format(expected1, expected2, actual1, actual2))"
      ],
      "metadata": {
        "id": "WqVliNlGTWXV",
        "colab": {
          "base_uri": "https://localhost:8080/"
        },
        "outputId": "efac0f24-17d1-47a6-9d5c-cbe958b87512"
      },
      "execution_count": 9,
      "outputs": [
        {
          "output_type": "stream",
          "name": "stdout",
          "text": [
            "Test passed!\n",
            "Expected: 3699 & 1\n",
            "Actual: 3699 & 1\n"
          ]
        }
      ]
    },
    {
      "cell_type": "markdown",
      "source": [
        "# Exercise 9\n",
        "\n",
        "---\n",
        "\\\n",
        "Write your code inside the function below to:\n",
        "- Find all `country_name` that include `United States` or `United Kindom` aswell as having a `isic_section_index` with `M` included.\n",
        "- Return the average of `net_per_10K_2015`."
      ],
      "metadata": {
        "id": "O7o6mgU2TXl_"
      }
    },
    {
      "cell_type": "code",
      "source": [
        "import pandas as pd\n",
        "\n",
        "industry_migration = pd.read_excel('https://github.com/futureCodersSE/working-with-data/blob/main/Data%20sets/public_use-talent-migration.xlsx?raw=true', \"Industry Migration\")\n",
        "\n",
        "def filter_country(df):\n",
        "  # add code below to find all USA and UK rows which have ISIC of M and return mean migration in 2015\n",
        "\n",
        "    df = df[(df['country_name'] == 'United States') | (df['country_name'] == 'United Kindom') & (df['isic_section_index'] == 'M')]\n",
        "    return df[\"net_per_10K_2015\"].mean()\n",
        "\n",
        "#run test to see if you are getting the correct average\n",
        "actual = round(filter_country(industry_migration), 2)\n",
        "expected = 8.09\n",
        "\n",
        "if actual == expected:\n",
        "  print(\"Test passed!\\nExpected: {}\\nActual: {}\".format(expected, actual))\n",
        "else:\n",
        "  print(\"Test failed!\\nExpected: {}\\nActual: {}\".format(expected, actual))"
      ],
      "metadata": {
        "id": "izOkixeATWd_",
        "colab": {
          "base_uri": "https://localhost:8080/"
        },
        "outputId": "e4ffd5ab-3e6d-4a8c-b4f7-eb084ab41d9b"
      },
      "execution_count": 17,
      "outputs": [
        {
          "output_type": "stream",
          "name": "stdout",
          "text": [
            "Test passed!\n",
            "Expected: 8.09\n",
            "Actual: 8.09\n"
          ]
        }
      ]
    }
  ]
}