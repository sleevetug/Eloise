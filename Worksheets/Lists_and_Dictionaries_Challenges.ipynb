{
  "nbformat": 4,
  "nbformat_minor": 0,
  "metadata": {
    "colab": {
      "name": "Copy of Lists and Dictionaries Challenges.ipynb",
      "provenance": [],
      "collapsed_sections": [],
      "include_colab_link": true
    },
    "kernelspec": {
      "name": "python3",
      "display_name": "Python 3"
    },
    "language_info": {
      "name": "python"
    }
  },
  "cells": [
    {
      "cell_type": "markdown",
      "metadata": {
        "id": "view-in-github",
        "colab_type": "text"
      },
      "source": [
        "<a href=\"https://colab.research.google.com/github/sleevetug/Eloise/blob/main/Copy_of_Lists_and_Dictionaries_Challenges.ipynb\" target=\"_parent\"><img src=\"https://colab.research.google.com/assets/colab-badge.svg\" alt=\"Open In Colab\"/></a>"
      ]
    },
    {
      "cell_type": "markdown",
      "metadata": {
        "id": "nEJLJX3J9B2k"
      },
      "source": [
        "# Some challenges to help you become more confident with using Lists, Tuples and Dictionaries\n",
        "\n",
        "---\n",
        "\n"
      ]
    },
    {
      "cell_type": "markdown",
      "metadata": {
        "id": "JvV6htgh9Nc1"
      },
      "source": [
        "### Exercise 1 - extending a list\n",
        "\n",
        "There are three ways to extend a list in Python:  \n",
        "*  use `list_name.append(item)`, `list_name.insert(item)`\n",
        "*  concatenate two lists using the + operator (e.g. new_list = list1 + list2)\n",
        "*  use `list1_name.extend(list2_name)`\n",
        "\n",
        "The last method allows us to add all the `list2` items onto `list1` and for the new, extended list to now be `list1`.  `list2` will always be added to the end of `list1`.  \n",
        "\n",
        "If the objective is to add list2 before list1 then use `list2.extend(list1)`\n",
        "\n",
        "Write a function which will:  \n",
        "*  create a list of **years** containing the years 1960, 1970, 1980, 1990, 2000  \n",
        "*  print the list of years  \n",
        "*  calculate how long ago each year was and print the year and how long ago it was (e.g. 1990 was 30 years ago)  *(Hint:  use the datetime library to get the current year)*   \n",
        "*  create a second list, **years2** containing the years 2010 and 2020, extend `years` to include these later years\n",
        "*  create a third list, **years3** containing the years 1930, 1940 and 1950 and extend the list to include all the years between 1930 and 2020\n",
        "*  print the final list\n",
        "\n",
        "Expected output:  \n",
        "[1960, 1970, 1980, 1990]  \n",
        "1960 was 61 years ago  \n",
        "1970 was 51 years ago  \n",
        "1980 was 41 years ago  \n",
        "1990 was 31 years ago  \n",
        "2000 was 21 years ago  \n",
        "[1930, 1940, 1950, 1960, 1970, 1980, 1990, 2000, 2010, 2020] "
      ]
    },
    {
      "cell_type": "code",
      "metadata": {
        "id": "QAyTVqoO8-08",
        "colab": {
          "base_uri": "https://localhost:8080/"
        },
        "outputId": "ba9d55cc-2369-45e7-97a6-1801720c1211"
      },
      "source": [
        "from datetime import datetime                                                     #Importing datetime to be used within module\n",
        "def year_list():\n",
        "\n",
        "    years = [1960, 1970, 1980, 1990, 2000]                                        #Created first list containing years\n",
        "    print(years)\n",
        "\n",
        "    current_year = datetime.now().year                                            #Got the current year from datetime\n",
        "    for y in years:                                                               #For every year in the years list..\n",
        "      sum = current_year - y                                                      #..subtract the current year from the year in list\n",
        "      print(y,\"was\",sum,\"years ago.\")                                             #Print every year in the list with the relevant sum.\n",
        "\n",
        "    years2 = [2010, 2020]                                                         #Created second list containing new years\n",
        "    years.extend(years2)                                                          #Extended the origial years list with the second list added to the end\n",
        "\n",
        "    years3 = [1930, 1940, 1950]                                                   #Created third list containing new years\n",
        "    years3.extend(years)                                                          #Extended this list to contain the years list to the end\n",
        "    print(years3)                                                                 #Printed new list containing years from all three lists\n",
        "\n",
        "year_list()"
      ],
      "execution_count": 12,
      "outputs": [
        {
          "output_type": "stream",
          "name": "stdout",
          "text": [
            "[1960, 1970, 1980, 1990, 2000]\n",
            "1960 was 62 years ago.\n",
            "1970 was 52 years ago.\n",
            "1980 was 42 years ago.\n",
            "1990 was 32 years ago.\n",
            "2000 was 22 years ago.\n",
            "[1930, 1940, 1950, 1960, 1970, 1980, 1990, 2000, 2010, 2020]\n"
          ]
        }
      ]
    },
    {
      "cell_type": "markdown",
      "metadata": {
        "id": "S5iPicFzBzOW"
      },
      "source": [
        "---\n",
        "### Exercise 2 - creating a dictionary from a tuple and three lists\n",
        "\n",
        "Write a function which will create a list of dictionary items using the values in a tuple as the dictionary keys and the values in three corresponding lists as the dictionary values.\n",
        "\n",
        "*  loop through the status items in the tuple called task_status\n",
        "*  for each status, loop through the list with the same name (*Hint:  you can use eval(status) to access the list with the matching name  e.g. for task in eval(status)* )\n",
        "*  each time round this second loop, create a dictionary object with the  key:value pair {status : task}\n",
        "*  add each new dictionary to a list called **project_board** that was created as an empty list before the loops  \n",
        "*  print the project_board list\n",
        "\n",
        "Expected output:  \n",
        "\n",
        "[{'assigned': 'task1'}, {'assigned': 'task2'}, {'assigned': 'task3'}, {'inprogress': 'task4'}, {'inprogress': 'task5'}, {'inprogress': 'task6'}, {'completed': 'task7'}, {'completed': 'task8'}, {'completed': 'task9'}] \n",
        "\n"
      ]
    },
    {
      "cell_type": "code",
      "metadata": {
        "id": "KXYOSHY-C7m4",
        "colab": {
          "base_uri": "https://localhost:8080/"
        },
        "outputId": "6f0dc7e8-0d27-4dbc-f58a-b4b513ef650a"
      },
      "source": [
        "def create_project_board():\n",
        "\n",
        "    task_status = (\"assigned\", \"inprogress\", \"completed\")\n",
        "    assigned = ['task1','task2','task3']\n",
        "    inprogress = ['task4','task5','task6']\n",
        "    completed = ['task7','task8','task9']\n",
        "\n",
        "    project_board = []                                                            #Created empty list\n",
        "\n",
        "    for status in task_status:                                                    #Loops through every status in task_status tuple..\n",
        "      for task in eval(status):                                                   #For each status, loop through the list with the same name (eval) and:\n",
        "        project_board.append({status:task})                                       #Create dictionary objects with the Key Status and Value as Task (status:task) and append to project_board list created before loops\n",
        "\n",
        "    print(project_board)                                                          #Prints the project_board list.\n",
        "\n",
        "create_project_board()\n"
      ],
      "execution_count": 23,
      "outputs": [
        {
          "output_type": "stream",
          "name": "stdout",
          "text": [
            "[{'assigned': 'task1'}, {'assigned': 'task2'}, {'assigned': 'task3'}, {'inprogress': 'task4'}, {'inprogress': 'task5'}, {'inprogress': 'task6'}, {'completed': 'task7'}, {'completed': 'task8'}, {'completed': 'task9'}]\n"
          ]
        }
      ]
    },
    {
      "cell_type": "markdown",
      "metadata": {
        "id": "M1BuTu9p19Ma"
      },
      "source": [
        "---\n",
        "### Exercise 3 - names and heights\n",
        "\n",
        "Write a function which will allow a user to enter the names and heights of a set of people and add each set of information as a record (dictionary) to a list. The function will stop collecting names and heights when the user enters \"STOP\" as the name.\n",
        "\n",
        "Then, the function will:  \n",
        "\n",
        "*   produce a list of names in order of the shortest person to the tallest\n",
        "*   calculate the name of the tallest person\n",
        "*   calculate the name of the shortest person\n",
        "*   calculate the average height\n",
        "*   calculate the name of the person who is closest to the average height\n",
        "\n",
        "\n",
        "\n",
        "\n"
      ]
    },
    {
      "cell_type": "code",
      "metadata": {
        "id": "reuyww3e18uv",
        "colab": {
          "base_uri": "https://localhost:8080/"
        },
        "outputId": "e6627b9d-31bf-4d67-a9cc-e5edae88eeda"
      },
      "source": [
        "def user_info():\n",
        "\n",
        "    name =[]                                                                                    #Created empty name list\n",
        "    height = []                                                                                 #Created empty height list\n",
        "    \n",
        "    n = \"i\"\n",
        "    h = 0                                                                                       #Set's value to 0\n",
        "\n",
        "    while n != \"STOP\":                                                                          #While n (name) is not equal to \"STOP\"..\n",
        "      n = input(\"Please enter your name: \")                                                     #..user can input name\n",
        "\n",
        "      if n != \"STOP\":                                                                           #If n is not equal to \"STOP\"..\n",
        "        name.append(n)                                                                          #Append n to name list\n",
        "        h = int(input(\"Please enter your height in cm: \"))                                      #and allow user to input h (height)\n",
        "        height.append(h)                                                                        #Append h to height list\n",
        "    \n",
        "    user_info = dict(zip(name, height))                                                         #user_info = stores names and heights as keys:values in a new dictionary\n",
        "    average_height = sum(height) / len(height)                                                  #Calcualted average height by adding up all heights divided by length of height list\n",
        "\n",
        "    calculating_closest = lambda list_value : abs(list_value - average_height)                  #Calculating closest person to average height \n",
        "    closest_average = min(height, key=calculating_closest)                                      #closest_average = height - average height and finding the entry with the minimum number\n",
        "\n",
        "    for key, val in user_info.items():                                                          #For every key and value (paired) in user_info..\n",
        "      if val == closest_average:                                                                #..if value is equal to closest_average:\n",
        "        closest_name = key                                                                      #closest_name = the relating key to that value\n",
        "\n",
        "    sort_users = sorted(user_info.items(), key=lambda x: x[1])                                  #Sorts users by their height (shortest-tallest)\n",
        "  \n",
        "    list_of_users = []                                                                          #Created empty list to sort users into\n",
        "    for i in sort_users:\n",
        "        list_of_users.append(i[0])\n",
        "        list_of_users.append(i[1])\n",
        "    \n",
        "    print(list_of_users)                                                                        #Prints the sorted list of users starting with the shortest to tallest\n",
        "    print(\"Tallest person: \",list_of_users[-2])                                                 #Prints the tallest person of the list (-2 always = end name in list)\n",
        "    print(\"Shortest person: \",list_of_users[0])                                                 #Prints the shortest person of the list (0 always = first name in list)\n",
        "    print(\"Average height: \",average_height)                                                    #Prints average height result\n",
        "    print(\"The person closest to the average height is: \",closest_name)                         #Prints the name of the person with the closest height to average height\n",
        "\n",
        "user_info()"
      ],
      "execution_count": 67,
      "outputs": [
        {
          "output_type": "stream",
          "name": "stdout",
          "text": [
            "Please enter your name: Eloise\n",
            "Please enter your height in cm: 160\n",
            "Please enter your name: Lorna\n",
            "Please enter your height in cm: 157\n",
            "Please enter your name: Giyu\n",
            "Please enter your height in cm: 176\n",
            "Please enter your name: Nezuko\n",
            "Please enter your height in cm: 153\n",
            "Please enter your name: Uzui\n",
            "Please enter your height in cm: 198\n",
            "Please enter your name: Rengoku\n",
            "Please enter your height in cm: 177\n",
            "Please enter your name: STOP\n",
            "['Nezuko', 153, 'Lorna', 157, 'Eloise', 160, 'Giyu', 176, 'Rengoku', 177, 'Uzui', 198]\n",
            "Tallest person:  Uzui\n",
            "Shortest person:  Nezuko\n",
            "Average height:  170.16666666666666\n",
            "The person closest to the average height is:  Giyu\n"
          ]
        }
      ]
    }
  ]
}
