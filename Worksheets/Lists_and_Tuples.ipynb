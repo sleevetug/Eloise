{
  "nbformat": 4,
  "nbformat_minor": 0,
  "metadata": {
    "colab": {
      "name": "Copy of Lists and Tuples.ipynb",
      "provenance": [],
      "collapsed_sections": [],
      "include_colab_link": true
    },
    "kernelspec": {
      "name": "python3",
      "display_name": "Python 3"
    },
    "language_info": {
      "name": "python"
    }
  },
  "cells": [
    {
      "cell_type": "markdown",
      "metadata": {
        "id": "view-in-github",
        "colab_type": "text"
      },
      "source": [
        "<a href=\"https://colab.research.google.com/github/sleevetug/Eloise/blob/main/Copy_of_Lists_and_Tuples.ipynb\" target=\"_parent\"><img src=\"https://colab.research.google.com/assets/colab-badge.svg\" alt=\"Open In Colab\"/></a>"
      ]
    },
    {
      "cell_type": "markdown",
      "metadata": {
        "id": "Z-M-RCWATK71"
      },
      "source": [
        "# Lists and tuples\n",
        "\n",
        "Often we need to store a number of single items of data together so that they can be processed together. This might be because all the data refers to one person (e.g. name, age, gender, etc) OR it might be because we have a set of data (e.g. all the items that should be displayed in a drop down list, such as all the years from this year back to 100 years ago so that someone can select their year of birth)\n",
        "\n",
        "Python has a range of data structures available including:\n",
        "*   lists  \n",
        "*   tuples  \n",
        "*   dictionaries  \n",
        "*   sets\n",
        "\n",
        "This worksheet looks at lists and tuples.\n",
        "\n",
        "## List\n",
        "A list is a set of related, individual data objects, that are indexed and can be processed as a whole, as subsets or as individual items.  Lists are stored, essentially, as contiguous items in memory so that access can be as quick as possible.  However, they are mutable (they can be changed after they are created and stored) and so those mechanisms need to include extra functionality to deal with changing list sizes.\n",
        "\n",
        "## Tuple\n",
        "Essentially the same as a list but it is immutable.  Once it has been created it can't be changed.  It is stored in memory as contiguous items, with the size required being fixed right from the start.  This makes it faster to access.\n",
        "\n",
        "The code below will create two lists and a tuple.\n",
        "*   the first list contains 1000 random numbers between 1 and 100\n",
        "*   the second list is of random length (up to 5000) and each item is one of the 9 characteristics that are protected under the Equality Act in the UK.\n",
        "*   the tuple contains the 9 protected characteristics\n",
        "\n",
        "Before you start the exercises, run the code below.  It will generate the lists and tuple so that you can use them in the exercises.  If you need to recreate the lists again (because you have changed them and need to work on the originals, just run this cell again).\n",
        "\n",
        "***Note:***  *a list variable contains a reference to the start of the list in memory, rather than storing the list itself.  This means that if you assign the list to another variable (to make a copy), it will only copy across the reference.  If you change the copy, you change the original list.*\n",
        "\n",
        "*If you need to make a copy of the list you will need to use a loop to create a new list and copy all items across.*"
      ]
    },
    {
      "cell_type": "code",
      "metadata": {
        "id": "BDRckXeQXFMT"
      },
      "source": [
        "from random import randint, choice\n",
        "\n",
        "def get_num_list():\n",
        "  num_list = [randint(1,100) for n in range(1000)]\n",
        "  return num_list\n",
        "\n",
        "def get_protected_characteristics():\n",
        "  characteristics_tuple = ('age','disability','gender reassignment','marriage and civil partnership','pregnancy and maternity','race','religion or belief','sex','sexual orientation')\n",
        "  return characteristics_tuple\n",
        "\n",
        "def get_protected_characteristic_list(protected_characteristics):\n",
        "  char_list = [choice(protected_characteristics) for ch in range(randint(1,5000))]\n",
        "  return char_list\n",
        "\n",
        "nums = get_num_list()\n",
        "protected_characteristics = get_protected_characteristics()\n",
        "characteristics = get_protected_characteristic_list(protected_characteristics)"
      ],
      "execution_count": null,
      "outputs": []
    },
    {
      "cell_type": "markdown",
      "metadata": {
        "id": "xXT38-4ZV45n"
      },
      "source": [
        "## The exercises below will use the lists:  \n",
        "*   **nums** (a list of between 1 and 1000 random numbers, each number is between 0 and 1000)\n",
        "*   **characteristics** (a list of 5000 random protected_characteristics)\n",
        "\n",
        "and the tuple:\n",
        "*  **protected_characteristics** (a set of the 9 protected characteristics identified in the Equality Act)\n",
        "\n",
        "## You can run the cell above any number of times to generate new lists."
      ]
    },
    {
      "cell_type": "markdown",
      "metadata": {
        "id": "Ft0dXl7fUuaK"
      },
      "source": [
        "---\n",
        "### Exercise 1 - list head, tail and shape\n",
        "\n",
        "Write a function, **describe_list()** which will:\n",
        "*  print the length of the list `nums`\n",
        "*  print the first 10 items in `nums`  \n",
        "*  print the last 5 items in `nums`"
      ]
    },
    {
      "cell_type": "code",
      "metadata": {
        "id": "jUcZD7mmTJdA",
        "colab": {
          "base_uri": "https://localhost:8080/"
        },
        "outputId": "46a72f4e-c6a7-437b-b7a9-b7e5a8b162ef"
      },
      "source": [
        "def describe_list():\n",
        "\n",
        "    print(\"List length: \", len(nums))\n",
        "    print(\"First ten items: \", nums[:10])\n",
        "    print(\"Five last items: \", nums[-5:])\n",
        "\n",
        "describe_list()"
      ],
      "execution_count": null,
      "outputs": [
        {
          "output_type": "stream",
          "name": "stdout",
          "text": [
            "List length:  1000\n",
            "First ten items:  [100, 68, 83, 95, 65, 2, 30, 60, 20, 62]\n",
            "Five last items:  [95, 23, 16, 88, 48]\n"
          ]
        }
      ]
    },
    {
      "cell_type": "markdown",
      "metadata": {
        "id": "yNWg08k6bXv0"
      },
      "source": [
        "---\n",
        "### Exercise 2 - show tuple items\n",
        "\n",
        "Write a function which will:\n",
        "*   use a loop to print the list of protected characteristics from the `protected_characteristics` tuple.\n"
      ]
    },
    {
      "cell_type": "code",
      "metadata": {
        "id": "P2HnCG9pb1BS",
        "colab": {
          "base_uri": "https://localhost:8080/"
        },
        "outputId": "3ed06ae2-5bf4-4777-9505-84e4643811d8"
      },
      "source": [
        "def describe_tuple():\n",
        "\n",
        "    for char in protected_characteristics:\n",
        "      print(char)\n",
        "\n",
        "describe_tuple()"
      ],
      "execution_count": null,
      "outputs": [
        {
          "output_type": "stream",
          "name": "stdout",
          "text": [
            "age\n",
            "disability\n",
            "gender reassignment\n",
            "marriage and civil partnership\n",
            "pregnancy and maternity\n",
            "race\n",
            "religion or belief\n",
            "sex\n",
            "sexual orientation\n"
          ]
        }
      ]
    },
    {
      "cell_type": "markdown",
      "metadata": {
        "id": "RTSuQZs4b1JU"
      },
      "source": [
        "---\n",
        "### Exercise 3 - list a random subset\n",
        "\n",
        "Write a function which will:\n",
        "*  calculate the position of the middle item in the `characteristics` list   \n",
        "(*Hint: use len() to help with this*)\n",
        "*  calculate the position of the item that is 5 places before the middle item\n",
        "*  calculate the position of the item that is 5 places after the middle item\n",
        "*  print the part of the list that includes the items from 5 places before to 5 places after.  \n",
        "\n",
        "Expected output:  \n",
        "Your list will include 11 items."
      ]
    },
    {
      "cell_type": "code",
      "metadata": {
        "id": "OwhFnH2kdC11",
        "colab": {
          "base_uri": "https://localhost:8080/"
        },
        "outputId": "ac097581-ca73-4498-9b8e-bf0ed08201a6"
      },
      "source": [
        "def calculate_list():\n",
        "\n",
        "    middle_item = len(characteristics)//2\n",
        "    five_before = middle_item - 5\n",
        "    five_after = middle_item + 5\n",
        "    print(characteristics[five_before:five_after])\n",
        "\n",
        "calculate_list()"
      ],
      "execution_count": null,
      "outputs": [
        {
          "output_type": "stream",
          "name": "stdout",
          "text": [
            "['marriage and civil partnership', 'race', 'religion or belief', 'age', 'sexual orientation', 'age', 'pregnancy and maternity', 'sex', 'pregnancy and maternity', 'gender reassignment']\n"
          ]
        }
      ]
    },
    {
      "cell_type": "markdown",
      "metadata": {
        "id": "KS0x3oFNePI9"
      },
      "source": [
        "---\n",
        "### Exercise 4 - create a copy\n",
        "\n",
        "Write a function which will: use a for loop to create a copy of the `nums` list:\n",
        "\n",
        "*   create a new, empty, list called **new_nums**  (*Hint: an empty list is [ ]*)\n",
        "*   use a for loop which uses the following syntax:  `for num in nums:`\n",
        "*   each time round the loop append `num` to `new_nums`  ( *`new_nums.append(num)`*)\n",
        "*   print the first 10 items of `new_nums`\n",
        "*   print the first 10 items of `nums`\n",
        "*   print the length of both lists"
      ]
    },
    {
      "cell_type": "code",
      "metadata": {
        "id": "mpK1Ip3we-uC",
        "colab": {
          "base_uri": "https://localhost:8080/"
        },
        "outputId": "cfcb6ad2-8986-42e2-a2e1-3f14206e7126"
      },
      "source": [
        "def create_copy():\n",
        "\n",
        "    new_nums = []\n",
        "    for num in nums:\n",
        "      new_nums.append(num)\n",
        "\n",
        "    print(\"First ten items of new_nums: \", new_nums[:11])\n",
        "    print(\"List length: \", len(new_nums))\n",
        "    print(\"First ten items of nums: \", nums[:11])\n",
        "    print(\"List length: \", len(nums))\n",
        "    \n",
        "\n",
        "create_copy()"
      ],
      "execution_count": null,
      "outputs": [
        {
          "output_type": "stream",
          "name": "stdout",
          "text": [
            "First ten items of new_nums:  [100, 68, 83, 95, 65, 2, 30, 60, 20, 62, 65]\n",
            "List length:  1000\n",
            "First ten items of nums:  [100, 68, 83, 95, 65, 2, 30, 60, 20, 62, 65]\n",
            "List length:  1000\n"
          ]
        }
      ]
    },
    {
      "cell_type": "markdown",
      "metadata": {
        "id": "deUIFWjRe-3G"
      },
      "source": [
        "\n",
        "\n",
        "```\n",
        "# This is formatted as code\n",
        "```\n",
        "\n",
        "---\n",
        "### Exercise 5 - count the occurrence of age in characteristics\n",
        "\n",
        "Write a function which will use the list method:\n",
        "\n",
        "`list_name.count(item)`\n",
        "\n",
        "to count the number of occurrences of 'age' in the `characteristics` list.  Print the result."
      ]
    },
    {
      "cell_type": "code",
      "metadata": {
        "id": "b9TrHQ9hfoIU",
        "colab": {
          "base_uri": "https://localhost:8080/"
        },
        "outputId": "a9770be8-28f2-4a2a-de1d-9763caa47e18"
      },
      "source": [
        "def count_occurrence():\n",
        "\n",
        "    to_count = characteristics\n",
        "    print(\"Total Number of Times age is in List: \", to_count.count(\"age\"))\n",
        "\n",
        "count_occurrence()"
      ],
      "execution_count": null,
      "outputs": [
        {
          "output_type": "stream",
          "name": "stdout",
          "text": [
            "Total Number of Times age is in List:  171\n"
          ]
        }
      ]
    },
    {
      "cell_type": "markdown",
      "metadata": {
        "id": "zm2VI5RmfoSy"
      },
      "source": [
        "---\n",
        "### Exercise 6 - sort the nums list\n",
        "\n",
        "Write a function which will:\n",
        "*   call the function `get_num_list()` and store the result in a new list called **sort_nums**\n",
        "*   print the first, and last, 20 items in the `sort_nums` list\n",
        "*   use the `list_name.sort()` method to sort the `sort_nums` list into ascending order\n",
        "*   print the first, and last, 20 items again  \n",
        "*   use the `list_name.sort()` method again to sort the `sort_nums` list into descending order\n",
        "*   print the first, and last, 20 items again"
      ]
    },
    {
      "cell_type": "code",
      "metadata": {
        "id": "Fksgpj9JgWDs",
        "colab": {
          "base_uri": "https://localhost:8080/"
        },
        "outputId": "61cedcfc-8b6b-4a24-91c7-84b990910bf8"
      },
      "source": [
        "def sort_numbers():\n",
        "\n",
        "    sort_nums = get_num_list()\n",
        "    \n",
        "    first_20 = sort_nums[0:20]\n",
        "    print(\"First 20 in list: \", first_20)\n",
        "\n",
        "    last_20 = sort_nums[-20:]\n",
        "    print(\"Last 20 in list: \", last_20)\n",
        "\n",
        "    first_20.sort()\n",
        "    print(\"Ascending order of the first 20: \", first_20)\n",
        "\n",
        "    first_20.sort(reverse=True)\n",
        "    print(\"Descending order of the first 20: \", first_20)\n",
        "\n",
        "    last_20.sort()\n",
        "    print(\"Ascending order of the last 20: \", last_20)\n",
        "\n",
        "    last_20.sort(reverse=True)\n",
        "    print(\"Descending order of the last 20: \", last_20)\n",
        "\n",
        "sort_numbers()"
      ],
      "execution_count": null,
      "outputs": [
        {
          "output_type": "stream",
          "name": "stdout",
          "text": [
            "First 20 in list:  [88, 98, 29, 56, 39, 30, 96, 88, 82, 69, 34, 75, 42, 25, 44, 22, 80, 27, 77, 93]\n",
            "Last 20 in list:  [43, 31, 82, 86, 60, 68, 86, 95, 59, 11, 78, 8, 2, 76, 79, 4, 73, 97, 71, 53]\n",
            "Ascending order of the first 20:  [22, 25, 27, 29, 30, 34, 39, 42, 44, 56, 69, 75, 77, 80, 82, 88, 88, 93, 96, 98]\n",
            "Descending order of the first 20:  [98, 96, 93, 88, 88, 82, 80, 77, 75, 69, 56, 44, 42, 39, 34, 30, 29, 27, 25, 22]\n",
            "Ascending order of the last 20:  [2, 4, 8, 11, 31, 43, 53, 59, 60, 68, 71, 73, 76, 78, 79, 82, 86, 86, 95, 97]\n",
            "Descending order of the last 20:  [97, 95, 86, 86, 82, 79, 78, 76, 73, 71, 68, 60, 59, 53, 43, 31, 11, 8, 4, 2]\n"
          ]
        }
      ]
    },
    {
      "cell_type": "markdown",
      "metadata": {
        "id": "_OF-Xuj1UrW0"
      },
      "source": [
        "---\n",
        "### Exercise 7 - get statistics (max(), min(), sum() )\n",
        "\n",
        "Write a function which will:\n",
        "*   print the maximum and minimum numbers in the `nums` list  \n",
        "*   print the sum of the `nums` list\n",
        "*   calculate and print the average of the `nums` list (using `len()` to help)"
      ]
    },
    {
      "cell_type": "code",
      "metadata": {
        "id": "9YmYMenZVGod",
        "colab": {
          "base_uri": "https://localhost:8080/"
        },
        "outputId": "e0d35a63-7174-40b4-b14a-e48f4f3f520b"
      },
      "source": [
        "def get_statistics():\n",
        "\n",
        "    print(max(nums))\n",
        "    print(min(nums))\n",
        "    print(sum(nums))\n",
        "\n",
        "    Average = sum(nums)/len(nums)\n",
        "    print(\"Average of the list: \", round(Average))\n",
        "get_statistics()"
      ],
      "execution_count": null,
      "outputs": [
        {
          "output_type": "stream",
          "name": "stdout",
          "text": [
            "100\n",
            "1\n",
            "50717\n",
            "Average of the list:  51\n"
          ]
        }
      ]
    },
    {
      "cell_type": "markdown",
      "metadata": {
        "id": "Mn4tHQ_KVbHa"
      },
      "source": [
        "---\n",
        "### Exercise 8 - percentage difference\n",
        "\n",
        "Write a function which will:\n",
        "*   generate a new list called **ex8_nums** using `get_num_list()`\n",
        "*   calculate and print the percentage difference between the first number in each list (as a percentage of the number in the nums list) (Hint:  find the difference between the two numbers, divide the difference by the number in `nums` and multiply by 100)\n",
        "*   calculate and print the percentage difference between the last numbers in each list in the same way\n",
        "*   calculate and print the percentage difference between the middle numbers in each list in the same way.\n",
        "*   calculate and print the percentage difference between the sums of each list in the same way"
      ]
    },
    {
      "cell_type": "code",
      "metadata": {
        "id": "nJCQjZIeZL0e",
        "colab": {
          "base_uri": "https://localhost:8080/"
        },
        "outputId": "b7c6b6ef-7110-4143-9e54-39d709933ed3"
      },
      "source": [
        "def percentage_difference():\n",
        "\n",
        "    ex8_nums = get_num_list()\n",
        "    first_list1 = ex8_nums[0]\n",
        "    first_list2 = nums[0]\n",
        "\n",
        "    if first_list1 >= first_list2:\n",
        "      first_difference = first_list1 - first_list2\n",
        "      diff_percent1 = first_difference/first_list2 * 100\n",
        "\n",
        "    else:\n",
        "      first_difference = first_list2 - first_list1\n",
        "      diff_percent1 = first_difference/first_list2 * 100\n",
        "\n",
        "    print(\"Difference in percentage between the first numbers in each list is : {}%\".format(diff_percent1))\n",
        "\n",
        "    last_list1 = ex8_nums[-1]\n",
        "    last_list2 = nums[-1]\n",
        "  \n",
        "    if last_list1 >= last_list2:\n",
        "      last_difference = last_list1 - last_list2\n",
        "      diff_percent2 = last_difference/last_list2 * 100\n",
        "\n",
        "    else:\n",
        "      last_difference = last_list2 - last_list1\n",
        "      diff_percent2 = last_difference/last_list2 * 100\n",
        "\n",
        "    print(\"Difference in percentage between the last numbers in each list is : {}%\".format(diff_percent2))\n",
        "\n",
        "    middle_list1 = ex8_nums #stuck on middle and sum.. still working on it.\n",
        "    middle_list2 = nums\n",
        "\n",
        "percentage_difference()"
      ],
      "execution_count": null,
      "outputs": [
        {
          "output_type": "stream",
          "name": "stdout",
          "text": [
            "Difference in percentage between the first numbers in each list is : 84.0%\n",
            "Difference in percentage between the last numbers in each list is : 54.166666666666664%\n"
          ]
        }
      ]
    },
    {
      "cell_type": "markdown",
      "metadata": {
        "id": "HNs3lZmYawFO"
      },
      "source": [
        "---\n",
        "### Exercise 9 - characteristic counts\n",
        "\n",
        "Write a function which will:\n",
        "*  iterate through the `protected_characteristics` tuple and for each **characteristic**:\n",
        "*   *   count the number of occurrences of that `characteristic` in the `characteristics` list\n",
        "*   *   print the `protected_characteristic` and the **count**  \n",
        "\n",
        "Example expected output:\n",
        "\n",
        "age 100  \n",
        "disability 120  \n",
        "gender reassignment 120  \n",
        "marriage and civil partnership 111  \n",
        "pregnancy and maternity 103  \n",
        "race 106  \n",
        "religion or belief 95  \n",
        "sex 110  \n",
        "sexual orientation 113  \n",
        "\n",
        "Extra learning:  you can read [here](https://thispointer.com/python-how-to-pad-strings-with-zero-space-or-some-other-character/) how to justify the printed characteristic so that the output is organised into two columns as shown below:  \n",
        "![tabulated output](https://drive.google.com/uc?id=1CCXfX6K5ZeDefnq7vUsqxCDmqvcfY8Mz)\n",
        "\n",
        "\n",
        "\n"
      ]
    },
    {
      "cell_type": "code",
      "metadata": {
        "id": "GURT11albqUs",
        "colab": {
          "base_uri": "https://localhost:8080/"
        },
        "outputId": "d201192e-9d78-4119-dae8-3f0e906565b4"
      },
      "source": [
        "def count_occurrences():\n",
        "\n",
        "    print(\"Protected Characteristic          Frequency \\n\")\n",
        "\n",
        "    to_count = characteristics\n",
        "    print(\"age: \", to_count.count(\"age\"))\n",
        "    print(\"disability: \", to_count.count(\"disability\"))\n",
        "    print(\"gender reassignment: \", to_count.count(\"gender reassignment\"))\n",
        "    print(\"marriage and civil partnership: \", to_count.count(\"marriage and civil partnership\"))\n",
        "    print(\"pregnancy and maternity: \", to_count.count(\"pregnancy and maternity\"))\n",
        "    print(\"race: \", to_count.count(\"race\"))\n",
        "    print(\"religion or belief: \", to_count.count(\"religion or belief\"))\n",
        "    print(\"sex: \", to_count.count(\"sex\"))\n",
        "    print(\"sexual orientation: \", to_count.count(\"sexual orientation\"))\n",
        "    \n",
        "count_occurrences() \n"
      ],
      "execution_count": null,
      "outputs": [
        {
          "output_type": "stream",
          "name": "stdout",
          "text": [
            "Protected Characteristic          Frequency \n",
            "\n",
            "age:  171\n",
            "disability:  162\n",
            "gender reassignment:  177\n",
            "marriage and civil partnership:  169\n",
            "pregnancy and maternity:  184\n",
            "race:  169\n",
            "religion or belief:  161\n",
            "sex:  167\n",
            "sexual orientation:  172\n"
          ]
        }
      ]
    },
    {
      "cell_type": "markdown",
      "metadata": {
        "id": "9Po7yQj-ds38"
      },
      "source": [
        "---\n",
        "### Exercise 10 - characteristics statistics\n",
        "\n",
        "Assuming that the `characteristics` list may have been taken from a study of cases that have been taken to court in relation to the Equality Act.  \n",
        "\n",
        "Write a function which will:\n",
        "\n",
        "*   find the most common characteristic resulting in court action, from this population\n",
        "*   print this in a message, e.g. The characteristic with the highest number of court cases is:  *characteristic*\n",
        "*   print the list of `protected_characteristics`, on one line if possible - see [here](https://www.geeksforgeeks.org/g-fact-25-print-single-multiple-variable-python/)\n",
        "*   ask the user to enter a characteristic that they would like to see statistics on and use a while loop to continue until the user has entered a valid characteristic\n",
        "*   print the characteristic, its frequency and the percentage that this frequency is of the whole population."
      ]
    },
    {
      "cell_type": "code",
      "metadata": {
        "id": "uk_I5z7UgbDs",
        "colab": {
          "base_uri": "https://localhost:8080/"
        },
        "outputId": "78d6e9c1-5c7b-4c20-be8f-3388f0491844"
      },
      "source": [
        "def common_characteristic():\n",
        "\n",
        "    common_char = []\n",
        "    for chars in protected_characteristics:\n",
        "      count = characteristics.count(chars)\n",
        "      common_char.append(count)\n",
        "      most_common_case = max(common_char)\n",
        " \n",
        "    for chars in range(len(common_char)):\n",
        "      if most_common_case == common_char[chars]:\n",
        "        most_common_cases = chars\n",
        "    print(\"The characteristic with the highest number of court cases is: \", protected_characteristics[most_common_cases])\n",
        "\n",
        "    print(protected_characteristics, end=\"\")\n",
        "\n",
        "common_characteristic() #learn While loops, still working on it."
      ],
      "execution_count": null,
      "outputs": [
        {
          "output_type": "stream",
          "name": "stdout",
          "text": [
            "The characteristic with the highest number of court cases is:  pregnancy and maternity\n",
            "('age', 'disability', 'gender reassignment', 'marriage and civil partnership', 'pregnancy and maternity', 'race', 'religion or belief', 'sex', 'sexual orientation')"
          ]
        }
      ]
    }
  ]
}
