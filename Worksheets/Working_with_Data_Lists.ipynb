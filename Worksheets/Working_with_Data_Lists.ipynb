{
  "nbformat": 4,
  "nbformat_minor": 0,
  "metadata": {
    "colab": {
      "name": "Copy of Working with Data Lists.ipynb",
      "provenance": [],
      "collapsed_sections": [],
      "include_colab_link": true
    },
    "kernelspec": {
      "name": "python3",
      "display_name": "Python 3"
    },
    "language_info": {
      "name": "python"
    }
  },
  "cells": [
    {
      "cell_type": "markdown",
      "metadata": {
        "id": "view-in-github",
        "colab_type": "text"
      },
      "source": [
        "<a href=\"https://colab.research.google.com/github/sleevetug/Eloise/blob/main/Copy_of_Working_with_Data_Lists.ipynb\" target=\"_parent\"><img src=\"https://colab.research.google.com/assets/colab-badge.svg\" alt=\"Open In Colab\"/></a>"
      ]
    },
    {
      "cell_type": "markdown",
      "metadata": {
        "id": "Z-M-RCWATK71"
      },
      "source": [
        "# Lists\n",
        "\n",
        "Often we need to store a number of single items of data together so that they can be processed together. This might be because all the data refers to one person (e.g. name, age, gender, etc) OR it might be because we have a set of data (e.g. all the items that should be displayed in a drop down list, such as all the years from this year back to 100 years ago so that someone can select their year of birth)\n",
        "\n",
        "Python has a range of data structures available including:\n",
        "*   lists  \n",
        "*   tuples  \n",
        "*   dictionaries  \n",
        "*   sets\n",
        "\n",
        "This worksheet looks at lists.\n",
        "\n",
        "## List\n",
        "A list is a set of related, individual data objects, that are indexed and can be processed as a whole, as subsets or as individual items.  Lists are stored, essentially, as contiguous items in memory so that access can be as quick as possible.  However, they are mutable (they can be changed after they have been created and stored) and so they need to have extra functionality to deal with changing list sizes.\n",
        "\n",
        "# Let's get some lists of data\n",
        "For this worksheet we are going to work with data on STEAM games.  We are going to get the data from a spreadsheet and make lists that we can find things out from.\n",
        "\n"
      ]
    },
    {
      "cell_type": "markdown",
      "source": [
        "# Creating a list\n",
        "```\n",
        "nums = [1, 2, 3, 4, 5]\n",
        "names = [\"Tom\",\"Jerry\",\"Spike\"]\n",
        "```"
      ],
      "metadata": {
        "id": "TUvfamdEweE1"
      }
    },
    {
      "cell_type": "markdown",
      "source": [
        "# Printing a list\n",
        "\n",
        "```\n",
        "print(nums)\n",
        "[1,2,3,4,5]\n",
        "```\n",
        "\n",
        "```\n",
        "print(names)\n",
        "[\"Tom\",\"Jerry\",\"Spike\"]\n",
        "```"
      ],
      "metadata": {
        "id": "TdbhgKdjw8RN"
      }
    },
    {
      "cell_type": "code",
      "source": [
        "# create the lists, and print them\n",
        "nums = [1,2,3,4,5]\n",
        "names = [\"Tom\", \"Jerry\", \"Spike\"]\n",
        "print(nums)\n",
        "print(names)"
      ],
      "metadata": {
        "colab": {
          "base_uri": "https://localhost:8080/"
        },
        "id": "MiigkTzM0cLT",
        "outputId": "ecc5479f-7e27-47c4-e38c-b3fc03a449d3"
      },
      "execution_count": null,
      "outputs": [
        {
          "output_type": "stream",
          "name": "stdout",
          "text": [
            "[1, 2, 3, 4, 5]\n",
            "['Tom', 'Jerry', 'Spike']\n"
          ]
        }
      ]
    },
    {
      "cell_type": "markdown",
      "source": [
        "# Print individual items in the list\n",
        "\n",
        "We can access any item in a list by its position (index).  Lists are indexed from 0.\n",
        "\n",
        "To print the first item in a list, use listname[0], to print the last item use listname[-1].\n",
        "\n",
        "```\n",
        "# This is formatted as code\n",
        "```\n",
        "\n",
        "\n",
        "\n",
        "```\n",
        "print(nums[0])\n",
        "1\n",
        "```\n",
        "```\n",
        "print(names[1])\n",
        "Jerry\n",
        "```\n",
        "\n",
        "```\n",
        "print(nums[-1])\n",
        "5\n",
        "```\n"
      ],
      "metadata": {
        "id": "bCV4jL3mxRlx"
      }
    },
    {
      "cell_type": "code",
      "source": [
        "# have a go at printing different items from the lists\n",
        "print(nums[0])\n",
        "print(names[1])\n",
        "print(nums[-1])"
      ],
      "metadata": {
        "colab": {
          "base_uri": "https://localhost:8080/"
        },
        "id": "zRiLBj7G0HWd",
        "outputId": "062670e8-a679-45e8-83af-debe443a04db"
      },
      "execution_count": null,
      "outputs": [
        {
          "output_type": "stream",
          "name": "stdout",
          "text": [
            "1\n",
            "Jerry\n",
            "5\n"
          ]
        }
      ]
    },
    {
      "cell_type": "markdown",
      "source": [
        "# Print a subset of a list\n",
        "\n",
        "listname[start_index : end_index+1]  \n",
        "If start_index is the first item, or end_index is the end of the list, they can be left out\n",
        "\n",
        "```\n",
        "print(nums[:3])\n",
        "[1,2,3]\n",
        "```\n",
        "\n",
        "```\n",
        "print(names[1:])\n",
        "[\"Jerry\",\"Spike\"]\n",
        "```\n",
        "\n",
        "```\n",
        "print(nums[1:3])\n",
        "[2,3]\n",
        "```"
      ],
      "metadata": {
        "id": "flklC_z_x68p"
      }
    },
    {
      "cell_type": "code",
      "source": [
        "# have a go at printing subsets of the lists\n",
        "print(nums[:3])\n",
        "print(names[1:])\n",
        "print(nums[1:3])"
      ],
      "metadata": {
        "colab": {
          "base_uri": "https://localhost:8080/"
        },
        "id": "Axf9WFjJ0NXE",
        "outputId": "fd034c6a-1111-4059-9fbf-ac1804862db8"
      },
      "execution_count": null,
      "outputs": [
        {
          "output_type": "stream",
          "name": "stdout",
          "text": [
            "[1, 2, 3]\n",
            "['Jerry', 'Spike']\n",
            "[2, 3]\n"
          ]
        }
      ]
    },
    {
      "cell_type": "markdown",
      "source": [
        "# List length\n",
        "\n",
        "Use the len() function to get the number of items in a list.\n",
        "\n",
        "There are 5 items in the nums list and 3 in the names list.\n",
        "\n",
        "Write a function that will:\n",
        "* print the length of the nums list\n",
        "* print the length of the names list\n",
        "* concatenate (add) the two lists together to make a new list called num_names\n",
        "* print the length of the new list\n",
        "\n",
        "Expected output:\n",
        "```\n",
        "The length of the nums list is: 5\n",
        "The length of the names list is: 3\n",
        "The length of the joined list is: 8\n",
        "```\n"
      ],
      "metadata": {
        "id": "OFTklrSRuhpz"
      }
    },
    {
      "cell_type": "code",
      "source": [
        "def print_list_info():\n",
        "  print(\"The length of the nums list is:\", len(nums))\n",
        "  print(\"The length of the names list is:\", len(names))\n",
        "  nums_names = nums + names\n",
        "  print(\"The length of the joined list is:\", len(nums_names))\n",
        "\n",
        "print_list_info()"
      ],
      "metadata": {
        "colab": {
          "base_uri": "https://localhost:8080/"
        },
        "id": "OLQfwEaDvPNT",
        "outputId": "1e3abb79-bcae-4e1d-a082-b730a0ad3d6d"
      },
      "execution_count": null,
      "outputs": [
        {
          "output_type": "stream",
          "name": "stdout",
          "text": [
            "The length of the nums list is: 5\n",
            "The length of the names list is: 3\n",
            "The length of the joined list is: 8\n"
          ]
        }
      ]
    },
    {
      "cell_type": "markdown",
      "source": [
        "# List methods\n",
        "\n",
        "You can get an overview of the methods you can use here: https://www.w3schools.com/python/python_lists_methods.asp\n",
        "\n",
        "Then: \n",
        "1.  Create the nums and names list again \n",
        "2.  Append the number 6 to the nums list, and print\n",
        "3.  Insert the name \"Sylvester\" before \"Jerry\" in the names list and print\n",
        "4.  Print the length of the nums list\n",
        "5.  Remove the number 4 from the nums list, and print\n",
        "6.  Print the max and min of the nums list\n",
        "7.  Create a new list called new_nums which contains the numbers 40 to 50 (use the range function)\n",
        "\n",
        "Expected output:  \n"
      ],
      "metadata": {
        "id": "tBN4Shtd12on"
      }
    },
    {
      "cell_type": "code",
      "source": [
        "nums = [1,2,3,4,5]\n",
        "names = [\"Tom\", \"Jerry\",\"Spike\"]\n",
        "nums.append(6)\n",
        "print(nums)\n",
        "names.insert(1, \"Sylvester\")\n",
        "print(names)\n",
        "print(len(nums))\n",
        "nums.remove(4)\n",
        "print(nums)\n",
        "print(max(nums), min(nums))\n",
        "new_nums = range(40,51)\n",
        "print(new_nums)\n"
      ],
      "metadata": {
        "colab": {
          "base_uri": "https://localhost:8080/"
        },
        "id": "goe4w-yw4BVt",
        "outputId": "5f2a7ff4-9f16-4977-ea60-9c981b419a62"
      },
      "execution_count": null,
      "outputs": [
        {
          "output_type": "stream",
          "name": "stdout",
          "text": [
            "[1, 2, 3, 4, 5, 6]\n",
            "['Tom', 'Sylvester', 'Jerry', 'Spike']\n",
            "6\n",
            "[1, 2, 3, 5, 6]\n",
            "6 1\n",
            "range(40, 51)\n"
          ]
        }
      ]
    },
    {
      "cell_type": "markdown",
      "source": [
        "# Now some real data\n",
        "---\n",
        "\n",
        "1.  Open the STEAM csv file (which we have taken from Kaggle and have reduced to make it more manageable): https://drive.google.com/file/d/1amPnoBi3uhQXjFaQbUy-L-Y-eeJ1BcxE/view?usp=sharing  \n",
        "\n",
        "2.  Open the file with Google sheets to see what is in it.  The file contains rows of data, each with a user id and a game that the user has purchased.\n",
        "\n",
        "3.  NOW, run the code in the cell below to get:  \n",
        "- users (the list of user ids in the data)\n",
        "- titles (the list of titles that have been purchased)"
      ],
      "metadata": {
        "id": "T2tA2VavJx9Q"
      }
    },
    {
      "cell_type": "code",
      "source": [
        "import pandas as pd\n",
        "\n",
        "# open the data file and get a copy of the Titles column\n",
        "def get_users_and_titles():\n",
        "  url = \"https://drive.google.com/uc?id=1rkG8-cp-KLBc1zK4YMLHIsMMyyTVk5Ju\"\n",
        "  data_table = pd.read_csv(url)\n",
        "  return data_table[\"User\"].tolist(), data_table[\"Title\"].tolist() \n",
        "\n",
        "users, titles = get_users_and_titles()"
      ],
      "metadata": {
        "id": "8YyBIyoCmz5s"
      },
      "execution_count": 9,
      "outputs": []
    },
    {
      "cell_type": "markdown",
      "metadata": {
        "id": "Ft0dXl7fUuaK"
      },
      "source": [
        "---\n",
        "### Exercise 1 - list head, tail and length of the titles list\n",
        "---\n",
        "\n",
        "Write a function, **describe_list()** which will:\n",
        "*  print the length of the list `titles`\n",
        "*  print the first 10 items in `titles` (the head)  \n",
        "*  print the last 5 items in `titles` (the tail)\n",
        "\n",
        "Expected output:  \n",
        "```\n",
        "129511\n",
        "['The Elder Scrolls V Skyrim', 'Fallout 4', 'Spore', 'Fallout New Vegas', 'Left 4 Dead 2', 'HuniePop', 'Path of Exile', 'Poly Bridge', 'Left 4 Dead', 'Team Fortress 2']\n",
        "['Fallen Earth', 'Magic Duels', 'Titan Souls', 'Grand Theft Auto Vice City', 'RUSH']\n",
        "```"
      ]
    },
    {
      "cell_type": "code",
      "metadata": {
        "id": "jUcZD7mmTJdA",
        "colab": {
          "base_uri": "https://localhost:8080/"
        },
        "outputId": "c99c2d1d-6ea1-46ab-8a71-75db73e1d49a"
      },
      "source": [
        "def describe_list():\n",
        "\n",
        "    print(len(titles)) #printing length of entire list\n",
        "    print(titles[:10]) #printing first 10 of list\n",
        "    print(titles[-5:]) #printing last 5 of list\n",
        "\n",
        "describe_list()"
      ],
      "execution_count": 11,
      "outputs": [
        {
          "output_type": "stream",
          "name": "stdout",
          "text": [
            "129511\n",
            "['The Elder Scrolls V Skyrim', 'Fallout 4', 'Spore', 'Fallout New Vegas', 'Left 4 Dead 2', 'HuniePop', 'Path of Exile', 'Poly Bridge', 'Left 4 Dead', 'Team Fortress 2']\n",
            "['Fallen Earth', 'Magic Duels', 'Titan Souls', 'Grand Theft Auto Vice City', 'RUSH']\n"
          ]
        }
      ]
    },
    {
      "cell_type": "markdown",
      "metadata": {
        "id": "yNWg08k6bXv0"
      },
      "source": [
        "---\n",
        "### Exercise 2 - use a loop to print the first 20 items\n",
        "\n",
        "Write a function which will:\n",
        "*  create a new list from the first 20 items of the titles list\n",
        "*  loop through the new list and print each item\n"
      ]
    },
    {
      "cell_type": "code",
      "metadata": {
        "id": "P2HnCG9pb1BS",
        "colab": {
          "base_uri": "https://localhost:8080/"
        },
        "outputId": "a27f3fd7-5c23-47d4-b38b-db3a4c5dc3ea"
      },
      "source": [
        "def print_list():\n",
        "\n",
        "    new_list = [titles[:20]] #new list with first 20 items created\n",
        "    for item in new_list: #looping through the titles list and putting first 20 in new list.\n",
        "      print(item) #printing all the items in the list.\n",
        "\n",
        "print_list()"
      ],
      "execution_count": 12,
      "outputs": [
        {
          "output_type": "stream",
          "name": "stdout",
          "text": [
            "['The Elder Scrolls V Skyrim', 'Fallout 4', 'Spore', 'Fallout New Vegas', 'Left 4 Dead 2', 'HuniePop', 'Path of Exile', 'Poly Bridge', 'Left 4 Dead', 'Team Fortress 2', 'Tomb Raider', 'The Banner Saga', 'Dead Island Epidemic', 'BioShock Infinite', 'Dragon Age Origins - Ultimate Edition', 'Fallout 3 - Game of the Year Edition', 'SEGA Genesis & Mega Drive Classics', 'Grand Theft Auto IV', 'Realm of the Mad God', 'Marvel Heroes 2015']\n"
          ]
        }
      ]
    },
    {
      "cell_type": "markdown",
      "metadata": {
        "id": "RTSuQZs4b1JU"
      },
      "source": [
        "---\n",
        "### Exercise 3 - count the number of times a title appears in the list\n",
        "\n",
        "Write a function which will:\n",
        "*  count the number of times that the title Fallout 4 appears in the list\n",
        "\n",
        "Expected output:  \n",
        "168"
      ]
    },
    {
      "cell_type": "code",
      "metadata": {
        "id": "OwhFnH2kdC11",
        "colab": {
          "base_uri": "https://localhost:8080/"
        },
        "outputId": "fad10a50-f2fd-40ca-fc46-9b31a153e3cf"
      },
      "source": [
        "def count_title():\n",
        "\n",
        "    print(titles.count(\"Fallout 4\")) #counting \"Fallout 4\" in titles list\n",
        "\n",
        "count_title()"
      ],
      "execution_count": 13,
      "outputs": [
        {
          "output_type": "stream",
          "name": "stdout",
          "text": [
            "168\n"
          ]
        }
      ]
    },
    {
      "cell_type": "markdown",
      "metadata": {
        "id": "KS0x3oFNePI9"
      },
      "source": [
        "---\n",
        "### Exercise 4 - remove all duplicates of a title from the list\n",
        "\n",
        "Write a function which will: remove all occurences of Fallout 4 from the titles list (Hint:  you can remove an occurence of Fallout 4 repeatedly until there is only one left)\n"
      ]
    },
    {
      "cell_type": "code",
      "metadata": {
        "id": "mpK1Ip3we-uC",
        "colab": {
          "base_uri": "https://localhost:8080/"
        },
        "outputId": "74ef39d5-6017-49ca-fcb5-ca5be20c63f4"
      },
      "source": [
        "def remove_duplicates():\n",
        "\n",
        "    for item in titles: #for every item in titles list\n",
        "      while titles.count(item) > 1: #if title is >1 \n",
        "        titles.remove(item) #the loop will remove an item\n",
        "    print(titles.count(\"Fallout 4\")) #testing if all duplicates have been removed.\n",
        "\n",
        "remove_duplicates()\n"
      ],
      "execution_count": 14,
      "outputs": [
        {
          "output_type": "stream",
          "name": "stdout",
          "text": [
            "1\n"
          ]
        }
      ]
    },
    {
      "cell_type": "markdown",
      "metadata": {
        "id": "deUIFWjRe-3G"
      },
      "source": [
        "---\n",
        "### Exercise 5 - print the counts of the first 10 titles in the list\n",
        "\n",
        "Write a function which will:\n",
        "* loop through the first 10 items in the titles list\n",
        "* for each item print the number of times that title appears in the list\n"
      ]
    },
    {
      "cell_type": "code",
      "metadata": {
        "id": "b9TrHQ9hfoIU",
        "colab": {
          "base_uri": "https://localhost:8080/"
        },
        "outputId": "0c489acf-ee8e-4f8b-8477-5fad9f1170f9"
      },
      "source": [
        "def print_count_of_first_ten():\n",
        "\n",
        "    for item in titles[:10]: #for the first ten items in the titles list\n",
        "      print(item,\":\", titles.count(item)) #print the quantity of item in list.\n",
        "\n",
        "users, titles = get_users_and_titles()\n",
        "print_count_of_first_ten()"
      ],
      "execution_count": 15,
      "outputs": [
        {
          "output_type": "stream",
          "name": "stdout",
          "text": [
            "The Elder Scrolls V Skyrim : 717\n",
            "Fallout 4 : 168\n",
            "Spore : 67\n",
            "Fallout New Vegas : 337\n",
            "Left 4 Dead 2 : 951\n",
            "HuniePop : 22\n",
            "Path of Exile : 339\n",
            "Poly Bridge : 12\n",
            "Left 4 Dead : 281\n",
            "Team Fortress 2 : 2323\n"
          ]
        }
      ]
    },
    {
      "cell_type": "markdown",
      "metadata": {
        "id": "zm2VI5RmfoSy"
      },
      "source": [
        "---\n",
        "### Project - work as a team\n",
        "\n",
        "The users list has the ids of all the users who have purchased STEAM games.\n",
        "\n",
        "Write a function that will:\n",
        "* count how many games have been purchased by each user.  \n",
        "* calculate the percentage of all purchases made by each user\n",
        "* calculate the percentage of all purchases made by these 100 users altogether\n",
        "* find the id of the user who has purchased the most games of these 100 users \n",
        "* calculate the average number of games purchased by a user from the 100 \n",
        "* print this information, printing each unique user just once  \n",
        "Do the same with the last 100 users  \n",
        "\n",
        "Divide up the tasks and each write one part, then try to get them all to work together."
      ]
    },
    {
      "cell_type": "markdown",
      "source": [
        "### Practice 1\n",
        "---\n",
        "Get a list of unique user ids\n",
        "\n",
        "Write some code that will loop through the users list and add each new user id to a new list called **unique_users**\n",
        "\n",
        "**Expected output**:\n",
        "12393"
      ],
      "metadata": {
        "id": "rnEnIN0X_kR1"
      }
    },
    {
      "cell_type": "code",
      "source": [
        "# get list of unique user ids\n",
        "def get_unique_users():\n",
        "\n",
        "    unique_users = [] #created empty list\n",
        "    for user in users: #for every user in users\n",
        "      unique_users.append(user) #adds user to list/end of list\n",
        "      unique_users.sort() #sorts the list ascending\n",
        "\n",
        "    usercount = 0 #sets usercount to 0\n",
        "    for user in unique_users: #for every user in unique_users list\n",
        "      while unique_users.count(user) > 1: #if there are >1 of user ID\n",
        "        unique_users.remove(user) #removes the duplicates\n",
        "\n",
        "    print(len(unique_users)) #printing length of list after duplicates have been removed\n",
        "users, titles = get_users_and_titles()\n",
        "get_unique_users()"
      ],
      "metadata": {
        "id": "gf7o-I1GAACe",
        "colab": {
          "base_uri": "https://localhost:8080/"
        },
        "outputId": "2e8ef944-61d5-40de-a9e7-56a46501f8eb"
      },
      "execution_count": 22,
      "outputs": [
        {
          "output_type": "stream",
          "name": "stdout",
          "text": [
            "12393\n"
          ]
        }
      ]
    },
    {
      "cell_type": "markdown",
      "source": [
        "### Practice 2\n",
        "---\n",
        "\n",
        "Write code that will create a subset of the unique_users list, containing just the first 100 users and called **hundred_users**.  Loop through the hundred_users list and for each, will print the number of games that user has purchased (`users.count(unique_user`)\n",
        "\n",
        "**Expected output**:\n",
        "```\n",
        "40\n",
        "1\n",
        "43\n",
        "505\n",
        "1\n",
        "...\n",
        "...\n",
        "2\n",
        "18\n",
        "27\n",
        "1\n",
        "33\n",
        "```"
      ],
      "metadata": {
        "id": "aaguOOlbArIN"
      }
    },
    {
      "cell_type": "code",
      "source": [
        "# print number of games purchased by each of first hundred users\n",
        "def game_number(users):\n",
        "\n",
        "    unique_users = [] #created empty list\n",
        "    for user in users: #for every user in users list\n",
        "      unique_users.append(user) #add user to unique_users list\n",
        "    unique_users.sort() #sort to ascending\n",
        "\n",
        "    usercount = 0 #set user count to 0\n",
        "    for user in unique_users: #for every user in unique_users list\n",
        "      while unique_users.count(user) > 1: #if user is counted more than once\n",
        "        unique_users.remove(user) #remove duplicate\n",
        "\n",
        "    hundred_users = unique_users[:100] #new list of 100 users\n",
        "    #print(len(hundred_users)) #checking length of list\n",
        "\n",
        "    for user in hundred_users: #for every user in hundred_users list\n",
        "      print(users.count(user)) #count and print how many times user came up in original users list\n",
        "\n",
        "users, titles = get_users_and_titles()\n",
        "game_number(users)\n"
      ],
      "metadata": {
        "id": "Q_Ov6QpjBIwN",
        "colab": {
          "base_uri": "https://localhost:8080/"
        },
        "outputId": "ca27de43-324a-40ba-c2e2-e75dfa415291"
      },
      "execution_count": 29,
      "outputs": [
        {
          "output_type": "stream",
          "name": "stdout",
          "text": [
            "21\n",
            "36\n",
            "82\n",
            "10\n",
            "8\n",
            "12\n",
            "27\n",
            "259\n",
            "14\n",
            "10\n",
            "25\n",
            "28\n",
            "148\n",
            "8\n",
            "8\n",
            "10\n",
            "8\n",
            "13\n",
            "10\n",
            "30\n",
            "8\n",
            "9\n",
            "12\n",
            "17\n",
            "14\n",
            "378\n",
            "8\n",
            "12\n",
            "23\n",
            "8\n",
            "8\n",
            "15\n",
            "22\n",
            "8\n",
            "8\n",
            "9\n",
            "9\n",
            "8\n",
            "10\n",
            "8\n",
            "28\n",
            "8\n",
            "8\n",
            "12\n",
            "12\n",
            "10\n",
            "152\n",
            "77\n",
            "10\n",
            "16\n",
            "61\n",
            "14\n",
            "35\n",
            "12\n",
            "203\n",
            "8\n",
            "15\n",
            "29\n",
            "8\n",
            "49\n",
            "118\n",
            "10\n",
            "8\n",
            "8\n",
            "12\n",
            "8\n",
            "8\n",
            "10\n",
            "98\n",
            "8\n",
            "12\n",
            "23\n",
            "14\n",
            "12\n",
            "8\n",
            "12\n",
            "27\n",
            "8\n",
            "8\n",
            "27\n",
            "11\n",
            "8\n",
            "8\n",
            "8\n",
            "8\n",
            "27\n",
            "10\n",
            "8\n",
            "8\n",
            "34\n",
            "33\n",
            "12\n",
            "8\n",
            "8\n",
            "12\n",
            "16\n",
            "8\n",
            "18\n",
            "8\n",
            "7\n"
          ]
        }
      ]
    },
    {
      "cell_type": "markdown",
      "source": [
        "### Practice 3\n",
        "---\n",
        "Write code to calculate the percentage that the first user in the unique_user list has purchased of all the purchases made by users.  Print the users id and the percentage\n",
        "\n",
        "*Hint*:  get the count for that user (as in the last practice), divide it by the number of purchase made (the length of the original users list) and multiply by 100\n",
        "\n",
        "**Expected output**:  \n",
        "`151603712 0.03 %`"
      ],
      "metadata": {
        "id": "o4dWTE6aCBBb"
      }
    },
    {
      "cell_type": "code",
      "source": [
        "# Find percentage purchases bought by first user\n",
        "\n",
        "def find_percentage():\n",
        "\n",
        "    unique_users = [] #created empty list\n",
        "    for user in users: #for every user in users list\n",
        "      unique_users.append(user) #add user to unique_users list\n",
        "    unique_users.sort() #sort to ascending\n",
        "\n",
        "    usercount = 0 #set user count to 0\n",
        "    for user in unique_users: #for every user in unique_users list\n",
        "      while unique_users.count(user) > 1: #if user is counted more than once\n",
        "        unique_users.remove(user) #remove duplicate\n",
        "\n",
        "    hundred_users = unique_users[:100] #new list of 100 users\n",
        "    \n",
        "    for user in hundred_users[:1]: #for user 1 in hundred users \n",
        "        num_games = users.count(user) + 1 #number of games = the occurence of user original users list\n",
        "        percentage = num_games / len(users) * 100 #percentage of purchase = the number of times the user was in users list divided by the amount of users in users list x 100\n",
        "        print(\"User ID: \",hundred_users[:1],\"Percentage: \",round(percentage,2), \"%\") #printing first user in hundred users with their percentage rounded to two decimal places\n",
        "\n",
        "find_percentage()"
      ],
      "metadata": {
        "id": "corMMlyOCkON",
        "colab": {
          "base_uri": "https://localhost:8080/"
        },
        "outputId": "9ff45899-8e3b-412a-c889-b8312ef91b04"
      },
      "execution_count": 34,
      "outputs": [
        {
          "output_type": "stream",
          "name": "stdout",
          "text": [
            "User ID:  [5250] Percentage:  0.02 %\n"
          ]
        }
      ]
    },
    {
      "cell_type": "markdown",
      "source": [
        "### Practice 4\n",
        "---\n",
        "Write some code that will loop through the `hundred_users` and find the id of the user with the largest number of purchases\n",
        "\n",
        "**Expected output**:  \n",
        "```\n",
        "53875128\n",
        "```\n"
      ],
      "metadata": {
        "id": "vnOxgvPhE0M9"
      }
    },
    {
      "cell_type": "code",
      "source": [
        "# find user who has made most purchases\n",
        "def max_value():\n",
        "\n",
        "    unique_users = [] #created empty list\n",
        "    for user in users: #for every user in users list\n",
        "      unique_users.append(user) #add user to unique_users list\n",
        "      unique_users.sort() #sort to ascending\n",
        "\n",
        "    usercount = 0 #set user count to 0\n",
        "    for user in unique_users: #for every user in unique_users list\n",
        "      while unique_users.count(user) > 1: #if user is counted more than once\n",
        "        unique_users.remove(user) #remove duplicate\n",
        "\n",
        "    hundred_users = unique_users[:100] #new list of 100 users\n",
        "\n",
        "    max_purchase = 0\n",
        "    max_userID = 0\n",
        "    for user in hundred_users: #for every user in hundred_users \n",
        "        num_games = users.count(user) #number of games = the occurence of user in original users list\n",
        "        if num_games > max_purchase: #if num games is greater than last loop round, assign to max purchase\n",
        "          max_purchase = num_games\n",
        "          max_userID = user\n",
        "\n",
        "    print(\"User ID:\",max_userID, \"Purchase count:\",max_purchase)\n",
        "        \n",
        "max_value()"
      ],
      "metadata": {
        "id": "jO3NmUwjFLNO",
        "colab": {
          "base_uri": "https://localhost:8080/"
        },
        "outputId": "5c4b2456-1d1c-403f-a1c0-8f5c31803c5c"
      },
      "execution_count": 42,
      "outputs": [
        {
          "output_type": "stream",
          "name": "stdout",
          "text": [
            "User ID: 975449 Purchase count: 378\n"
          ]
        }
      ]
    },
    {
      "cell_type": "markdown",
      "source": [
        "### Practice 5\n",
        "---\n",
        "Write some code that will loop through the `hundred_users`, add all the purchases made by them, then calculate this as a percentage of the total number of purchases made (as before)  divide by 100 (the number of users in this list) to get the average.\n",
        "\n",
        "**Expected output**:  \n",
        "```\n",
        "0.01 %\n",
        "\n",
        "```"
      ],
      "metadata": {
        "id": "Gsixx_x-FLWr"
      }
    },
    {
      "cell_type": "code",
      "source": [
        "# find percentage of total purchases made by first hundred users\n",
        "def total_percentage():\n",
        "\n",
        "    unique_users = [] #created unique_users list\n",
        "    for user in users: # for every user in users list\n",
        "      if user not in unique_users: #if user not found in unique_users list\n",
        "        unique_users.append(user) #append user to the unique_users list\n",
        "\n",
        "    hundred_users = unique_users[:100] #new list of 100 users\n",
        "    hundred_total = 0 #starting total at 0\n",
        "\n",
        "    for user in hundred_users: #for every user in hundred users \n",
        "        num_games = users.count(user) #number of games they purchased\n",
        "        hundred_total += num_games #in every loop hundred total adds num games to hundred total variable\n",
        "\n",
        "    percentage = hundred_total / len(users) #percentage = total games hundred users purchased divided by the total amount of users in original list\n",
        "    print(\"Average percent: \",round(percentage,2), \"%\")\n",
        "        \n",
        "total_percentage()"
      ],
      "metadata": {
        "id": "MD8nr8yYFaNI",
        "colab": {
          "base_uri": "https://localhost:8080/"
        },
        "outputId": "b3355b4f-a309-43de-f007-8b4914a7d205"
      },
      "execution_count": 57,
      "outputs": [
        {
          "output_type": "stream",
          "name": "stdout",
          "text": [
            "Average percent:  0.01 %\n"
          ]
        }
      ]
    },
    {
      "cell_type": "markdown",
      "source": [
        "### Practice 6\n",
        "---\n",
        "\n",
        "Write some code that will loop through the `hundred_users`, add all the purchases made by them, then divide by 100 (the number of users in this list) to get the average.\n",
        "\n",
        "**Expected output**:  \n",
        "```\n",
        "16.46\n",
        "\n",
        "```"
      ],
      "metadata": {
        "id": "M1bFW6XVFaaA"
      }
    },
    {
      "cell_type": "code",
      "source": [
        "# find average number of purchases made by first 100 users\n",
        "\n",
        "def average_percentage():\n",
        "\n",
        "    unique_users = [] #created unique_users list\n",
        "    for user in users: # for every user in users list\n",
        "      if user not in unique_users: #if user not found in unique_users list\n",
        "        unique_users.append(user) #append user to the unique_users list\n",
        "\n",
        "    hundred_users = unique_users[:100] #new list of 100 users\n",
        "    hundred_total = 0 #starting total at 0\n",
        "\n",
        "    for user in hundred_users: #for every user in hundred users \n",
        "        num_games = users.count(user) #number of games they purchased\n",
        "        hundred_total += num_games #in every loop hundred total adds num games to hundred total variable\n",
        "\n",
        "    percentage = hundred_total / 100 #percentage = total games hundred users purchased divided by the total amount of users in the hundred list (can use: len(hundred_users))\n",
        "    print(\"Average percent: \",round(percentage,2), \"%\")\n",
        "        \n",
        "average_percentage()\n"
      ],
      "metadata": {
        "id": "JBSp_focFvRO",
        "colab": {
          "base_uri": "https://localhost:8080/"
        },
        "outputId": "9c481ee0-e5b5-4734-c4c7-4148197d7cef"
      },
      "execution_count": 61,
      "outputs": [
        {
          "output_type": "stream",
          "name": "stdout",
          "text": [
            "Average percent:  16.46 %\n"
          ]
        }
      ]
    },
    {
      "cell_type": "markdown",
      "source": [
        "### Practice 7\n",
        "---\n",
        "Put all the above together into a function, and add code to print the average number of games per user, the user id of the user with the maximum number of purchases, and a list of the hundred users ids and the percentage each has purchased"
      ],
      "metadata": {
        "id": "uJlVJSMOFv80"
      }
    },
    {
      "cell_type": "code",
      "source": [
        "def process_user_purchases():\n",
        "\n",
        "    unique_users = [] #created unique_users list\n",
        "    for user in users: # for every user in users list\n",
        "      if user not in unique_users: #if user not found in unique_users list\n",
        "        unique_users.append(user) #append user to the unique_users list\n",
        "\n",
        "    hundred_users = unique_users[:100] #new list of 100 users\n",
        "\n",
        "    for user in hundred_users: #for every user in hundred users \n",
        "      num_games = users.count(user) #number of games they purchased\n",
        "      percentage = (num_games / len(users)) * 100 #percentage = total games hundred users purchased divided by the total amount of users in original list x 100\n",
        "      average_num = num_games / 100 #average_num = total games hundred users purchased divided by the total amount of users in the hundred list (can use: len(hundred_users))\n",
        "      print(\"User ID: \", user, \" - \",\"Average number of games: \",round(average_num,2), \" - \", percentage, \"% of total purchased.\")\n",
        "\n",
        "    max_purchase = 0\n",
        "    max_userID = 0\n",
        "    for user in hundred_users: #for every user in hundred_users \n",
        "        num_games = users.count(user) #number of games = the occurence of user in original users list\n",
        "        if num_games > max_purchase: #if num games is greater than last loop round, assign to max purchase\n",
        "          max_purchase = num_games\n",
        "          max_userID = user\n",
        "\n",
        "    print(\"\\nUser ID with the maximum number of purchases:\",max_userID, \"Purchase count:\",max_purchase)\n",
        "\n",
        "process_user_purchases()"
      ],
      "metadata": {
        "id": "HQtJd18eGSrf",
        "colab": {
          "base_uri": "https://localhost:8080/"
        },
        "outputId": "a615ea26-8ea1-4bb0-e4ba-91636c65031d"
      },
      "execution_count": 83,
      "outputs": [
        {
          "output_type": "stream",
          "name": "stdout",
          "text": [
            "User ID:  151603712  -  Average number of games:  0.4  -  0.030885407417130594 % of total purchased.\n",
            "User ID:  187131847  -  Average number of games:  0.01  -  0.0007721351854282647 % of total purchased.\n",
            "User ID:  59945701  -  Average number of games:  0.43  -  0.03320181297341539 % of total purchased.\n",
            "User ID:  53875128  -  Average number of games:  5.05  -  0.3899282686412737 % of total purchased.\n",
            "User ID:  234941318  -  Average number of games:  0.01  -  0.0007721351854282647 % of total purchased.\n",
            "User ID:  140954425  -  Average number of games:  0.01  -  0.0007721351854282647 % of total purchased.\n",
            "User ID:  26122540  -  Average number of games:  0.1  -  0.0077213518542826485 % of total purchased.\n",
            "User ID:  176410694  -  Average number of games:  0.01  -  0.0007721351854282647 % of total purchased.\n",
            "User ID:  197278511  -  Average number of games:  0.01  -  0.0007721351854282647 % of total purchased.\n",
            "User ID:  150128162  -  Average number of games:  0.01  -  0.0007721351854282647 % of total purchased.\n",
            "User ID:  197455089  -  Average number of games:  0.01  -  0.0007721351854282647 % of total purchased.\n",
            "User ID:  63024728  -  Average number of games:  0.01  -  0.0007721351854282647 % of total purchased.\n",
            "User ID:  297811211  -  Average number of games:  0.03  -  0.0023164055562847944 % of total purchased.\n",
            "User ID:  76933274  -  Average number of games:  0.01  -  0.0007721351854282647 % of total purchased.\n",
            "User ID:  218323237  -  Average number of games:  0.03  -  0.0023164055562847944 % of total purchased.\n",
            "User ID:  302186258  -  Average number of games:  0.01  -  0.0007721351854282647 % of total purchased.\n",
            "User ID:  126340495  -  Average number of games:  0.29  -  0.022391920377419678 % of total purchased.\n",
            "User ID:  256193015  -  Average number of games:  0.01  -  0.0007721351854282647 % of total purchased.\n",
            "User ID:  194895541  -  Average number of games:  0.02  -  0.0015442703708565294 % of total purchased.\n",
            "User ID:  30007387  -  Average number of games:  0.02  -  0.0015442703708565294 % of total purchased.\n",
            "User ID:  170625356  -  Average number of games:  0.01  -  0.0007721351854282647 % of total purchased.\n",
            "User ID:  159538705  -  Average number of games:  0.01  -  0.0007721351854282647 % of total purchased.\n",
            "User ID:  167362888  -  Average number of games:  0.01  -  0.0007721351854282647 % of total purchased.\n",
            "User ID:  208649703  -  Average number of games:  0.04  -  0.003088540741713059 % of total purchased.\n",
            "User ID:  299889828  -  Average number of games:  0.02  -  0.0015442703708565294 % of total purchased.\n",
            "User ID:  225987202  -  Average number of games:  0.01  -  0.0007721351854282647 % of total purchased.\n",
            "User ID:  195071563  -  Average number of games:  0.01  -  0.0007721351854282647 % of total purchased.\n",
            "User ID:  254906420  -  Average number of games:  0.01  -  0.0007721351854282647 % of total purchased.\n",
            "User ID:  247160953  -  Average number of games:  0.01  -  0.0007721351854282647 % of total purchased.\n",
            "User ID:  308653033  -  Average number of games:  0.02  -  0.0015442703708565294 % of total purchased.\n",
            "User ID:  144138643  -  Average number of games:  0.01  -  0.0007721351854282647 % of total purchased.\n",
            "User ID:  197902002  -  Average number of games:  0.01  -  0.0007721351854282647 % of total purchased.\n",
            "User ID:  97298878  -  Average number of games:  0.67  -  0.05173305742369374 % of total purchased.\n",
            "User ID:  173909336  -  Average number of games:  0.05  -  0.0038606759271413243 % of total purchased.\n",
            "User ID:  198572546  -  Average number of games:  0.01  -  0.0007721351854282647 % of total purchased.\n",
            "User ID:  219509107  -  Average number of games:  0.01  -  0.0007721351854282647 % of total purchased.\n",
            "User ID:  202906503  -  Average number of games:  0.01  -  0.0007721351854282647 % of total purchased.\n",
            "User ID:  92107940  -  Average number of games:  0.11  -  0.008493487039710913 % of total purchased.\n",
            "User ID:  251431515  -  Average number of games:  0.01  -  0.0007721351854282647 % of total purchased.\n",
            "User ID:  233558010  -  Average number of games:  0.02  -  0.0015442703708565294 % of total purchased.\n",
            "User ID:  99189757  -  Average number of games:  0.02  -  0.0015442703708565294 % of total purchased.\n",
            "User ID:  30695285  -  Average number of games:  0.06  -  0.004632811112569589 % of total purchased.\n",
            "User ID:  259648553  -  Average number of games:  0.01  -  0.0007721351854282647 % of total purchased.\n",
            "User ID:  201069271  -  Average number of games:  0.01  -  0.0007721351854282647 % of total purchased.\n",
            "User ID:  48845802  -  Average number of games:  0.15  -  0.01158202778142397 % of total purchased.\n",
            "User ID:  226212066  -  Average number of games:  0.13  -  0.010037757410567442 % of total purchased.\n",
            "User ID:  221430493  -  Average number of games:  0.02  -  0.0015442703708565294 % of total purchased.\n",
            "User ID:  62923086  -  Average number of games:  0.08  -  0.006177081483426118 % of total purchased.\n",
            "User ID:  250006052  -  Average number of games:  0.06  -  0.004632811112569589 % of total purchased.\n",
            "User ID:  65117175  -  Average number of games:  1.27  -  0.09806116854938962 % of total purchased.\n",
            "User ID:  227944885  -  Average number of games:  0.01  -  0.0007721351854282647 % of total purchased.\n",
            "User ID:  144004384  -  Average number of games:  0.01  -  0.0007721351854282647 % of total purchased.\n",
            "User ID:  236557903  -  Average number of games:  0.04  -  0.003088540741713059 % of total purchased.\n",
            "User ID:  11373749  -  Average number of games:  4.58  -  0.35363791492614527 % of total purchased.\n",
            "User ID:  140293612  -  Average number of games:  0.01  -  0.0007721351854282647 % of total purchased.\n",
            "User ID:  187851224  -  Average number of games:  0.02  -  0.0015442703708565294 % of total purchased.\n",
            "User ID:  192921532  -  Average number of games:  0.02  -  0.0015442703708565294 % of total purchased.\n",
            "User ID:  54103616  -  Average number of games:  0.31  -  0.023936190748276208 % of total purchased.\n",
            "User ID:  222277839  -  Average number of games:  0.01  -  0.0007721351854282647 % of total purchased.\n",
            "User ID:  298547051  -  Average number of games:  0.04  -  0.003088540741713059 % of total purchased.\n",
            "User ID:  264253640  -  Average number of games:  0.16  -  0.012354162966852236 % of total purchased.\n",
            "User ID:  125718844  -  Average number of games:  0.01  -  0.0007721351854282647 % of total purchased.\n",
            "User ID:  230599183  -  Average number of games:  0.01  -  0.0007721351854282647 % of total purchased.\n",
            "User ID:  280061602  -  Average number of games:  0.01  -  0.0007721351854282647 % of total purchased.\n",
            "User ID:  38763767  -  Average number of games:  0.06  -  0.004632811112569589 % of total purchased.\n",
            "User ID:  164543231  -  Average number of games:  0.11  -  0.008493487039710913 % of total purchased.\n",
            "User ID:  211277578  -  Average number of games:  0.01  -  0.0007721351854282647 % of total purchased.\n",
            "User ID:  214167822  -  Average number of games:  0.01  -  0.0007721351854282647 % of total purchased.\n",
            "User ID:  163617342  -  Average number of games:  0.22  -  0.016986974079421825 % of total purchased.\n",
            "User ID:  295931968  -  Average number of games:  0.01  -  0.0007721351854282647 % of total purchased.\n",
            "User ID:  196354657  -  Average number of games:  0.01  -  0.0007721351854282647 % of total purchased.\n",
            "User ID:  165034415  -  Average number of games:  0.01  -  0.0007721351854282647 % of total purchased.\n",
            "User ID:  298389371  -  Average number of games:  0.03  -  0.0023164055562847944 % of total purchased.\n",
            "User ID:  27543430  -  Average number of games:  0.05  -  0.0038606759271413243 % of total purchased.\n",
            "User ID:  126640783  -  Average number of games:  0.01  -  0.0007721351854282647 % of total purchased.\n",
            "User ID:  119410870  -  Average number of games:  0.01  -  0.0007721351854282647 % of total purchased.\n",
            "User ID:  243440565  -  Average number of games:  0.02  -  0.0015442703708565294 % of total purchased.\n",
            "User ID:  157694162  -  Average number of games:  0.01  -  0.0007721351854282647 % of total purchased.\n",
            "User ID:  154868247  -  Average number of games:  0.04  -  0.003088540741713059 % of total purchased.\n",
            "User ID:  263856756  -  Average number of games:  0.03  -  0.0023164055562847944 % of total purchased.\n",
            "User ID:  124395695  -  Average number of games:  0.01  -  0.0007721351854282647 % of total purchased.\n",
            "User ID:  126656629  -  Average number of games:  0.01  -  0.0007721351854282647 % of total purchased.\n",
            "User ID:  197821092  -  Average number of games:  0.01  -  0.0007721351854282647 % of total purchased.\n",
            "User ID:  294797577  -  Average number of games:  0.01  -  0.0007721351854282647 % of total purchased.\n",
            "User ID:  228507886  -  Average number of games:  0.01  -  0.0007721351854282647 % of total purchased.\n",
            "User ID:  272425320  -  Average number of games:  0.02  -  0.0015442703708565294 % of total purchased.\n",
            "User ID:  49769103  -  Average number of games:  0.05  -  0.0038606759271413243 % of total purchased.\n",
            "User ID:  202742019  -  Average number of games:  0.04  -  0.003088540741713059 % of total purchased.\n",
            "User ID:  239397807  -  Average number of games:  0.01  -  0.0007721351854282647 % of total purchased.\n",
            "User ID:  65758675  -  Average number of games:  0.01  -  0.0007721351854282647 % of total purchased.\n",
            "User ID:  239921853  -  Average number of games:  0.06  -  0.004632811112569589 % of total purchased.\n",
            "User ID:  300601393  -  Average number of games:  0.02  -  0.0015442703708565294 % of total purchased.\n",
            "User ID:  109278470  -  Average number of games:  0.09  -  0.006949216668854384 % of total purchased.\n",
            "User ID:  197509386  -  Average number of games:  0.03  -  0.0023164055562847944 % of total purchased.\n",
            "User ID:  92842632  -  Average number of games:  0.04  -  0.003088540741713059 % of total purchased.\n",
            "User ID:  103973922  -  Average number of games:  0.02  -  0.0015442703708565294 % of total purchased.\n",
            "User ID:  5270060  -  Average number of games:  0.18  -  0.013898433337708767 % of total purchased.\n",
            "User ID:  171847029  -  Average number of games:  0.27  -  0.020847650006563148 % of total purchased.\n",
            "User ID:  111479516  -  Average number of games:  0.01  -  0.0007721351854282647 % of total purchased.\n",
            "User ID:  64350600  -  Average number of games:  0.33  -  0.025480461119132738 % of total purchased.\n",
            "\n",
            "User ID with the maximum number of purchases: 53875128 Purchase count: 505\n"
          ]
        }
      ]
    }
  ]
}
