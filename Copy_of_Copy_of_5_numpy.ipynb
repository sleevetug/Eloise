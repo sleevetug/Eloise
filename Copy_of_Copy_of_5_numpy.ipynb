{
  "nbformat": 4,
  "nbformat_minor": 0,
  "metadata": {
    "colab": {
      "name": "Copy of Copy of 5. numpy.ipynb",
      "provenance": [],
      "collapsed_sections": [],
      "include_colab_link": true
    },
    "kernelspec": {
      "name": "python3",
      "display_name": "Python 3"
    },
    "language_info": {
      "name": "python"
    }
  },
  "cells": [
    {
      "cell_type": "markdown",
      "metadata": {
        "id": "view-in-github",
        "colab_type": "text"
      },
      "source": [
        "<a href=\"https://colab.research.google.com/github/sleevetug/Eloise/blob/main/Copy_of_Copy_of_5_numpy.ipynb\" target=\"_parent\"><img src=\"https://colab.research.google.com/assets/colab-badge.svg\" alt=\"Open In Colab\"/></a>"
      ]
    },
    {
      "cell_type": "markdown",
      "metadata": {
        "id": "M21YTen340ZU"
      },
      "source": [
        "# Using numpy for processing lists of number data\n",
        "\n",
        "---"
      ]
    },
    {
      "cell_type": "markdown",
      "metadata": {
        "id": "lvCryMxH47we"
      },
      "source": [
        "## numpy is a high performance array processing library for Python\n",
        "\n",
        "Python lists can contain any type of data, including objects.  numpy arrays are specialised and can only contain numbers.\n",
        "\n",
        "You can customise the memory usage so that arrays can use less memory and items are always stored contiguously, which isn't always the case for Python lists.  This means that it is more efficient at storing, and faster at processing, large data sets.\n",
        "\n",
        "Use numpy arrays to **store and manipulate large lists of numbers** (for other data types use plain Python lists or a panda series)\n",
        "\n",
        "Use numpy arrays to **process panda series (columns) where these contain numerical data and a large number of records**.\n",
        "\n",
        "Use numpy arrays to **create new sets of data** to add to a dataframe.\n",
        "\n",
        "For this course we are going to focus on using numpy arrays as a means of holding and working with a list of data from a pandas dataframe column.\n"
      ]
    },
    {
      "cell_type": "markdown",
      "metadata": {
        "id": "MxKEUfvp54QO"
      },
      "source": [
        "---\n",
        "## Creating a new numpy array (maybe for a new series or an extended series)\n",
        "\n",
        "To use numpy, you will need to import it.  The conventional way to import numpy is to import the whole library and use an *alias*\n",
        "\n",
        "`import numpy as np`\n",
        "\n",
        "Every time you want to use a function from the numpy library you use the syntax:  \n",
        "\n",
        "`np.function_name()`  \n",
        "\n",
        "Create a new numpy array from a Python list of numbers\n",
        "   \n",
        "`arr = np.array([1,2,3])`\n",
        "\n",
        "Or a new numpy matrix from a Python 2 dimensional list of numbers\n",
        "\n",
        "`matrix = np.array([1,2,3],[4,5,6])`\n",
        "\n",
        "Create a numpy array from a dataframe column (series):\n",
        "\n",
        "`arr = df['column name'].to_numpy(datatype)`\n",
        "\n",
        "where the datatype matches the data type of the column (`df.info()` will give this information if you are unsure).\n",
        "\n"
      ]
    },
    {
      "cell_type": "markdown",
      "metadata": {
        "id": "s2HQHeHE6r4n"
      },
      "source": [
        "### Exercise 1 - create a new numpy array to hold the numbers from 1 to 100\n",
        "---\n",
        "\n",
        "Write a function called `make_array()` which will:\n",
        "*   create a list of the numbers 1 to 10  \n",
        "*   create a new numpy array called **new_array** from that list\n",
        "*   print `new_array`\n",
        "\n",
        "Expected output:  \n",
        "`[1 2 3 4 5 6 7 8 9 10] ` \n",
        "\n"
      ]
    },
    {
      "cell_type": "code",
      "metadata": {
        "id": "-WWVDSRq7QDN",
        "colab": {
          "base_uri": "https://localhost:8080/"
        },
        "outputId": "37acfc6d-4819-40fe-c29e-6e828758e265"
      },
      "source": [
        "import numpy as np\n",
        "\n",
        "def make_array():\n",
        "  # add your code below here\n",
        "\n",
        "    num_list = [1, 2, 3, 4, 5, 6, 7, 8, 9, 10]\n",
        "    new_array = np.array(num_list)\n",
        "    print(new_array)\n",
        "\n",
        "# run and test the function against the expected output\n",
        "make_array()"
      ],
      "execution_count": 2,
      "outputs": [
        {
          "output_type": "stream",
          "name": "stdout",
          "text": [
            "[ 1  2  3  4  5  6  7  8  9 10]\n"
          ]
        }
      ]
    },
    {
      "cell_type": "markdown",
      "metadata": {
        "id": "X2qc0-nc7qZV"
      },
      "source": [
        "## Setting the number type in memory\n",
        "\n",
        "numpy allows you to set the type of number in memory (e.g. `int8`, `int32`) when you create the array.  This allows memory allocation to be as small as possible.  \n",
        "\n",
        "`new_matrix = np.array([1, 2, 3], np.int8)`    \n",
        "\n",
        "This creates a list of whole numbers which are all small enough to fit in 1 byte of memory storage.\n",
        "\n",
        "---\n",
        "### Exercise 2 - create list of smallish numbers\n",
        "\n",
        "Write a function which will:\n",
        "*   accept a parameter **num_list**    \n",
        "*   create a new numpy array called **new_array** from `num_list`, with data size `int16`\n",
        "*   print `new_array`  \n",
        "\n",
        "Test input:  \n",
        "`[31112, 32321, 24567,456,324,789]`\n",
        "\n",
        "Expected output:   \n",
        "```\n",
        "[31112 32321 24567 456 324 789]\n",
        "```"
      ]
    },
    {
      "cell_type": "code",
      "metadata": {
        "id": "XUMfMwhLACzH",
        "colab": {
          "base_uri": "https://localhost:8080/"
        },
        "outputId": "da976131-e0c5-46c8-e455-ed1af4f07400"
      },
      "source": [
        "import numpy as np\n",
        "\n",
        "def create_new_array(num_list):\n",
        "  # add your code below here to turn num_list into a numpy array\n",
        "\n",
        "    new_array = np.array(num_list, np.int16)\n",
        "    print(new_array)\n",
        "\n",
        "# run and test the code against the expected output\n",
        "create_new_array([31112, 32321, 24567, 456, 324, 789])"
      ],
      "execution_count": 3,
      "outputs": [
        {
          "output_type": "stream",
          "name": "stdout",
          "text": [
            "[31112 32321 24567   456   324   789]\n"
          ]
        }
      ]
    },
    {
      "cell_type": "markdown",
      "metadata": {
        "id": "oC8rsm3yBLRd"
      },
      "source": [
        "---\n",
        "### Exercise 3 - create a numpy array from a pandas dataframe column\n",
        "\n",
        "Write a function which  will first create a dataframe from the titanic data set, and then will create a numpy array from the Fare column.\n",
        "\n",
        "*Recap*:  *the Fare column is df['Fare'] (assuming your dataframe is called df)*\n",
        "\n",
        "*  create a dataframe from the data set in the file at this url:  https://raw.githubusercontent.com/pandas-dev/pandas/master/doc/data/titanic.csv  \n",
        "*  create a new numpy array called **fare** from the `Fare` column (*remember to specify the data type e.g. np.int32, float64 when using* `df.to_numpy()`)  \n",
        "*  print the `fare` array\n",
        "\n",
        "Expected output:  \n",
        "```\n",
        "array([  7.25  ,  71.2833,   7.925 , ......  23.45  ,  30.    ,   7.75  ])\n",
        "```\n",
        "\n",
        "  "
      ]
    },
    {
      "cell_type": "code",
      "metadata": {
        "id": "QCs2eDFEBhr8",
        "colab": {
          "base_uri": "https://localhost:8080/"
        },
        "outputId": "951c3be0-20a2-4095-a40d-0971ccd9026e"
      },
      "source": [
        "import pandas as pd\n",
        "import numpy as np\n",
        "\n",
        "df = pd.read_csv('https://raw.githubusercontent.com/pandas-dev/pandas/master/doc/data/titanic.csv')\n",
        "\n",
        "def create_fare_series():\n",
        "  # add your code below here to read the data set into a dataframe and then create a numpy array from the Fare column and print it\n",
        "\n",
        "    fare = df['Fare'].to_numpy('float64')\n",
        "    print(fare)\n",
        "\n",
        "# run the function and test against the expected output.\n",
        "create_fare_series()"
      ],
      "execution_count": 4,
      "outputs": [
        {
          "output_type": "stream",
          "name": "stdout",
          "text": [
            "[  7.25    71.2833   7.925   53.1      8.05     8.4583  51.8625  21.075\n",
            "  11.1333  30.0708  16.7     26.55     8.05    31.275    7.8542  16.\n",
            "  29.125   13.      18.       7.225   26.      13.       8.0292  35.5\n",
            "  21.075   31.3875   7.225  263.       7.8792   7.8958  27.7208 146.5208\n",
            "   7.75    10.5     82.1708  52.       7.2292   8.05    18.      11.2417\n",
            "   9.475   21.       7.8958  41.5792   7.8792   8.05    15.5      7.75\n",
            "  21.6792  17.8     39.6875   7.8     76.7292  26.      61.9792  35.5\n",
            "  10.5      7.2292  27.75    46.9      7.2292  80.      83.475   27.9\n",
            "  27.7208  15.2458  10.5      8.1583   7.925    8.6625  10.5     46.9\n",
            "  73.5     14.4542  56.4958   7.65     7.8958   8.05    29.      12.475\n",
            "   9.       9.5      7.7875  47.1     10.5     15.85    34.375    8.05\n",
            " 263.       8.05     8.05     7.8542  61.175   20.575    7.25     8.05\n",
            "  34.6542  63.3583  23.      26.       7.8958   7.8958  77.2875   8.6542\n",
            "   7.925    7.8958   7.65     7.775    7.8958  24.15    52.      14.4542\n",
            "   8.05     9.825   14.4583   7.925    7.75    21.     247.5208  31.275\n",
            "  73.5      8.05    30.0708  13.      77.2875  11.2417   7.75     7.1417\n",
            "  22.3583   6.975    7.8958   7.05    14.5     26.      13.      15.0458\n",
            "  26.2833  53.1      9.2167  79.2     15.2458   7.75    15.85     6.75\n",
            "  11.5     36.75     7.7958  34.375   26.      13.      12.525   66.6\n",
            "   8.05    14.5      7.3125  61.3792   7.7333   8.05     8.6625  69.55\n",
            "  16.1     15.75     7.775    8.6625  39.6875  20.525   55.      27.9\n",
            "  25.925   56.4958  33.5     29.125   11.1333   7.925   30.6958   7.8542\n",
            "  25.4667  28.7125  13.       0.      69.55    15.05    31.3875  39.\n",
            "  22.025   50.      15.5     26.55    15.5      7.8958  13.      13.\n",
            "   7.8542  26.      27.7208 146.5208   7.75     8.4042   7.75    13.\n",
            "   9.5     69.55     6.4958   7.225    8.05    10.4625  15.85    18.7875\n",
            "   7.75    31.       7.05    21.       7.25    13.       7.75   113.275\n",
            "   7.925   27.      76.2917  10.5      8.05    13.       8.05     7.8958\n",
            "  90.       9.35    10.5      7.25    13.      25.4667  83.475    7.775\n",
            "  13.5     31.3875  10.5      7.55    26.      26.25    10.5     12.275\n",
            "  14.4542  15.5     10.5      7.125    7.225   90.       7.775   14.5\n",
            "  52.5542  26.       7.25    10.4625  26.55    16.1     20.2125  15.2458\n",
            "  79.2     86.5    512.3292  26.       7.75    31.3875  79.65     0.\n",
            "   7.75    10.5     39.6875   7.775  153.4625 135.6333  31.       0.\n",
            "  19.5     29.7      7.75    77.9583   7.75     0.      29.125   20.25\n",
            "   7.75     7.8542   9.5      8.05    26.       8.6625   9.5      7.8958\n",
            "  13.       7.75    78.85    91.0792  12.875    8.85     7.8958  27.7208\n",
            "   7.2292 151.55    30.5    247.5208   7.75    23.25     0.      12.35\n",
            "   8.05   151.55   110.8833 108.9     24.      56.9292  83.1583 262.375\n",
            "  26.       7.8958  26.25     7.8542  26.      14.     164.8667 134.5\n",
            "   7.25     7.8958  12.35    29.      69.55   135.6333   6.2375  13.\n",
            "  20.525   57.9792  23.25    28.5    153.4625  18.     133.65     7.8958\n",
            "  66.6    134.5      8.05    35.5     26.     263.      13.      13.\n",
            "  13.      13.      13.      16.1     15.9      8.6625   9.225   35.\n",
            "   7.2292  17.8      7.225    9.5     55.      13.       7.8792   7.8792\n",
            "  27.9     27.7208  14.4542   7.05    15.5      7.25    75.25     7.2292\n",
            "   7.75    69.3     55.4417   6.4958   8.05   135.6333  21.075   82.1708\n",
            "   7.25   211.5      4.0125   7.775  227.525   15.7417   7.925   52.\n",
            "   7.8958  73.5     46.9     13.       7.7292  12.     120.       7.7958\n",
            "   7.925  113.275   16.7      7.7958   7.8542  26.      10.5     12.65\n",
            "   7.925    8.05     9.825   15.85     8.6625  21.       7.75    18.75\n",
            "   7.775   25.4667   7.8958   6.8583  90.       0.       7.925    8.05\n",
            "  32.5     13.      13.      24.15     7.8958   7.7333   7.875   14.4\n",
            "  20.2125   7.25    26.      26.       7.75     8.05    26.55    16.1\n",
            "  26.       7.125   55.9    120.      34.375   18.75   263.      10.5\n",
            "  26.25     9.5      7.775   13.       8.1125  81.8583  19.5     26.55\n",
            "  19.2583  30.5     27.75    19.9667  27.75    89.1042   8.05     7.8958\n",
            "  26.55    51.8625  10.5      7.75    26.55     8.05    38.5     13.\n",
            "   8.05     7.05     0.      26.55     7.725   19.2583   7.25     8.6625\n",
            "  27.75    13.7917   9.8375  52.      21.       7.0458   7.5208  12.2875\n",
            "  46.9      0.       8.05     9.5875  91.0792  25.4667  90.      29.7\n",
            "   8.05    15.9     19.9667   7.25    30.5     49.5042   8.05    14.4583\n",
            "  78.2667  15.1    151.55     7.7958   8.6625   7.75     7.6292   9.5875\n",
            "  86.5    108.9     26.      26.55    22.525   56.4958   7.75     8.05\n",
            "  26.2875  59.4      7.4958  34.0208  10.5     24.15    26.       7.8958\n",
            "  93.5      7.8958   7.225   57.9792   7.2292   7.75    10.5    221.7792\n",
            "   7.925   11.5     26.       7.2292   7.2292  22.3583   8.6625  26.25\n",
            "  26.55   106.425   14.5     49.5     71.      31.275   31.275   26.\n",
            " 106.425   26.      26.      13.8625  20.525   36.75   110.8833  26.\n",
            "   7.8292   7.225    7.775   26.55    39.6    227.525   79.65    17.4\n",
            "   7.75     7.8958  13.5      8.05     8.05    24.15     7.8958  21.075\n",
            "   7.2292   7.8542  10.5     51.4792  26.3875   7.75     8.05    14.5\n",
            "  13.      55.9     14.4583   7.925   30.     110.8833  26.      40.125\n",
            "   8.7125  79.65    15.      79.2      8.05     8.05     7.125   78.2667\n",
            "   7.25     7.75    26.      24.15    33.       0.       7.225   56.9292\n",
            "  27.       7.8958  42.4      8.05    26.55    15.55     7.8958  30.5\n",
            "  41.5792 153.4625  31.275    7.05    15.5      7.75     8.05    65.\n",
            "  14.4     16.1     39.      10.5     14.4542  52.5542  15.7417   7.8542\n",
            "  16.1     32.3208  12.35    77.9583   7.8958   7.7333  30.       7.0542\n",
            "  30.5      0.      27.9     13.       7.925   26.25    39.6875  16.1\n",
            "   7.8542  69.3     27.9     56.4958  19.2583  76.7292   7.8958  35.5\n",
            "   7.55     7.55     7.8958  23.       8.4333   7.8292   6.75    73.5\n",
            "   7.8958  15.5     13.     113.275  133.65     7.225   25.5875   7.4958\n",
            "   7.925   73.5     13.       7.775    8.05    52.      39.      52.\n",
            "  10.5     13.       0.       7.775    8.05     9.8417  46.9    512.3292\n",
            "   8.1375  76.7292   9.225   46.9     39.      41.5792  39.6875  10.1708\n",
            "   7.7958 211.3375  57.      13.4167  56.4958   7.225   26.55    13.5\n",
            "   8.05     7.7333 110.8833   7.65   227.525   26.2875  14.4542   7.7417\n",
            "   7.8542  26.      13.5     26.2875 151.55    15.2458  49.5042  26.55\n",
            "  52.       9.4833  13.       7.65   227.525   10.5     15.5      7.775\n",
            "  33.       7.0542  13.      13.      53.1      8.6625  21.       7.7375\n",
            "  26.       7.925  211.3375  18.7875   0.      13.      13.      16.1\n",
            "  34.375  512.3292   7.8958   7.8958  30.      78.85   262.375   16.1\n",
            "   7.925   71.      20.25    13.      53.1      7.75    23.      12.475\n",
            "   9.5      7.8958  65.      14.5      7.7958  11.5      8.05    86.5\n",
            "  14.5      7.125    7.2292 120.       7.775   77.9583  39.6      7.75\n",
            "  24.15     8.3625   9.5      7.8542  10.5      7.225   23.       7.75\n",
            "   7.75    12.475    7.7375 211.3375   7.2292  57.      30.      23.45\n",
            "   7.05     7.25     7.4958  29.125   20.575   79.2      7.75    26.\n",
            "  69.55    30.6958   7.8958  13.      25.9292   8.6833   7.2292  24.15\n",
            "  13.      26.25   120.       8.5167   6.975    7.775    0.       7.775\n",
            "  13.      53.1      7.8875  24.15    10.5     31.275    8.05     0.\n",
            "   7.925   37.0042   6.45    27.9     93.5      8.6625   0.      12.475\n",
            "  39.6875   6.95    56.4958  37.0042   7.75    80.      14.4542  18.75\n",
            "   7.2292   7.8542   8.3     83.1583   8.6625   8.05    56.4958  29.7\n",
            "   7.925   10.5     31.       6.4375   8.6625   7.55    69.55     7.8958\n",
            "  33.      89.1042  31.275    7.775   15.2458  39.4     26.       9.35\n",
            " 164.8667  26.55    19.2583   7.2292  14.1083  11.5     25.9292  69.55\n",
            "  13.      13.      13.8583  50.4958   9.5     11.1333   7.8958  52.5542\n",
            "   5.       9.      24.       7.225    9.8458   7.8958   7.8958  83.1583\n",
            "  26.       7.8958  10.5167  10.5      7.05    29.125   13.      30.\n",
            "  23.45    30.       7.75  ]\n"
          ]
        }
      ]
    },
    {
      "cell_type": "markdown",
      "metadata": {
        "id": "qf3xj2T9CRmT"
      },
      "source": [
        "---\n",
        "### Exercise 4 - get some statistics from a numpy array created from a data series\n",
        "\n",
        "This exercise will use data on income in certain US states.  The link is: https://github.com/futureCodersSE/working-with-data/blob/main/Data%20sets/Income-Data.xlsx?raw=true  This spreadsheet just has one sheet.  \n",
        "\n",
        "Write a function which will create a numpy array from the `Age` column in the income dataset and will print the following:\n",
        "\n",
        "*  the average (mean) age of those surveyed  \n",
        "*  the age of the oldest person\n",
        "*  the age of the youngest person\n",
        "\n",
        "TO HELP with this, refer to this helpsheet: http://datacamp-community-prod.s3.amazonaws.com/da466534-51fe-4c6d-b0cb-154f4782eb54 \n",
        "\n",
        "Expected output:  \n",
        "```\n",
        "29.88888888888889\n",
        "42\n",
        "22\n",
        "```\n",
        "\n",
        "     "
      ]
    },
    {
      "cell_type": "code",
      "metadata": {
        "id": "27UpVktxC_VX",
        "colab": {
          "base_uri": "https://localhost:8080/"
        },
        "outputId": "33aea767-164d-4763-face-ba1c3798799f"
      },
      "source": [
        "import pandas as pd\n",
        "import numpy as np\n",
        "\n",
        "df = pd.read_excel('https://github.com/futureCodersSE/working-with-data/blob/main/Data%20sets/Income-Data.xlsx?raw=true')\n",
        "\n",
        "def get_age_stats():\n",
        "  \n",
        "    age_array = df['Age'].to_numpy('float64')\n",
        "    average_mean = age_array.mean()\n",
        "    oldest = int(age_array.max())\n",
        "    youngest = int(age_array.min())\n",
        "\n",
        "    print(age_array, \"\\n\",\"Average mean:\", average_mean, \"\\n\",\"Oldest:\",oldest, \"\\n\",\"Youngest:\",youngest)\n",
        "\n",
        "# run the function and test against the expected output.\n",
        "get_age_stats()"
      ],
      "execution_count": 5,
      "outputs": [
        {
          "output_type": "stream",
          "name": "stdout",
          "text": [
            "[34. 42. 23. 36. 42. 25. 35. 40. 27. 23. 25. 29. 24. 25. 31. 22. 25. 30.] \n",
            " Average mean: 29.88888888888889 \n",
            " Oldest: 42 \n",
            " Youngest: 22\n"
          ]
        }
      ]
    },
    {
      "cell_type": "markdown",
      "metadata": {
        "id": "DDVIHbrnFjwz"
      },
      "source": [
        "---\n",
        "### Exercise 6 - find the mean and standard deviation of wages\n",
        "\n",
        "This exercise will again use data on income in certain US states.  The link is: https://github.com/futureCodersSE/working-with-data/blob/main/Data%20sets/Income-Data.xlsx?raw=true  This spreadsheet just has one sheet.\n",
        "\n",
        "Write a function which will create a numpy array from the `Income` column in the income dataset and will print the following:\n",
        "\n",
        "*  the mean income of those surveyed  \n",
        "*  the standard deviation of income\n",
        "*  the highest income\n",
        "*  the lowest income as a percentage of the mean (lowest / mean * 100) \n",
        "\n",
        "TO HELP with this, refer to this helpsheet: http://datacamp-community-prod.s3.amazonaws.com/da466534-51fe-4c6d-b0cb-154f4782eb54 \n",
        "\n",
        "Expected output:  \n",
        "```\n",
        "63.388888888888886\n",
        "13.936916958961463\n",
        "81\n",
        "34.70639789658195\n",
        "```\n",
        "\n"
      ]
    },
    {
      "cell_type": "code",
      "metadata": {
        "id": "YB72q998EWkF",
        "colab": {
          "base_uri": "https://localhost:8080/"
        },
        "outputId": "2bf8fe48-a43e-457b-ba91-69561a32f860"
      },
      "source": [
        "import pandas as pd\n",
        "import numpy as np\n",
        "\n",
        "df = pd.read_excel('https://github.com/futureCodersSE/working-with-data/blob/main/Data%20sets/Income-Data.xlsx?raw=true')\n",
        "\n",
        "def get_income_stats():\n",
        "  # add your code below to calculate the stats\n",
        "\n",
        "    income_array = df['Income'].to_numpy('float64')\n",
        "    mean_income = income_array.mean()\n",
        "    standard_deviation =  np.std(income_array)\n",
        "    highest = int(income_array.max())\n",
        "    lowest = (income_array.min() / mean_income) * 100\n",
        "    print(income_array,\"\\n\",\"Mean income:\",mean_income,\"\\n\",\"Standard deviation of income:\",standard_deviation,\"\\n\",\"Highest income:\",highest,\"\\n\",\"Lowest income percentage:\",lowest)\n",
        "\n",
        "# run the function and test against expected output\n",
        "get_income_stats()"
      ],
      "execution_count": 6,
      "outputs": [
        {
          "output_type": "stream",
          "name": "stdout",
          "text": [
            "[65. 45. 46. 65. 53. 62. 66. 75. 22. 69. 73. 75. 65. 66. 78. 81. 73. 62.] \n",
            " Mean income: 63.388888888888886 \n",
            " Standard deviation of income: 13.936916958961463 \n",
            " Highest income: 81 \n",
            " Lowest income percentage: 34.70639789658195\n"
          ]
        }
      ]
    },
    {
      "cell_type": "markdown",
      "metadata": {
        "id": "QnOKzp1cHAvH"
      },
      "source": [
        "---\n",
        "### Exercise 7 - finding the correlation between two series\n",
        "\n",
        "Let's find out if there is a strong correlation between Age and Income in the income data set.\n",
        "\n",
        "*  read the Income data into a pandas dataframe\n",
        "*  create a numpy array from the Age column  \n",
        "*  create a numpy array from the Income column  \n",
        "*  use the np.corrcoef(nparray1, nparray2) function to get the Pearson's Correlation Coefficient (the measure of linear correlation between the two data sets) and store it in a variable called **coef**\n",
        "*  print the correlation coefficient output (see below, it will be a 2x2 matrix)\n",
        "*  print the correlation coefficient (which is at position [0][1] (coef[0][1]))\n",
        "\n",
        "\n",
        "Expected output:  \n",
        "```\n",
        "[[ 1.         -0.14787412]\n",
        " [-0.14787412  1.        ]]\n",
        " -0.1478741157606825\n",
        "\n",
        "```\n",
        "The matrix gives 4 values showing the correlation between:\n",
        "\n",
        "```\n",
        "   |    (Age/Age)        (Age/Income)     |\n",
        "   |    (Income/Age)     (Income/Income)  |\n",
        "```\n",
        "This suggests that income decreases with age (the correlation is negative \n",
        "so as one increases the other decreases) but that the correlation is quite weak (an absolute correlation would be 1 and no correlation would be 0)"
      ]
    },
    {
      "cell_type": "code",
      "metadata": {
        "id": "xXsISkA4HibO",
        "colab": {
          "base_uri": "https://localhost:8080/"
        },
        "outputId": "595f195f-6277-4cc1-b33e-9e6d8a9ad97b"
      },
      "source": [
        "import pandas as pd\n",
        "import numpy as np\n",
        "\n",
        "df = pd.read_excel('https://github.com/futureCodersSE/working-with-data/blob/main/Data%20sets/Income-Data.xlsx?raw=true')\n",
        "\n",
        "def get_correlation():\n",
        "  # add your code below to get the correlation figure for age and salary\n",
        "\n",
        "    age_array = df['Age'].to_numpy('float64')\n",
        "    income_array = df['Income'].to_numpy('float64')\n",
        "\n",
        "    coef = np.corrcoef(age_array, income_array)\n",
        "    print(coef)\n",
        "    print(coef[0][1])\n",
        "\n",
        "# run the function and test against expected output\n",
        "get_correlation()"
      ],
      "execution_count": 7,
      "outputs": [
        {
          "output_type": "stream",
          "name": "stdout",
          "text": [
            "[[ 1.         -0.14787412]\n",
            " [-0.14787412  1.        ]]\n",
            "-0.1478741157606825\n"
          ]
        }
      ]
    },
    {
      "cell_type": "markdown",
      "metadata": {
        "id": "OxR5qwoxIhMY"
      },
      "source": [
        "---\n",
        "## Broadcasting an operation across an array\n",
        "\n",
        "Because a numpy array is created from a related set of data, it is useful to be able to operate on every item in the array in the same way.  For instance, the array might hold a set of scores out of 30 and you might want to convert all scores into percentages.\n",
        "\n",
        "We can do this in a number of ways:  \n",
        "1.  Create a new array to store the result after the operation in the new array\n",
        "```\n",
        "scores = np.array([29,25,15,22,30])\n",
        "percentages = scores / 30 * 100\n",
        "print(percentages)\n",
        "```\n",
        "Expected output:\n",
        "```\n",
        "[ 96.66666667  83.33333333  50.          73.33333333 100.        ]\n",
        "```\n",
        "2.  Store the result in the original array\n",
        "```\n",
        "scores = np.array([29,25,15,22,30])\n",
        "scores = scores / 30 * 100\n",
        "print(scores)\n",
        "```\n",
        "Expected output:\n",
        "```\n",
        "[ 96.66666667  83.33333333  50.  73.33333333 100. ]\n",
        "```\n",
        "\n",
        "Give it a try:\n",
        "\n",
        "\n",
        "\n"
      ]
    },
    {
      "cell_type": "code",
      "metadata": {
        "id": "ozhaq9-tJhRy",
        "colab": {
          "base_uri": "https://localhost:8080/"
        },
        "outputId": "555bb4b0-5a93-4136-9718-f13871dce7b5"
      },
      "source": [
        "scores = np.array([29,25,15,22,30])\n",
        "scores = scores / 30 * 100\n",
        "print(scores)"
      ],
      "execution_count": 8,
      "outputs": [
        {
          "output_type": "stream",
          "name": "stdout",
          "text": [
            "[ 96.66666667  83.33333333  50.          73.33333333 100.        ]\n"
          ]
        }
      ]
    },
    {
      "cell_type": "markdown",
      "metadata": {
        "id": "Lg62ACAlLzT8"
      },
      "source": [
        "---\n",
        "### Exercise 8 - increase whole array by 20\n",
        "\n",
        "Write a function which will:\n",
        "*  create a numpy array of 12 numbers\n",
        "*  create a new array adding 20 to each of the items in the first array  \n",
        "*  print the new array\n",
        "\n",
        "Test input:  \n",
        "`[1,2,3,4,5,6,7,8,1,2,3,4]`\n",
        "\n",
        "Expected output:  \n",
        "`[21 22 23 24 25 26 27 28 21 22 23 24]`"
      ]
    },
    {
      "cell_type": "code",
      "metadata": {
        "id": "HloCtcOYMD3W",
        "colab": {
          "base_uri": "https://localhost:8080/"
        },
        "outputId": "41a7ec5f-988d-406d-babd-da72c7508270"
      },
      "source": [
        "# add your code to define the function to increase all values in an array by 20 and then to call the function\n",
        "\n",
        "def increase_array():\n",
        "\n",
        "    num_array = np.array([1,2,3,4,5,6,7,8,1,2,3,4])\n",
        "    new_array = num_array + 20\n",
        "    print(new_array)\n",
        "\n",
        "increase_array()"
      ],
      "execution_count": 9,
      "outputs": [
        {
          "output_type": "stream",
          "name": "stdout",
          "text": [
            "[21 22 23 24 25 26 27 28 21 22 23 24]\n"
          ]
        }
      ]
    },
    {
      "cell_type": "markdown",
      "metadata": {
        "id": "B-p-PF99MECD"
      },
      "source": [
        "---\n",
        "## Conversion of values using broadcasting\n",
        "\n",
        "---\n",
        "### Exercise 9 - convert Titanic fares into 21st century values \n",
        "\n",
        "Write a function which will:  \n",
        "*  create a dataframe from the titanic data set (https://raw.githubusercontent.com/pandas-dev/pandas/master/doc/data/titanic.csv)   \n",
        "*  create a numpy array from the Fare column\n",
        "*  convert the fares into current value (multiply by a factor of 120.7045 - source https://www.in2013dollars.com/uk/inflation/1912?amount=32 *accessed 22/1/2022*)\n",
        "*  print the average fare, the maximum fare and the minimum fare\n",
        "\n",
        "Expected output:  \n",
        "```\n",
        "3887.1928207428173\n",
        "61840.4399214\n",
        "0.0\n",
        "```\n",
        "\n",
        "\n",
        " "
      ]
    },
    {
      "cell_type": "code",
      "metadata": {
        "id": "ahgPUqTjM9it",
        "colab": {
          "base_uri": "https://localhost:8080/"
        },
        "outputId": "782676c0-c81d-4a5d-920d-aae60dae5002"
      },
      "source": [
        "import pandas as pd\n",
        "import numpy as np\n",
        "\n",
        "df = pd.read_csv('https://raw.githubusercontent.com/pandas-dev/pandas/master/doc/data/titanic.csv')\n",
        "\n",
        "def get_current_fares():\n",
        "  # add your code below to get the fares data into a numpy array, convert to today's prices and print stats\n",
        "\n",
        "    fare = df['Fare'].to_numpy('float64')\n",
        "    current_fares = fare * 120.7045\n",
        "    average = current_fares.mean()\n",
        "    max = current_fares.max()\n",
        "    min = current_fares.min()\n",
        "    print(\"Average fare:\",average,\"\\n\",\"Maximum fare:\",max,\"\\n\",\"Minimum fare:\",min)\n",
        "\n",
        "# run the function and test against expected output\n",
        "get_current_fares()"
      ],
      "execution_count": 10,
      "outputs": [
        {
          "output_type": "stream",
          "name": "stdout",
          "text": [
            "Average fare: 3887.1928207428173 \n",
            " Maximum fare: 61840.4399214 \n",
            " Minimum fare: 0.0\n"
          ]
        }
      ]
    },
    {
      "cell_type": "markdown",
      "metadata": {
        "id": "Bv1G1MJpT1U9"
      },
      "source": [
        "---\n",
        "### Exercise 10 - create a new column in the dataframe from a numpy array\n",
        "\n",
        "**Challenging**\n",
        "\n",
        "Write a function which will calculate expected salaries for all in the income data set after an inflation rate of 3.5% (with results in a new numpy array).\n",
        "\n",
        "Just to show the result, calculate and print the Pearson Correlation Coefficient between the salaries series and the inflated salaries series.  We would expect this to be 1 (ie the inflated salary is always 3.5% higher than the current salary) and the exercise is just meant to show that - the statistic has no relevance.  \n",
        "\n",
        "Create a new column in the dataframe from the new numpy array (so that the dataframe now contains the original salaries and the inflated salaries.  \n",
        "(**Recap**:  *to add a new column, just use* `df['new column name']`)  \n",
        "\n",
        "To assign a numpy array to a pandas column use  \n",
        "`df['new column name'] = numpyarrayname.tolist()`\n",
        "\n",
        "Display the new dataframe and print the correlation coefficient.\n",
        "\n",
        "\n",
        "\n",
        "\n",
        "\n"
      ]
    },
    {
      "cell_type": "code",
      "metadata": {
        "id": "x90cXT8NWD40",
        "colab": {
          "base_uri": "https://localhost:8080/",
          "height": 484
        },
        "outputId": "14938d8a-91f1-402f-cf4b-54a9ab235823"
      },
      "source": [
        "import pandas as pd\n",
        "import numpy as np\n",
        "\n",
        "url = \"https://github.com/futureCodersSE/working-with-data/blob/main/Data%20sets/Income-Data.xlsx?raw=true'\"\n",
        "df = pd.read_excel(url,sheet_name=\"income\")\n",
        "\n",
        "def calculate_salaries():\n",
        "\n",
        "        income_array = df['Income'].to_numpy('float64')\n",
        "        inflation_array = (3.5 * income_array) / 100 + income_array\n",
        "        correlation = np.corrcoef(income_array, inflation_array)\n",
        "        df['Inflation Income'] = inflation_array.tolist()\n",
        "        print(\"\\n\",\"Income data:\",income_array,\"\\n\",\"Income after inflation:\",inflation_array,\"\\n\",\"Correlation coefficient:\",\"\\n\",correlation,\"\\n\")\n",
        "        display(df)\n",
        "\n",
        "calculate_salaries()"
      ],
      "execution_count": 11,
      "outputs": [
        {
          "output_type": "stream",
          "name": "stdout",
          "text": [
            "\n",
            " Income data: [69. 35. 69. 54. 78. 54. 67. 35. 78. 67.] \n",
            " Income after inflation: [71.415 36.225 71.415 55.89  80.73  55.89  69.345 36.225 80.73  69.345] \n",
            " Correlation coefficient: \n",
            " [[1. 1.]\n",
            " [1. 1.]] \n",
            "\n"
          ]
        },
        {
          "output_type": "display_data",
          "data": {
            "text/plain": [
              "  State   Age  Income   Pop  Inflation Income\n",
              "0    TX  32.0    69.0  70.0            71.415\n",
              "1    MD  41.0    35.0  33.0            36.225\n",
              "2    IN  32.0    69.0  23.0            71.415\n",
              "3    CA  35.0    54.0  54.0            55.890\n",
              "4    NY  29.0    78.0  11.0            80.730\n",
              "5    TX  35.0    54.0  27.0            55.890\n",
              "6    MD  34.0    67.0  81.0            69.345\n",
              "7    IN  41.0    35.0  24.0            36.225\n",
              "8    CA  29.0    78.0  10.0            80.730\n",
              "9    NY  34.0    67.0   7.0            69.345"
            ],
            "text/html": [
              "\n",
              "  <div id=\"df-88cc14b1-31d3-4bbe-b52b-986b3c1106b0\">\n",
              "    <div class=\"colab-df-container\">\n",
              "      <div>\n",
              "<style scoped>\n",
              "    .dataframe tbody tr th:only-of-type {\n",
              "        vertical-align: middle;\n",
              "    }\n",
              "\n",
              "    .dataframe tbody tr th {\n",
              "        vertical-align: top;\n",
              "    }\n",
              "\n",
              "    .dataframe thead th {\n",
              "        text-align: right;\n",
              "    }\n",
              "</style>\n",
              "<table border=\"1\" class=\"dataframe\">\n",
              "  <thead>\n",
              "    <tr style=\"text-align: right;\">\n",
              "      <th></th>\n",
              "      <th>State</th>\n",
              "      <th>Age</th>\n",
              "      <th>Income</th>\n",
              "      <th>Pop</th>\n",
              "      <th>Inflation Income</th>\n",
              "    </tr>\n",
              "  </thead>\n",
              "  <tbody>\n",
              "    <tr>\n",
              "      <th>0</th>\n",
              "      <td>TX</td>\n",
              "      <td>32.0</td>\n",
              "      <td>69.0</td>\n",
              "      <td>70.0</td>\n",
              "      <td>71.415</td>\n",
              "    </tr>\n",
              "    <tr>\n",
              "      <th>1</th>\n",
              "      <td>MD</td>\n",
              "      <td>41.0</td>\n",
              "      <td>35.0</td>\n",
              "      <td>33.0</td>\n",
              "      <td>36.225</td>\n",
              "    </tr>\n",
              "    <tr>\n",
              "      <th>2</th>\n",
              "      <td>IN</td>\n",
              "      <td>32.0</td>\n",
              "      <td>69.0</td>\n",
              "      <td>23.0</td>\n",
              "      <td>71.415</td>\n",
              "    </tr>\n",
              "    <tr>\n",
              "      <th>3</th>\n",
              "      <td>CA</td>\n",
              "      <td>35.0</td>\n",
              "      <td>54.0</td>\n",
              "      <td>54.0</td>\n",
              "      <td>55.890</td>\n",
              "    </tr>\n",
              "    <tr>\n",
              "      <th>4</th>\n",
              "      <td>NY</td>\n",
              "      <td>29.0</td>\n",
              "      <td>78.0</td>\n",
              "      <td>11.0</td>\n",
              "      <td>80.730</td>\n",
              "    </tr>\n",
              "    <tr>\n",
              "      <th>5</th>\n",
              "      <td>TX</td>\n",
              "      <td>35.0</td>\n",
              "      <td>54.0</td>\n",
              "      <td>27.0</td>\n",
              "      <td>55.890</td>\n",
              "    </tr>\n",
              "    <tr>\n",
              "      <th>6</th>\n",
              "      <td>MD</td>\n",
              "      <td>34.0</td>\n",
              "      <td>67.0</td>\n",
              "      <td>81.0</td>\n",
              "      <td>69.345</td>\n",
              "    </tr>\n",
              "    <tr>\n",
              "      <th>7</th>\n",
              "      <td>IN</td>\n",
              "      <td>41.0</td>\n",
              "      <td>35.0</td>\n",
              "      <td>24.0</td>\n",
              "      <td>36.225</td>\n",
              "    </tr>\n",
              "    <tr>\n",
              "      <th>8</th>\n",
              "      <td>CA</td>\n",
              "      <td>29.0</td>\n",
              "      <td>78.0</td>\n",
              "      <td>10.0</td>\n",
              "      <td>80.730</td>\n",
              "    </tr>\n",
              "    <tr>\n",
              "      <th>9</th>\n",
              "      <td>NY</td>\n",
              "      <td>34.0</td>\n",
              "      <td>67.0</td>\n",
              "      <td>7.0</td>\n",
              "      <td>69.345</td>\n",
              "    </tr>\n",
              "  </tbody>\n",
              "</table>\n",
              "</div>\n",
              "      <button class=\"colab-df-convert\" onclick=\"convertToInteractive('df-88cc14b1-31d3-4bbe-b52b-986b3c1106b0')\"\n",
              "              title=\"Convert this dataframe to an interactive table.\"\n",
              "              style=\"display:none;\">\n",
              "        \n",
              "  <svg xmlns=\"http://www.w3.org/2000/svg\" height=\"24px\"viewBox=\"0 0 24 24\"\n",
              "       width=\"24px\">\n",
              "    <path d=\"M0 0h24v24H0V0z\" fill=\"none\"/>\n",
              "    <path d=\"M18.56 5.44l.94 2.06.94-2.06 2.06-.94-2.06-.94-.94-2.06-.94 2.06-2.06.94zm-11 1L8.5 8.5l.94-2.06 2.06-.94-2.06-.94L8.5 2.5l-.94 2.06-2.06.94zm10 10l.94 2.06.94-2.06 2.06-.94-2.06-.94-.94-2.06-.94 2.06-2.06.94z\"/><path d=\"M17.41 7.96l-1.37-1.37c-.4-.4-.92-.59-1.43-.59-.52 0-1.04.2-1.43.59L10.3 9.45l-7.72 7.72c-.78.78-.78 2.05 0 2.83L4 21.41c.39.39.9.59 1.41.59.51 0 1.02-.2 1.41-.59l7.78-7.78 2.81-2.81c.8-.78.8-2.07 0-2.86zM5.41 20L4 18.59l7.72-7.72 1.47 1.35L5.41 20z\"/>\n",
              "  </svg>\n",
              "      </button>\n",
              "      \n",
              "  <style>\n",
              "    .colab-df-container {\n",
              "      display:flex;\n",
              "      flex-wrap:wrap;\n",
              "      gap: 12px;\n",
              "    }\n",
              "\n",
              "    .colab-df-convert {\n",
              "      background-color: #E8F0FE;\n",
              "      border: none;\n",
              "      border-radius: 50%;\n",
              "      cursor: pointer;\n",
              "      display: none;\n",
              "      fill: #1967D2;\n",
              "      height: 32px;\n",
              "      padding: 0 0 0 0;\n",
              "      width: 32px;\n",
              "    }\n",
              "\n",
              "    .colab-df-convert:hover {\n",
              "      background-color: #E2EBFA;\n",
              "      box-shadow: 0px 1px 2px rgba(60, 64, 67, 0.3), 0px 1px 3px 1px rgba(60, 64, 67, 0.15);\n",
              "      fill: #174EA6;\n",
              "    }\n",
              "\n",
              "    [theme=dark] .colab-df-convert {\n",
              "      background-color: #3B4455;\n",
              "      fill: #D2E3FC;\n",
              "    }\n",
              "\n",
              "    [theme=dark] .colab-df-convert:hover {\n",
              "      background-color: #434B5C;\n",
              "      box-shadow: 0px 1px 3px 1px rgba(0, 0, 0, 0.15);\n",
              "      filter: drop-shadow(0px 1px 2px rgba(0, 0, 0, 0.3));\n",
              "      fill: #FFFFFF;\n",
              "    }\n",
              "  </style>\n",
              "\n",
              "      <script>\n",
              "        const buttonEl =\n",
              "          document.querySelector('#df-88cc14b1-31d3-4bbe-b52b-986b3c1106b0 button.colab-df-convert');\n",
              "        buttonEl.style.display =\n",
              "          google.colab.kernel.accessAllowed ? 'block' : 'none';\n",
              "\n",
              "        async function convertToInteractive(key) {\n",
              "          const element = document.querySelector('#df-88cc14b1-31d3-4bbe-b52b-986b3c1106b0');\n",
              "          const dataTable =\n",
              "            await google.colab.kernel.invokeFunction('convertToInteractive',\n",
              "                                                     [key], {});\n",
              "          if (!dataTable) return;\n",
              "\n",
              "          const docLinkHtml = 'Like what you see? Visit the ' +\n",
              "            '<a target=\"_blank\" href=https://colab.research.google.com/notebooks/data_table.ipynb>data table notebook</a>'\n",
              "            + ' to learn more about interactive tables.';\n",
              "          element.innerHTML = '';\n",
              "          dataTable['output_type'] = 'display_data';\n",
              "          await google.colab.output.renderOutput(dataTable, element);\n",
              "          const docLink = document.createElement('div');\n",
              "          docLink.innerHTML = docLinkHtml;\n",
              "          element.appendChild(docLink);\n",
              "        }\n",
              "      </script>\n",
              "    </div>\n",
              "  </div>\n",
              "  "
            ]
          },
          "metadata": {}
        }
      ]
    },
    {
      "cell_type": "markdown",
      "metadata": {
        "id": "yQyytEbnZ1lw"
      },
      "source": [
        "# Reflection\n",
        "----\n",
        "\n",
        "## What skills have you demonstrated in completing this notebook?"
      ]
    },
    {
      "cell_type": "markdown",
      "metadata": {
        "id": "MM00hR5aZk1-"
      },
      "source": [
        "Your answer: "
      ]
    },
    {
      "cell_type": "markdown",
      "metadata": {
        "id": "Zgexd27sZ1ly"
      },
      "source": [
        "## What caused you the most difficulty?"
      ]
    },
    {
      "cell_type": "markdown",
      "metadata": {
        "id": "-Y_nrVBwaGXr"
      },
      "source": [
        "Your answer: "
      ]
    }
  ]
}