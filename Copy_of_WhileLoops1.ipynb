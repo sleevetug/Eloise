{
  "nbformat": 4,
  "nbformat_minor": 0,
  "metadata": {
    "colab": {
      "name": "Copy of WhileLoops1.ipynb",
      "provenance": [],
      "collapsed_sections": [],
      "include_colab_link": true
    },
    "kernelspec": {
      "name": "python3",
      "display_name": "Python 3"
    }
  },
  "cells": [
    {
      "cell_type": "markdown",
      "metadata": {
        "id": "view-in-github",
        "colab_type": "text"
      },
      "source": [
        "<a href=\"https://colab.research.google.com/github/sleevetug/Eloise/blob/main/Copy_of_WhileLoops1.ipynb\" target=\"_parent\"><img src=\"https://colab.research.google.com/assets/colab-badge.svg\" alt=\"Open In Colab\"/></a>"
      ]
    },
    {
      "cell_type": "markdown",
      "metadata": {
        "id": "OWGIE_ptimyf"
      },
      "source": [
        "# While loops\n",
        "\n",
        "---\n"
      ]
    },
    {
      "cell_type": "markdown",
      "metadata": {
        "id": "Kjh4DVogizl5"
      },
      "source": [
        "There are many situations when an external event (such as an input from the user or finding an invalid data value) will be the thing that will cause the loop to stop.\n",
        "\n",
        "A while loop allows us to say \"repeat these instructions while something has not yet happened, or repeat these instruction while a particular state exists\"\n",
        "\n",
        "For example, we want to ask a user to enter some positive numbers to be added to a total. They will indicate that there are no more numbers by entering -1.\n",
        "\n"
      ]
    },
    {
      "cell_type": "code",
      "metadata": {
        "id": "HieVx4BrtJlU",
        "colab": {
          "base_uri": "https://localhost:8080/"
        },
        "outputId": "6e62aa45-9d67-4939-82d2-c52487fbb4fa"
      },
      "source": [
        "# initialise a total to 0\n",
        "# read the first number\n",
        "# add the number to the total and keep reading next number and adding to total until -1 entered\n",
        "\n",
        "def running_total():\n",
        "    total = 0\n",
        "    num = int(input(\"Enter a number, or type -1 to stop\"))\n",
        "    while num != -1:\n",
        "        total = total + num\n",
        "        num = int(input(\"Enter a number, or type -1 to stop\"))\n",
        "    print(total)\n",
        "\n",
        "running_total()"
      ],
      "execution_count": 3,
      "outputs": [
        {
          "output_type": "stream",
          "name": "stdout",
          "text": [
            "Enter a number, or type -1 to stop3\n",
            "Enter a number, or type -1 to stop7\n",
            "Enter a number, or type -1 to stop-1\n",
            "10\n"
          ]
        }
      ]
    },
    {
      "cell_type": "markdown",
      "metadata": {
        "id": "X8pROiEYtKbA"
      },
      "source": [
        "**Another example**\n",
        "\n",
        "We want to take a number from the user and keep dividing it by 2 until the answer is 1 or less, then to print the number of times it was divided. Try it out. If you enter 8 then the answer should be 3, if you enter 6 the answer will also be 3."
      ]
    },
    {
      "cell_type": "code",
      "metadata": {
        "id": "eL9nJORbtTUb",
        "colab": {
          "base_uri": "https://localhost:8080/"
        },
        "outputId": "b9b39b18-27d2-4797-c933-89a57d710d05"
      },
      "source": [
        "def div_by_two():\n",
        "  num = int(input(\"Enter a number to be processed\"))\n",
        "  number_times_divided = 0\n",
        "  while num > 1:\n",
        "    number_times_divided = number_times_divided + 1\n",
        "    num = num/2\n",
        "  print(\"Your number was divided\", number_times_divided, \"times\") \n",
        "   \n",
        "div_by_two()"
      ],
      "execution_count": 5,
      "outputs": [
        {
          "output_type": "stream",
          "name": "stdout",
          "text": [
            "Enter a number to be processed6\n",
            "Your number was divided 3 times\n"
          ]
        }
      ]
    },
    {
      "cell_type": "markdown",
      "metadata": {
        "id": "jKqqk9LstW83"
      },
      "source": [
        "*Here are some more examples of use of while loops.*\n",
        "\n",
        "### Ensuring valid input  \n",
        "When reading from the keyboard it is important to ensure that the user only enters valid data. You can do this in a number of ways but a while loop can be used to make the user keep entering data until they enter something that is valid."
      ]
    },
    {
      "cell_type": "code",
      "metadata": {
        "id": "7_CoIBfluIUG",
        "colab": {
          "base_uri": "https://localhost:8080/"
        },
        "outputId": "95c9903d-79c9-4f77-82bd-abd9991a0b6f"
      },
      "source": [
        "# read a number from the user\n",
        "# check that the number is a positive integer.  If not, display error messages\n",
        "# keep reading until a positive integer is read\n",
        "\n",
        "def positive_num():\n",
        "  number = -1\n",
        "  while number < 0:\n",
        "    print(\"You must type a number above 0\")\n",
        "    number = int(input(\"Enter a positive number\"))\n",
        "  print(\"Thank you for typing the number\", number)\n",
        "\n",
        "positive_num()"
      ],
      "execution_count": 7,
      "outputs": [
        {
          "output_type": "stream",
          "name": "stdout",
          "text": [
            "You must type a number above 0\n",
            "Enter a positive number-3\n",
            "You must type a number above 0\n",
            "Enter a positive number3\n",
            "Thank you for typing the number 3\n"
          ]
        }
      ]
    },
    {
      "cell_type": "markdown",
      "metadata": {
        "id": "YiO-WgJ8zzjp"
      },
      "source": [
        "### Take home points\n",
        "\n",
        "* An algorithm is the method for solving a particular problem (e.g. getting the right sort of number, selecting a message depending on input, calculating a new figure, etc)\n",
        "* A while loop will keep repeating while the given condition is TRUE\n",
        "* As soon as the condition becomes false the loop will stop executing\n",
        "* We use while loops when we don't necessarily know how many times a loop will need to repeat, but we do know under what conditions it does need to repeat."
      ]
    },
    {
      "cell_type": "markdown",
      "metadata": {
        "id": "4CS8CNrmQUbO"
      },
      "source": [
        "---\n",
        "### Exercise 1 - get a valid username\n",
        "\n",
        "Write a function called **get_username()** which will:  \n",
        "\n",
        "*  assign the value False to a boolean variable called **valid**  \n",
        "*  start a while loop that will continue to loop while `valid` is False  \n",
        "*  in the loop:  ask the user to enter a **username**,  if the `username` is \"user\" assign the value True to `valid`, otherwise print the message \"Incorrect user name\"   \n",
        "*  after the loop, display the message \"Welcome `username`, you will now be asked to enter your password  \n",
        "\n",
        "Test input:  \n",
        "username   \n",
        "user  \n",
        "\n",
        "Expected output:  \n",
        "Incorrect username  \n",
        "Welcome user you will now be asked to enter your password  "
      ]
    },
    {
      "cell_type": "code",
      "metadata": {
        "id": "nwq55T5eRv7_",
        "colab": {
          "base_uri": "https://localhost:8080/"
        },
        "outputId": "1f161867-bd15-4591-c562-f5b847ef56f1"
      },
      "source": [
        "def get_username():\n",
        "\n",
        "    valid = False                                                               #Assigned False to boolean variable valid\n",
        "\n",
        "    while valid == False:                                                       #While the valid is false, keep looping\n",
        "      username = input(\"Please enter a username\")                               #User enters username\n",
        "      if username == \"user\":                                                    #If username = 'user' then valid becomes True and loop ends\n",
        "        valid = True\n",
        "      else:                                                                     #Else print incorrect username and loop again\n",
        "        print(\"Incorrect username.\")\n",
        "    print(\"Welcome\",username,\"you will now be asked to enter your password.\")   #Prints welcome line once loop is over\n",
        "\n",
        "get_username()"
      ],
      "execution_count": 10,
      "outputs": [
        {
          "output_type": "stream",
          "name": "stdout",
          "text": [
            "Please enter a usernameusername\n",
            "Incorrect username.\n",
            "Please enter a usernameuser\n",
            "Welcome user you will now be asked to enter your password.\n"
          ]
        }
      ]
    },
    {
      "cell_type": "markdown",
      "metadata": {
        "id": "FXN6-MtQRwb9"
      },
      "source": [
        "---\n",
        "### Exercise 2 - get a valid passcode  \n",
        "\n",
        "Write a function called **get_passcode()** which will:  \n",
        "\n",
        "*  assign the value False to a boolean variable called **valid**  \n",
        "*  start a while loop that will continue to loop while `valid` is False  \n",
        "*  in the loop:  ask the user to enter a **passcode**, if the `passcode` is \"9876\" assign the value True to `valid`, otherwise print the message \"Incorrect passcode\"  \n",
        "*  after the loop, display the message \"Passcode accepted\"    \n",
        "\n",
        "Test input:  \n",
        "1234   \n",
        "9876  \n",
        "\n",
        "Expected output:  \n",
        "Incorrect passcode  \n",
        "Passcode accepted  "
      ]
    },
    {
      "cell_type": "code",
      "metadata": {
        "id": "a0Z_ACOiSxsP",
        "colab": {
          "base_uri": "https://localhost:8080/"
        },
        "outputId": "2949c23a-fba0-435a-c86f-b8a382a7e4a3"
      },
      "source": [
        "def get_passcode():\n",
        "\n",
        "    valid = False                                             #Assigned False to boolean variable valid\n",
        "\n",
        "    while valid == False:                                     #While the valid is false, keep looping\n",
        "      passcode = input(\"Please enter the passcode: \")         #User enters passcode\n",
        "      if passcode == \"9876\":                                  #If passcode matches '9876' then valid becomes True and loop ends\n",
        "        valid = True\n",
        "      else:\n",
        "        print(\"Incorrect passcode\")                           #Else print incorrect passcode and loop again\n",
        "    print(\"Passcode accepted\")                                #Prints passcode accepted once loop is over\n",
        "\n",
        "get_passcode()"
      ],
      "execution_count": 12,
      "outputs": [
        {
          "output_type": "stream",
          "name": "stdout",
          "text": [
            "Please enter the passcode: 1234\n",
            "Incorrect passcode\n",
            "Please enter the passcode: 9876\n",
            "Passcode accepted\n"
          ]
        }
      ]
    },
    {
      "cell_type": "markdown",
      "metadata": {
        "id": "DMeDXd7TS0ar"
      },
      "source": [
        "---\n",
        "### Exercise 3 - single digit input  \n",
        "\n",
        "Write a function called **get_digit()** which will:  \n",
        "\n",
        "*  assign the value False to a boolean variable called **valid_digit**  \n",
        "*  use a while loop to repeatedly ask the user to enter a single digit until the value they enter is less than 10     \n",
        "*  in the loop:  ask the user to enter a **single_digit**, if the `single_digit` is less than 10 assign the value True to `valid`, otherwise print the message \"Not a digit\"  \n",
        "*  after the loop, display the message \"Single digit entered\"    \n",
        "\n",
        "Test input:  \n",
        "10   \n",
        "9  \n",
        "\n",
        "Expected output:  \n",
        "Not a digit  \n",
        "Single digit entered  "
      ]
    },
    {
      "cell_type": "code",
      "metadata": {
        "id": "4oGXPcmqTtVN",
        "colab": {
          "base_uri": "https://localhost:8080/"
        },
        "outputId": "0105f440-2c6e-4952-869e-3f4db27869cd"
      },
      "source": [
        "def get_digit():\n",
        "\n",
        "    valid_digit = False                                                         #Assigned value to false\n",
        "\n",
        "    while valid_digit == False:\n",
        "      single_digit = int(input(\"Please enter a single digit: \"))                #Asks user to enter a single digit [int converts to integer number]\n",
        "      if single_digit < 10:                                                     #If the digit is less than 10 then value becomes True and the loop ends.\n",
        "        valid_digit = True\n",
        "      else:\n",
        "         print(\"Not a single digit\")                                            #Else print error message and loop again\n",
        "    print(\"Single digit entered\")                                               #Print success message upon end of loop.\n",
        "\n",
        "get_digit()"
      ],
      "execution_count": 17,
      "outputs": [
        {
          "output_type": "stream",
          "name": "stdout",
          "text": [
            "Please enter a single digit: 10\n",
            "Not a single digit\n",
            "Please enter a single digit: 9\n",
            "Single digit entered\n"
          ]
        }
      ]
    },
    {
      "cell_type": "markdown",
      "metadata": {
        "id": "o80s4nzfi37X"
      },
      "source": [
        "---\n",
        "### Exercise 4 - positive number input \n",
        "\n",
        "Write a function called **positive_number()** which will:\n",
        "*  ask the user to enter a **number**, the message should indicate that it must be a positive number  \n",
        "*  if `number` is not positive **(ie. less than 1)** show an error message and ask user to re-enter the `number` \n",
        "*  when the `number` is positive, print the `number`\n",
        "\n",
        "Test input:  \n",
        "-1\n",
        "0\n",
        "1\n",
        "\n",
        "Expected output:  \n",
        "It must be a positive number, try again  \n",
        "It must be a positive number, try again  \n",
        "1  "
      ]
    },
    {
      "cell_type": "code",
      "metadata": {
        "id": "BmZjI8PzwdT-",
        "colab": {
          "base_uri": "https://localhost:8080/"
        },
        "outputId": "0dd592dd-c988-43df-a387-250f76811970"
      },
      "source": [
        "def positive_number():\n",
        "\n",
        "    valid_positive = False                                                                  #Assigned False to boolean variable\n",
        "\n",
        "    while valid_positive == False:\n",
        "      number = int(input(\"Please enter a positive number: \"))                               #Asks user to enter a positive digit [int converts to integer number]\n",
        "      if number >= 1:                                                                       #If the digit is equal or more than 1 then value becomes True and the loop ends.\n",
        "        valid_positive = True\n",
        "        print(number)\n",
        "      else:\n",
        "        print(\"The number you entered is not positive, please enter a positive number.\")    #Else print error message and loop again.\n",
        "\n",
        "positive_number()"
      ],
      "execution_count": 20,
      "outputs": [
        {
          "output_type": "stream",
          "name": "stdout",
          "text": [
            "Please enter a positive number: -1\n",
            "The number you entered is not positive, please enter a positive number.\n",
            "Please enter a positive number: 0\n",
            "The number you entered is not positive, please enter a positive number.\n",
            "Please enter a positive number: 1\n",
            "1\n"
          ]
        }
      ]
    },
    {
      "cell_type": "markdown",
      "metadata": {
        "id": "xPJfd9lUyULa"
      },
      "source": [
        "---\n",
        "### Exercise 5 - getting a number within limits \n",
        "\n",
        "Write a function called **test_limits()** which will:\n",
        "\n",
        "*  ask the user to enter a number between **1 and 31**\n",
        "*  if the number entered is less than 1 or more than 31, display the error message \"Number out of limits\"  \n",
        "*  continue asking the user until a valid input is given \n",
        "*  when a valid number is given, display the message \"Your number was `number`\" and end the program \n",
        "\n",
        "Test input:  \n",
        "40  \n",
        "50  \n",
        "30  \n",
        "\n",
        "Expected output:  \n",
        "Number out of limits  \n",
        "Number out of limits  \n",
        "Your number was 30  \n"
      ]
    },
    {
      "cell_type": "code",
      "metadata": {
        "id": "MVxhTY6zzq8k",
        "colab": {
          "base_uri": "https://localhost:8080/"
        },
        "outputId": "104dd73c-eebb-4627-d823-5bd160c48446"
      },
      "source": [
        "def test_limits():\n",
        "\n",
        "    valid_number = False\n",
        "\n",
        "    while valid_number == False:\n",
        "      number = int(input(\"Please enter a number between 1-31: \"))                          #Asks user to enter a number between 1 and 31 and assigns it to variable: number\n",
        "      if number >= 1:                                                                      #If number is greater or equal to 1 or less than or equal to 31 then value becomes True\n",
        "        if number <= 31:\n",
        "          valid_number = True\n",
        "          print(\"Your number was: \",number)                                                #Prints number\n",
        "        else:\n",
        "          print(number,\"is out of limits, please re-enter a number between 1 and 31.\")     #Else print error message and loop again.\n",
        "\n",
        "test_limits()"
      ],
      "execution_count": 33,
      "outputs": [
        {
          "output_type": "stream",
          "name": "stdout",
          "text": [
            "Please enter a number between 1-31: 40\n",
            "40 is out of limits, please re-enter a number between 1 and 31.\n",
            "Please enter a number between 1-31: 50\n",
            "50 is out of limits, please re-enter a number between 1 and 31.\n",
            "Please enter a number between 1-31: 30\n",
            "Your number was:  30\n"
          ]
        }
      ]
    },
    {
      "cell_type": "markdown",
      "metadata": {
        "id": "WcHiG9AlUPdr"
      },
      "source": [
        "---\n",
        "### Exercise 6 - getting a number outside range\n",
        "\n",
        "Write a function called **test_outlier()** which will:\n",
        "\n",
        "*  ask the user to enter a **number** that is NOT between 40 and 50  \n",
        "*  if the `number` entered is between 40 and 50 (including both 40 and 50, display the error message \"This is not an outlier\"\n",
        "*  continue asking the user until a valid `number` is given\n",
        "*  when a valid `number` is given, display the message \"You have entered an outlier\" and end the program  \n",
        "\n",
        "Test input:  \n",
        "34  \n",
        "\n",
        "Expected output:  \n",
        "You have entered an outlier  \n",
        "\n",
        "Test input:  \n",
        "44  \n",
        "50  \n",
        "40  \n",
        "34  \n",
        "\n",
        "Expected output:  \n",
        "This is not an outlier  \n",
        "This is not an outlier  \n",
        "This is not an outlier  \n",
        "You have entered an outlier  "
      ]
    },
    {
      "cell_type": "code",
      "metadata": {
        "id": "PqvtQXYnUQ8E",
        "colab": {
          "base_uri": "https://localhost:8080/"
        },
        "outputId": "3832ae8e-67a4-4c85-9e5d-42d95d7f20dd"
      },
      "source": [
        "def test_outlier():\n",
        "\n",
        "    valid_outlier = False                                                         #Assigned False value to boolean variable\n",
        "\n",
        "    while valid_outlier == False:                                                 #Start the loop\n",
        "      number = int(input(\"Please enter a number that is NOT between 40-50: \"))    #Asks the user to enter that is NOT between 40-50 and stores it in number variable\n",
        "      if number >= 40:                                                            #If the entered number is greater than or equal to 40 or less than or equal to 50...\n",
        "        if number <=50:\n",
        "          print(number,\"is not an outlier, please try again.\")                    #proceed to error message and loop again\n",
        "      else:\n",
        "        print(\"You have entered an outlier:\",number)                              #Else show success statement and end program.\n",
        "        valid_outlier = True\n",
        "\n",
        "test_outlier()"
      ],
      "execution_count": 95,
      "outputs": [
        {
          "output_type": "stream",
          "name": "stdout",
          "text": [
            "Please enter a number that is NOT between 40-50: 44\n",
            "44 is not an outlier, please try again.\n",
            "Please enter a number that is NOT between 40-50: 50\n",
            "50 is not an outlier, please try again.\n",
            "Please enter a number that is NOT between 40-50: 40\n",
            "40 is not an outlier, please try again.\n",
            "Please enter a number that is NOT between 40-50: 34\n",
            "You have entered an outlier: 34\n"
          ]
        }
      ]
    },
    {
      "cell_type": "markdown",
      "metadata": {
        "id": "53kjOj7nzri1"
      },
      "source": [
        "---\n",
        "### Exercise 7 - multiplying a number to be greater than 20,000\n",
        "\n",
        "Write a function called **increase_to_twenty_thousand()** that will:\n",
        "\n",
        "*  ask the user to input a **number**\n",
        "*  multiply given `number` by itself repeatedly, printing its value each time it changes, until the  number has become greater (>) than 20,000\n",
        "\n",
        "Test input:  \n",
        "5\n",
        "\n",
        "Expected output:  \n",
        "5   \n",
        "25  \n",
        "125  \n",
        "625  \n",
        "3125  \n",
        "15625  \n",
        "78125  \n",
        " "
      ]
    },
    {
      "cell_type": "code",
      "metadata": {
        "id": "9vzat0W21tNA",
        "colab": {
          "base_uri": "https://localhost:8080/"
        },
        "outputId": "3f43df1e-dfcf-4134-810e-cf443f876dc0"
      },
      "source": [
        "def increase_to_twenty_thousand():\n",
        "\n",
        "    number = int(input(\"Please enter a number: \"))                                #User inputs number, assigns to number to the variable\n",
        "    total = 1                                                                     #Sets the total to start at 1 prior to loop\n",
        "\n",
        "    while total < 20000:                                                          #While total is less than 20,000...\n",
        "        total = total * number                                                    #Perform this sum (total * user input number i.e. 5) and loop until total is above 20,000 (each loop total changes)\n",
        "        print(total)                                                              #Prints total.\n",
        "\n",
        "increase_to_twenty_thousand()"
      ],
      "execution_count": 127,
      "outputs": [
        {
          "output_type": "stream",
          "name": "stdout",
          "text": [
            "Please enter a number: 5\n",
            "5\n",
            "25\n",
            "125\n",
            "625\n",
            "3125\n",
            "15625\n",
            "78125\n"
          ]
        }
      ]
    },
    {
      "cell_type": "markdown",
      "metadata": {
        "id": "wepL2Ufj1uvT"
      },
      "source": [
        "---\n",
        "### Exercise 8 - even and odds \n",
        "\n",
        "Write a function called **get_even_number()** that:\n",
        "\n",
        "*  asks the user to input an even number (divisible by 2)\n",
        "*  if an odd number is given, display message \"That number is odd\"\n",
        "*  once valid input given (even number), display message \"Thanks, that number is even\"\n",
        "\n",
        "Test input:  \n",
        "3  \n",
        "1  \n",
        "2  \n",
        "\n",
        "Expected output:  \n",
        "That number is odd  \n",
        "That number is odd  \n",
        "Thanks, that number is even  \n",
        "\n"
      ]
    },
    {
      "cell_type": "code",
      "metadata": {
        "id": "KME9Qfcs45yJ",
        "colab": {
          "base_uri": "https://localhost:8080/"
        },
        "outputId": "71840cba-a2e1-4903-ac7b-0709e8a09b9b"
      },
      "source": [
        "def get_even_number():\n",
        "\n",
        "    valid_even_num = False                                                        #Assigned False to boolean variable\n",
        "    while valid_even_num == False:\n",
        "      number = int(input(\"Please enter a even number: \"))\n",
        "      if number % 2 is 0:                                                         #If entered number is a multiplication of 2 (even)...\n",
        "        print(\"Thanks,\",number,\"is an even number.\")                              #then print success message\n",
        "        valid_even_num = True                                                     #and change value to true which ends the loop\n",
        "      else:\n",
        "        print(number,\"is odd...\")                                                 #Else print a failure message and loop back round.\n",
        "\n",
        "get_even_number()"
      ],
      "execution_count": 58,
      "outputs": [
        {
          "output_type": "stream",
          "name": "stdout",
          "text": [
            "Please enter a even number: 3\n",
            "3 is odd...\n",
            "Please enter a even number: 1\n",
            "1 is odd...\n",
            "Please enter a even number: 2\n",
            "Thanks, 2 is an even number.\n"
          ]
        }
      ]
    },
    {
      "cell_type": "markdown",
      "metadata": {
        "id": "-p3LVygZwd6R"
      },
      "source": [
        "### Exercise 9 - menu choice \n",
        "\n",
        "Write a function called **show_special_numbers()** which will:\n",
        "\n",
        "*  display the following menu \n",
        "\n",
        "*What value would you like to see?*\n",
        "\n",
        "1. *Pi*\n",
        "2. *Plank’s constant*\n",
        "3. *E*\n",
        "4. *Square root of 2*\n",
        "5. *Quit the program*\n",
        "\n",
        "*  ask the user to input which value they would like to see by typing a number between 1 - 5 \n",
        "*  read and process the choice while the user selects anything other than 5 (Quit the program)\n",
        "\n",
        "To process the choice:  \n",
        "* if the number is 1 - print 3.14159265359\n",
        "* if the number is 2 - print 6.62607004 × 10-34 (in Python this would be written 6.62607004E-34\n",
        "* if the number is 3 - print 2.71828\n",
        "* if the number is 4 - print 1.414\n",
        "* if the number is 5 - print the message (\"Thank you for using this program\")\n",
        "* if the number is anything else - print \"Invalid choice\"\n",
        "\n",
        "The program will print the message associated with the menu choice and will then display the menu again and ask the user to select a choice.  \n",
        "\n",
        "When the user enters 5, the program should stop repeating.\n",
        "\n",
        "Test input:    \n",
        "1  \n",
        "4  \n",
        "6  \n",
        "5  \n",
        "\n",
        "Expected output:    \n",
        "3.14159265359  \n",
        "1.414  \n",
        "Invalid choice  \n",
        "Thank you for using this program  "
      ]
    },
    {
      "cell_type": "code",
      "metadata": {
        "id": "EZdR70D-yP_Y",
        "colab": {
          "base_uri": "https://localhost:8080/"
        },
        "outputId": "75809422-b08f-4b11-8dc7-1a27d3cce8b2"
      },
      "source": [
        "def show_special_numbers():\n",
        "\n",
        "    print(\"What value would you like to see? \\n\")                                                                   #Print menu\n",
        "    print(\"1 - Pi\")\n",
        "    print(\"2 - Plank’s constant\")\n",
        "    print(\"3 - E\")\n",
        "    print(\"4 - Square root of 2\")\n",
        "    print(\"5 - Quit the program \\n\")\n",
        "\n",
        "    valid_menu = False                                                                                              #Assigning False value to boolean variable\n",
        "    while valid_menu == False:                                                                                      #While value is False loop through\n",
        "      user_value = int(input(\"Please input the value you would like to see by typing a number between 1 - 5: \"))    #Asking user to enter number between 1-5 and storing it in variable\n",
        "      if user_value == 1:                                                                                           #If variable matches the following numbers it will display the relevant menu info\n",
        "        print(\"3.14159265359\")\n",
        "      if user_value == 2:\n",
        "        print(\"6.62607004E-34\")\n",
        "      if user_value == 3:\n",
        "        print(\"2.71828\")\n",
        "      if user_value == 4:\n",
        "        print(\"1.414\")\n",
        "      if user_value == 5:\n",
        "        valid_menu = True                                                                                           #if 5 is entered the value will become True and the program will close after printing thank you message\n",
        "        print(\"Thank you for using this program.\")\n",
        "      if user_value > 5:\n",
        "        print(\"Invalid choice.\")                                                                                    #Print invalid message and loop back round if below 1 or above 5 is entered.\n",
        "      if user_value < 1:\n",
        "        print(\"Invalid choice.\")\n",
        "\n",
        "show_special_numbers()"
      ],
      "execution_count": 77,
      "outputs": [
        {
          "output_type": "stream",
          "name": "stdout",
          "text": [
            "What value would you like to see? \n",
            "\n",
            "1 - Pi\n",
            "2 - Plank’s constant\n",
            "3 - E\n",
            "4 - Square root of 2\n",
            "5 - Quit the program \n",
            "\n",
            "Please input the value you would like to see by typing a number between 1 - 5: 8\n",
            "Invalid choice.\n",
            "Please input the value you would like to see by typing a number between 1 - 5: 0\n",
            "Invalid choice.\n",
            "Please input the value you would like to see by typing a number between 1 - 5: 1\n",
            "3.14159265359\n",
            "Please input the value you would like to see by typing a number between 1 - 5: 2\n",
            "6.62607004E-34\n",
            "Please input the value you would like to see by typing a number between 1 - 5: 3\n",
            "2.71828\n",
            "Please input the value you would like to see by typing a number between 1 - 5: 4\n",
            "1.414\n",
            "Please input the value you would like to see by typing a number between 1 - 5: 5\n",
            "Thank you for using this program.\n"
          ]
        }
      ]
    },
    {
      "cell_type": "markdown",
      "metadata": {
        "id": "Ig_WrlmPWG4v"
      },
      "source": [
        "---\n",
        "### Exercise 10 - Guess the number  \n",
        "\n",
        "Write a function called **guess_number(number)** which will:  \n",
        "\n",
        "Ask the user to guess the number within 6 attempts.  \n",
        "\n",
        "The function will be given a random number (called `number`) and should use a while loop that will continue while the user has not guessed correctly and has had less than 6 attempts (don't forget to set the number of attempts to 0 before the loop and increment it every time a guess is made).  \n",
        "\n",
        "In the loop:  \n",
        "\n",
        "*  ask the user to enter a **guess**  \n",
        "*  if the `guess` is greater than the `number` print \"Too high\", if less than the number print \"Too low\" or if correct print \"You guessed it\"  \n",
        "*  count the `attempt`  \n",
        "\n",
        "After the loop if the maximum attempts has been reached, print \"Too many attempts\"\n",
        "\n",
        "\n"
      ]
    },
    {
      "cell_type": "code",
      "metadata": {
        "id": "7qagArrHWHGV",
        "colab": {
          "base_uri": "https://localhost:8080/"
        },
        "outputId": "8f377710-2933-4d19-daca-0767a76bff18"
      },
      "source": [
        "from random import randint\n",
        "\n",
        "def guess_number(number):\n",
        "\n",
        "    attempts = 0                                                                  #Set attempts value to 0\n",
        "    valid_guess = False                                                           #Set boolean variable to False\n",
        "\n",
        "    while valid_guess == False and attempts < 6:                                  #While variable is False and attempts are below 6...\n",
        "      guess = int(input(\"Please guess the number: \"))                             #...user enters first guess\n",
        "      attempts = attempts + 1                                                     #Add +1 to attempt each loop\n",
        "      if guess > number:\n",
        "        print(\"Too high\")\n",
        "      if guess < number:\n",
        "        print(\"Too low\")\n",
        "      if guess == number:                                                         #If guess is equal to number..\n",
        "        valid_guess = True\n",
        "        print(\"You guessed it in\",attempts, \"attempts!\")                          #Print success message and change value to True ending the program\n",
        "    if attempts > 6:\n",
        "      print(\"Too many attempts.\")                                                 #If attempts exceeds 6 loops with no success, print failure message.\n",
        "      \n",
        "guess_number(randint(1,50))"
      ],
      "execution_count": 88,
      "outputs": [
        {
          "output_type": "stream",
          "name": "stdout",
          "text": [
            "Please guess the number: 30\n",
            "Too low\n",
            "Please guess the number: 40\n",
            "Too high\n",
            "Please guess the number: 36\n",
            "Too low\n",
            "Please guess the number: 38\n",
            "Too low\n",
            "Please guess the number: 39\n",
            "You guessed it in 5 attempts!\n"
          ]
        }
      ]
    }
  ]
}