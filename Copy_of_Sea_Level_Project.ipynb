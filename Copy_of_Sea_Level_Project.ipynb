{
  "nbformat": 4,
  "nbformat_minor": 0,
  "metadata": {
    "colab": {
      "name": "Copy of Sea-Level-Project.ipynb",
      "provenance": [],
      "collapsed_sections": [],
      "include_colab_link": true
    },
    "kernelspec": {
      "name": "python3",
      "display_name": "Python 3"
    },
    "language_info": {
      "name": "python"
    }
  },
  "cells": [
    {
      "cell_type": "markdown",
      "metadata": {
        "id": "view-in-github",
        "colab_type": "text"
      },
      "source": [
        "<a href=\"https://colab.research.google.com/github/sleevetug/Eloise/blob/main/Copy_of_Sea_Level_Project.ipynb\" target=\"_parent\"><img src=\"https://colab.research.google.com/assets/colab-badge.svg\" alt=\"Open In Colab\"/></a>"
      ]
    },
    {
      "cell_type": "markdown",
      "source": [
        "# Using numpy to look for a correlation between time data and sea level rise\n",
        "---\n",
        "\n",
        "### Data Source\n",
        "Global Average Absolute Sea Level Change, 1880-2014 from the US Environmental Protection Agency using data from CSIRO, 2015; NOAA, 2015.\n",
        "https://datahub.io/core/sea-level-rise\n",
        "\n",
        "The data describes annual sea levels from 1880 to 2013.  Measures are adjusted using two standards: Commonwealth Scientific and Industrial Research Organisation(CSIRO) and National Oceanic and Atmospheric Administration (NOAA)  \n",
        "\n",
        "Raw Data file:  https://raw.githubusercontent.com/freeCodeCamp/boilerplate-sea-level-predictor/master/epa-sea-level.csv\n",
        "\n",
        "For this exercise:\n",
        "*  import the pandas library\n",
        "*  import the numpy library\n",
        "*  read the csv dataset containing data on sea-levels from the year 1880 to 2013 into a dataframe (df)\n",
        "*  use df.head() and df.info() to inspect the data and the column data types\n",
        "\n"
      ],
      "metadata": {
        "id": "jBYNdCdQ9_cu"
      }
    },
    {
      "cell_type": "code",
      "source": [
        "import pandas as pd \n",
        "import numpy as np\n",
        "\n",
        "df = pd.read_csv('https://raw.githubusercontent.com/freeCodeCamp/boilerplate-sea-level-predictor/master/epa-sea-level.csv')\n",
        "df.head()\n",
        "df.info()"
      ],
      "metadata": {
        "id": "r1XUCWHV_Cj9",
        "colab": {
          "base_uri": "https://localhost:8080/"
        },
        "outputId": "9d3e2dee-2a30-4ec9-c2c9-5f91514ee450"
      },
      "execution_count": 2,
      "outputs": [
        {
          "output_type": "stream",
          "name": "stdout",
          "text": [
            "<class 'pandas.core.frame.DataFrame'>\n",
            "RangeIndex: 134 entries, 0 to 133\n",
            "Data columns (total 5 columns):\n",
            " #   Column                    Non-Null Count  Dtype  \n",
            "---  ------                    --------------  -----  \n",
            " 0   Year                      134 non-null    int64  \n",
            " 1   CSIRO Adjusted Sea Level  134 non-null    float64\n",
            " 2   Lower Error Bound         134 non-null    float64\n",
            " 3   Upper Error Bound         134 non-null    float64\n",
            " 4   NOAA Adjusted Sea Level   21 non-null     float64\n",
            "dtypes: float64(4), int64(1)\n",
            "memory usage: 5.4 KB\n"
          ]
        }
      ]
    },
    {
      "cell_type": "markdown",
      "source": [
        "### Then\n",
        "---\n",
        "1.  Calculate some statistics on the level array, eg:\n",
        "*  mean\n",
        "*  standard deviation\n",
        "*  total \n",
        "\n",
        "2.  Use the fact that the arrays are aligned (e.g. the first number in the level array is linked to the first year in the year array and display:\n",
        "\n",
        "*  the year with the biggest rise in level\n",
        "*  the year with the lowest rise in level\n",
        "\n",
        "*(**Hint**:  to do this you can use a new numpy function np.where() )*\n",
        " ```\n",
        "np.where(array == value_to_find)\n",
        "```\n",
        "*There is some reference material [here](https://thispointer.com/find-the-index-of-a-value-in-numpy-array/)*\n",
        "\n",
        "**Note**: ```np.where(...)``` will return a tuple containing all indexes where that value was found.  You can print all, or you can print the first value (it is likely that there will only be one in this case) using [0][0].  *With the correct code you should get an answer of 2012*\n",
        "\n",
        "\n",
        "3.  Calculate the Pearson product-moment correlation coefficient between year and the rise in sea level.  (*Expected output:  0.98 when rounded to 2 decimal places*)"
      ],
      "metadata": {
        "id": "3cf1YPgnBSc2"
      }
    },
    {
      "cell_type": "code",
      "execution_count": 36,
      "metadata": {
        "id": "8VWUtmK4YhoU",
        "colab": {
          "base_uri": "https://localhost:8080/"
        },
        "outputId": "75fbbae6-891d-4c23-e149-b28eb73e747e"
      },
      "outputs": [
        {
          "output_type": "stream",
          "name": "stdout",
          "text": [
            "[ 0.          0.22047244 -0.44094488 -0.23228346  0.59055118  0.53149606\n",
            "  0.43700787  0.21653543  0.2992126   0.36220472  0.44094488  0.37401575\n",
            "  0.5         0.68503937  0.30314961  0.76771654  0.46850394  0.67322835\n",
            "  1.04330709  1.33858268  1.12598425  1.11023622  1.29133858  1.60629921\n",
            "  1.2007874   0.98425197  1.2519685   1.19685039  1.0984252   1.27559055\n",
            "  1.27165354  1.59842519  1.47637795  1.54724409  1.79527559  2.10629921\n",
            "  2.03149606  1.85433071  1.79133858  1.85433071  1.90551181  1.98818897\n",
            "  1.9527559   2.          1.71259842  1.79133858  2.04724409  2.00393701\n",
            "  1.8503937   1.90551181  2.06299212  2.04724409  2.27165354  2.44094488\n",
            "  2.22834645  2.4488189   2.29527559  2.51968504  2.62204724  2.82677165\n",
            "  2.61811023  3.09842519  3.09842519  3.09842519  2.84645669  2.95669291\n",
            "  3.2519685   3.37401574  3.56299212  3.51181102  3.59842519  3.97244094\n",
            "  3.87007874  4.04330708  3.92913385  3.96456693  3.76377952  4.29133858\n",
            "  4.34645669  4.35826771  4.503937    4.74803149  4.54330708  4.48031496\n",
            "  4.16929133  4.61023622  4.39763779  4.4527559   4.48425196  4.7519685\n",
            "  4.67716535  4.88188976  5.24015748  5.003937    5.47244094  5.40944881\n",
            "  5.37007873  5.3031496   5.55511811  5.36220472  5.59842519  6.08661417\n",
            "  5.85826771  6.18897637  6.1535433   5.74803149  5.77165354  5.79527558\n",
            "  5.98031495  6.15748031  6.23228346  6.33464566  6.35826771  6.29133858\n",
            "  6.49999999  6.61811023  6.78740157  7.06692913  6.66535432  7.01181102\n",
            "  7.06299212  7.28740157  7.38188976  7.75984251  7.74015747  7.74409448\n",
            "  7.91732283  7.99606298  8.35039369  8.58661416  8.90157479  8.96456692\n",
            "  9.32677164  8.98031495] \n",
            " \n",
            " [1880 1881 1882 1883 1884 1885 1886 1887 1888 1889 1890 1891 1892 1893\n",
            " 1894 1895 1896 1897 1898 1899 1900 1901 1902 1903 1904 1905 1906 1907\n",
            " 1908 1909 1910 1911 1912 1913 1914 1915 1916 1917 1918 1919 1920 1921\n",
            " 1922 1923 1924 1925 1926 1927 1928 1929 1930 1931 1932 1933 1934 1935\n",
            " 1936 1937 1938 1939 1940 1941 1942 1943 1944 1945 1946 1947 1948 1949\n",
            " 1950 1951 1952 1953 1954 1955 1956 1957 1958 1959 1960 1961 1962 1963\n",
            " 1964 1965 1966 1967 1968 1969 1970 1971 1972 1973 1974 1975 1976 1977\n",
            " 1978 1979 1980 1981 1982 1983 1984 1985 1986 1987 1988 1989 1990 1991\n",
            " 1992 1993 1994 1995 1996 1997 1998 1999 2000 2001 2002 2003 2004 2005\n",
            " 2006 2007 2008 2009 2010 2011 2012 2013] \n",
            " \n",
            "\n",
            "Mean of CSIRO Adjusted Sea Level: 3.650340811880598\n",
            "Standard deviation of CSIRO Adjusted Sea Level: 2.476399631426498\n",
            "Total of CSIRO Adjusted Sea Level: 489.1456687920001\n",
            "Max level of CSIRO Adjusted Sea Level: 9.326771644\n",
            "Tuple of arrays returned for max level:  (array([132]),)\n",
            "The year with the biggest rise in level: 2012\n",
            "Min level of CSIRO Adjusted Sea Level: -0.440944881\n",
            "Tuple of arrays returned for min level:  (array([2]),)\n",
            "The year with the lowest rise in level: 1882\n",
            "\n",
            " The correlation coefficient between year and the rise in sea level: \n",
            " [[1.   0.98]\n",
            " [0.98 1.  ]]\n"
          ]
        }
      ],
      "source": [
        "def calculate_statistics():\n",
        "\n",
        "    sea_level = df['CSIRO Adjusted Sea Level'].to_numpy('float64')\n",
        "    year_array = df['Year'].to_numpy('int64')\n",
        "    level_mean = sea_level.mean()\n",
        "    level_deviation = np.std(sea_level)\n",
        "    level_total = sea_level.sum()\n",
        "    max_level = sea_level.max()\n",
        "    locate_max = np.where(sea_level == 9.326771644)\n",
        "    max_rise = year_array[132]\n",
        "    min_level = sea_level.min()\n",
        "    locate_min = np.where(sea_level == -0.440944881)\n",
        "    min_rise = year_array[2]\n",
        "    coef = np.corrcoef(sea_level, year_array).round(2)\n",
        "\n",
        "    print(sea_level,\"\\n \\n\",year_array,\"\\n \\n\")\n",
        "    print(\"Mean of CSIRO Adjusted Sea Level:\",level_mean)\n",
        "    print(\"Standard deviation of CSIRO Adjusted Sea Level:\",level_deviation)\n",
        "    print(\"Total of CSIRO Adjusted Sea Level:\",level_total)\n",
        "    print(\"Max level of CSIRO Adjusted Sea Level:\", max_level)\n",
        "    print('Tuple of arrays returned for max level: ', locate_max)\n",
        "    print(\"The year with the biggest rise in level:\", max_rise)\n",
        "    print(\"Min level of CSIRO Adjusted Sea Level:\", min_level)\n",
        "    print('Tuple of arrays returned for min level: ', locate_min)\n",
        "    print(\"The year with the lowest rise in level:\", min_rise)\n",
        "    print(\"\\n\",\"The correlation coefficient between year and the rise in sea level:\",\"\\n\",coef)\n",
        "\n",
        "calculate_statistics()"
      ]
    },
    {
      "cell_type": "markdown",
      "metadata": {
        "id": "yQyytEbnZ1lw"
      },
      "source": [
        "# Reflection\n",
        "----\n",
        "\n",
        "## What skills have you demonstrated in completing this notebook?"
      ]
    },
    {
      "cell_type": "markdown",
      "metadata": {
        "id": "MM00hR5aZk1-"
      },
      "source": [
        "Your answer: "
      ]
    },
    {
      "cell_type": "markdown",
      "metadata": {
        "id": "Zgexd27sZ1ly"
      },
      "source": [
        "## What caused you the most difficulty?"
      ]
    },
    {
      "cell_type": "markdown",
      "metadata": {
        "id": "-Y_nrVBwaGXr"
      },
      "source": [
        "Your answer: "
      ]
    }
  ]
}