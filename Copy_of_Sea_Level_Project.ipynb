{
  "nbformat": 4,
  "nbformat_minor": 0,
  "metadata": {
    "colab": {
      "name": "Copy of Sea-Level-Project.ipynb",
      "provenance": [],
      "collapsed_sections": [],
      "include_colab_link": true
    },
    "kernelspec": {
      "name": "python3",
      "display_name": "Python 3"
    },
    "language_info": {
      "name": "python"
    }
  },
  "cells": [
    {
      "cell_type": "markdown",
      "metadata": {
        "id": "view-in-github",
        "colab_type": "text"
      },
      "source": [
        "<a href=\"https://colab.research.google.com/github/sleevetug/Eloise/blob/main/Copy_of_Sea_Level_Project.ipynb\" target=\"_parent\"><img src=\"https://colab.research.google.com/assets/colab-badge.svg\" alt=\"Open In Colab\"/></a>"
      ]
    },
    {
      "cell_type": "markdown",
      "source": [
        "# Using numpy to look for a correlation between time data and sea level rise\n",
        "---\n",
        "\n",
        "### Data Source\n",
        "Global Average Absolute Sea Level Change, 1880-2014 from the US Environmental Protection Agency using data from CSIRO, 2015; NOAA, 2015.\n",
        "https://datahub.io/core/sea-level-rise\n",
        "\n",
        "The data describes annual sea levels from 1880 to 2013.  Measures are adjusted using two standards: Commonwealth Scientific and Industrial Research Organisation(CSIRO) and National Oceanic and Atmospheric Administration (NOAA)  \n",
        "\n",
        "Raw Data file:  https://raw.githubusercontent.com/freeCodeCamp/boilerplate-sea-level-predictor/master/epa-sea-level.csv\n",
        "\n",
        "For this exercise:\n",
        "*  import the pandas library\n",
        "*  import the numpy library\n",
        "*  read the csv dataset containing data on sea-levels from the year 1880 to 2013 into a dataframe (df)\n",
        "*  use df.head() and df.info() to inspect the data and the column data types\n",
        "\n"
      ],
      "metadata": {
        "id": "jBYNdCdQ9_cu"
      }
    },
    {
      "cell_type": "code",
      "source": [
        "import pandas as pd \n",
        "import numpy as np\n",
        "\n",
        "df = pd.read_csv('https://raw.githubusercontent.com/freeCodeCamp/boilerplate-sea-level-predictor/master/epa-sea-level.csv')\n",
        "df.head()\n",
        "df.info()"
      ],
      "metadata": {
        "id": "r1XUCWHV_Cj9",
        "colab": {
          "base_uri": "https://localhost:8080/"
        },
        "outputId": "9d3e2dee-2a30-4ec9-c2c9-5f91514ee450"
      },
      "execution_count": 2,
      "outputs": [
        {
          "output_type": "stream",
          "name": "stdout",
          "text": [
            "<class 'pandas.core.frame.DataFrame'>\n",
            "RangeIndex: 134 entries, 0 to 133\n",
            "Data columns (total 5 columns):\n",
            " #   Column                    Non-Null Count  Dtype  \n",
            "---  ------                    --------------  -----  \n",
            " 0   Year                      134 non-null    int64  \n",
            " 1   CSIRO Adjusted Sea Level  134 non-null    float64\n",
            " 2   Lower Error Bound         134 non-null    float64\n",
            " 3   Upper Error Bound         134 non-null    float64\n",
            " 4   NOAA Adjusted Sea Level   21 non-null     float64\n",
            "dtypes: float64(4), int64(1)\n",
            "memory usage: 5.4 KB\n"
          ]
        }
      ]
    },
    {
      "cell_type": "markdown",
      "source": [
        "### Then\n",
        "---\n",
        "1.  Calculate some statistics on the level array, eg:\n",
        "*  mean\n",
        "*  standard deviation\n",
        "*  total \n",
        "\n",
        "2.  Use the fact that the arrays are aligned (e.g. the first number in the level array is linked to the first year in the year array and display:\n",
        "\n",
        "*  the year with the biggest rise in level\n",
        "*  the year with the lowest rise in level\n",
        "\n",
        "*(**Hint**:  to do this you can use a new numpy function np.where() )*\n",
        " ```\n",
        "np.where(array == value_to_find)\n",
        "```\n",
        "*There is some reference material [here](https://thispointer.com/find-the-index-of-a-value-in-numpy-array/)*\n",
        "\n",
        "**Note**: ```np.where(...)``` will return a tuple containing all indexes where that value was found.  You can print all, or you can print the first value (it is likely that there will only be one in this case) using [0][0].  *With the correct code you should get an answer of 2012*\n",
        "\n",
        "\n",
        "3.  Calculate the Pearson product-moment correlation coefficient between year and the rise in sea level.  (*Expected output:  0.98 when rounded to 2 decimal places*)"
      ],
      "metadata": {
        "id": "3cf1YPgnBSc2"
      }
    },
    {
      "cell_type": "code",
      "execution_count": 37,
      "metadata": {
        "id": "8VWUtmK4YhoU",
        "colab": {
          "base_uri": "https://localhost:8080/"
        },
        "outputId": "4ded4837-9a81-4dc7-be88-ccff7f882450"
      },
      "outputs": [
        {
          "output_type": "stream",
          "name": "stdout",
          "text": [
            "Mean of CSIRO Adjusted Sea Level: 3.650340811880598\n",
            "Standard deviation of CSIRO Adjusted Sea Level: 2.476399631426498\n",
            "Total of CSIRO Adjusted Sea Level: 489.1456687920001\n",
            "Max level of CSIRO Adjusted Sea Level: 9.326771644\n",
            "Tuple of arrays returned for max level:  (array([132]),)\n",
            "The year with the biggest rise in level: 2012\n",
            "Min level of CSIRO Adjusted Sea Level: -0.440944881\n",
            "Tuple of arrays returned for min level:  (array([2]),)\n",
            "The year with the lowest rise in level: 1882\n",
            "\n",
            " The correlation coefficient between year and the rise in sea level: \n",
            " [[1.   0.98]\n",
            " [0.98 1.  ]]\n"
          ]
        }
      ],
      "source": [
        "def calculate_statistics():\n",
        "\n",
        "    sea_level = df['CSIRO Adjusted Sea Level'].to_numpy('float64')\n",
        "    year_array = df['Year'].to_numpy('int64')\n",
        "    level_mean = sea_level.mean()\n",
        "    level_deviation = np.std(sea_level)\n",
        "    level_total = sea_level.sum()\n",
        "    max_level = sea_level.max()\n",
        "    locate_max = np.where(sea_level == 9.326771644)\n",
        "    max_rise = year_array[132]\n",
        "    min_level = sea_level.min()\n",
        "    locate_min = np.where(sea_level == -0.440944881)\n",
        "    min_rise = year_array[2]\n",
        "    coef = np.corrcoef(sea_level, year_array).round(2)\n",
        "\n",
        "    #print(sea_level,\"\\n \\n\",year_array,\"\\n \\n\")\n",
        "    print(\"Mean of CSIRO Adjusted Sea Level:\",level_mean)\n",
        "    print(\"Standard deviation of CSIRO Adjusted Sea Level:\",level_deviation)\n",
        "    print(\"Total of CSIRO Adjusted Sea Level:\",level_total)\n",
        "    print(\"Max level of CSIRO Adjusted Sea Level:\", max_level)\n",
        "    print('Tuple of arrays returned for max level: ', locate_max)\n",
        "    print(\"The year with the biggest rise in level:\", max_rise)\n",
        "    print(\"Min level of CSIRO Adjusted Sea Level:\", min_level)\n",
        "    print('Tuple of arrays returned for min level: ', locate_min)\n",
        "    print(\"The year with the lowest rise in level:\", min_rise)\n",
        "    print(\"\\n\",\"The correlation coefficient between year and the rise in sea level:\",\"\\n\",coef)\n",
        "\n",
        "calculate_statistics()"
      ]
    },
    {
      "cell_type": "markdown",
      "metadata": {
        "id": "yQyytEbnZ1lw"
      },
      "source": [
        "# Reflection\n",
        "----\n",
        "\n",
        "## What skills have you demonstrated in completing this notebook?"
      ]
    },
    {
      "cell_type": "markdown",
      "metadata": {
        "id": "MM00hR5aZk1-"
      },
      "source": [
        "Your answer: "
      ]
    },
    {
      "cell_type": "markdown",
      "metadata": {
        "id": "Zgexd27sZ1ly"
      },
      "source": [
        "## What caused you the most difficulty?"
      ]
    },
    {
      "cell_type": "markdown",
      "metadata": {
        "id": "-Y_nrVBwaGXr"
      },
      "source": [
        "Your answer: "
      ]
    }
  ]
}